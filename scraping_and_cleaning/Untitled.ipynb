{
 "cells": [
  {
   "cell_type": "code",
   "execution_count": null,
   "metadata": {},
   "outputs": [],
   "source": []
  },
  {
   "cell_type": "code",
   "execution_count": 70,
   "metadata": {},
   "outputs": [],
   "source": [
    "def html_li_to_df(soup, list_class):\n",
    "    \"\"\"\n",
    "    input: beautiful soup object, the class assigned to the list you are looking for.\n",
    "    output: dataframe with values assigned to different items\n",
    "    \"\"\"\n",
    "\n",
    "    ### Find the list element\n",
    "\n",
    "    div = soup.find(class_=\"details details_with_poster clearfix\") #grab top header\n",
    "    event_info_elem = div.find('ul') #grab first list in top header\n",
    "\n",
    "    ### Find the list items in the element\n",
    "\n",
    "    list_items = event_info_elem.find_all('li')\n",
    "    list_items = [item.get_text() for item in list_items]\n",
    "    list_items\n",
    "\n",
    "    ### Insert a 'header' label.\n",
    "    #### The info in the header may be useful later on\n",
    "\n",
    "    item_list = [item.split(':\\n') for item in list_items]\n",
    "    item_list[0].insert(0, 'header')\n",
    "    item_list\n",
    "\n",
    "    ### Encapsulate the second element of each row in a list\n",
    "    #### This allows them to be made into a dataframe easily\n",
    "\n",
    "    item_list = [[item[0], [item[1].strip()]] for item in item_list]\n",
    "    item_list\n",
    "\n",
    "    ### Convert to dataframe\n",
    "\n",
    "    list_df = pd.DataFrame(dict(item_list))\n",
    "    list_df"
   ]
  }
 ],
 "metadata": {
  "kernelspec": {
   "display_name": "Python 3",
   "language": "python",
   "name": "python3"
  },
  "language_info": {
   "codemirror_mode": {
    "name": "ipython",
    "version": 3
   },
   "file_extension": ".py",
   "mimetype": "text/x-python",
   "name": "python",
   "nbconvert_exporter": "python",
   "pygments_lexer": "ipython3",
   "version": "3.7.6"
  }
 },
 "nbformat": 4,
 "nbformat_minor": 4
}
