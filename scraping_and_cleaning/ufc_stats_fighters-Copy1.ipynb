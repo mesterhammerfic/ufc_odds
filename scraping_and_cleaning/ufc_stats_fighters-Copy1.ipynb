{
 "cells": [
  {
   "cell_type": "code",
   "execution_count": 1,
   "metadata": {},
   "outputs": [],
   "source": [
    "%load_ext autoreload\n",
    "%autoreload 2\n",
    "\n",
    "import os\n",
    "import sys\n",
    "\n",
    "module_path = os.path.abspath(os.path.join(os.pardir))\n",
    "if module_path not in sys.path:\n",
    "    sys.path.append(module_path)\n",
    "\n",
    "from bs4 import BeautifulSoup\n",
    "import requests\n",
    "import pandas as pd\n",
    "import src\n",
    "from src import object_test\n",
    "from src import open_page as op"
   ]
  },
  {
   "cell_type": "markdown",
   "metadata": {},
   "source": [
    "# Finding all fighters"
   ]
  },
  {
   "cell_type": "code",
   "execution_count": 3,
   "metadata": {},
   "outputs": [
    {
     "data": {
      "text/html": [
       "<div>\n",
       "<style scoped>\n",
       "    .dataframe tbody tr th:only-of-type {\n",
       "        vertical-align: middle;\n",
       "    }\n",
       "\n",
       "    .dataframe tbody tr th {\n",
       "        vertical-align: top;\n",
       "    }\n",
       "\n",
       "    .dataframe thead th {\n",
       "        text-align: right;\n",
       "    }\n",
       "</style>\n",
       "<table border=\"1\" class=\"dataframe\">\n",
       "  <thead>\n",
       "    <tr style=\"text-align: right;\">\n",
       "      <th></th>\n",
       "      <th>0</th>\n",
       "    </tr>\n",
       "  </thead>\n",
       "  <tbody>\n",
       "    <tr>\n",
       "      <th>0</th>\n",
       "      <td>http://www.ufcstats.com/fighter-details/d365ee...</td>\n",
       "    </tr>\n",
       "    <tr>\n",
       "      <th>1</th>\n",
       "      <td>http://www.ufcstats.com/fighter-details/f7b4cb...</td>\n",
       "    </tr>\n",
       "    <tr>\n",
       "      <th>2</th>\n",
       "      <td>http://www.ufcstats.com/fighter-details/aa171d...</td>\n",
       "    </tr>\n",
       "    <tr>\n",
       "      <th>3</th>\n",
       "      <td>http://www.ufcstats.com/fighter-details/52cae5...</td>\n",
       "    </tr>\n",
       "    <tr>\n",
       "      <th>4</th>\n",
       "      <td>http://www.ufcstats.com/fighter-details/2a8502...</td>\n",
       "    </tr>\n",
       "    <tr>\n",
       "      <th>...</th>\n",
       "      <td>...</td>\n",
       "    </tr>\n",
       "    <tr>\n",
       "      <th>3426</th>\n",
       "      <td>http://www.ufcstats.com/fighter-details/31d744...</td>\n",
       "    </tr>\n",
       "    <tr>\n",
       "      <th>3427</th>\n",
       "      <td>http://www.ufcstats.com/fighter-details/f4c40f...</td>\n",
       "    </tr>\n",
       "    <tr>\n",
       "      <th>3428</th>\n",
       "      <td>http://www.ufcstats.com/fighter-details/28c55b...</td>\n",
       "    </tr>\n",
       "    <tr>\n",
       "      <th>3429</th>\n",
       "      <td>http://www.ufcstats.com/fighter-details/062e57...</td>\n",
       "    </tr>\n",
       "    <tr>\n",
       "      <th>3430</th>\n",
       "      <td>http://www.ufcstats.com/fighter-details/2719f3...</td>\n",
       "    </tr>\n",
       "  </tbody>\n",
       "</table>\n",
       "<p>3431 rows × 1 columns</p>\n",
       "</div>"
      ],
      "text/plain": [
       "                                                      0\n",
       "0     http://www.ufcstats.com/fighter-details/d365ee...\n",
       "1     http://www.ufcstats.com/fighter-details/f7b4cb...\n",
       "2     http://www.ufcstats.com/fighter-details/aa171d...\n",
       "3     http://www.ufcstats.com/fighter-details/52cae5...\n",
       "4     http://www.ufcstats.com/fighter-details/2a8502...\n",
       "...                                                 ...\n",
       "3426  http://www.ufcstats.com/fighter-details/31d744...\n",
       "3427  http://www.ufcstats.com/fighter-details/f4c40f...\n",
       "3428  http://www.ufcstats.com/fighter-details/28c55b...\n",
       "3429  http://www.ufcstats.com/fighter-details/062e57...\n",
       "3430  http://www.ufcstats.com/fighter-details/2719f3...\n",
       "\n",
       "[3431 rows x 1 columns]"
      ]
     },
     "execution_count": 3,
     "metadata": {},
     "output_type": "execute_result"
    }
   ],
   "source": [
    "list_of_links = pd.read_csv('../data/fighter_links.csv', index_col=0)\n",
    "list_of_links"
   ]
  },
  {
   "cell_type": "code",
   "execution_count": 8,
   "metadata": {},
   "outputs": [
    {
     "name": "stdout",
     "output_type": "stream",
     "text": [
      "New Ip Address 185.220.101.203\n"
     ]
    },
    {
     "data": {
      "text/plain": [
       "2"
      ]
     },
     "execution_count": 8,
     "metadata": {},
     "output_type": "execute_result"
    }
   ],
   "source": [
    "page = op.open_link(list_of_links['0'][0])\n",
    "soup = BeautifulSoup(page)\n",
    "rows = soup.find_all(class_=\"b-fight-details__table-row\")[1:]\n",
    "len(rows)"
   ]
  },
  {
   "cell_type": "code",
   "execution_count": 14,
   "metadata": {},
   "outputs": [],
   "source": [
    "links = [row.find_all('a')[3] for row in rows]\n",
    "links = [link.get('href') for link in links]"
   ]
  },
  {
   "cell_type": "code",
   "execution_count": 15,
   "metadata": {},
   "outputs": [
    {
     "data": {
      "text/plain": [
       "['http://www.ufcstats.com/event-details/8ddf9c51c5fdea75',\n",
       " 'http://www.ufcstats.com/event-details/4f95f74620a6b7a4']"
      ]
     },
     "execution_count": 15,
     "metadata": {},
     "output_type": "execute_result"
    }
   ],
   "source": [
    "links"
   ]
  },
  {
   "cell_type": "code",
   "execution_count": 12,
   "metadata": {},
   "outputs": [
    {
     "data": {
      "text/plain": [
       "9"
      ]
     },
     "execution_count": 12,
     "metadata": {},
     "output_type": "execute_result"
    }
   ],
   "source": [
    "fighter_links = [row.find('a').get('href') for row in rows]\n",
    "len(fighter_links)"
   ]
  },
  {
   "cell_type": "code",
   "execution_count": 14,
   "metadata": {},
   "outputs": [
    {
     "data": {
      "text/plain": [
       "['http://www.ufcstats.com/fighter-details/d365ee924f5cc3fc',\n",
       " 'http://www.ufcstats.com/fighter-details/f7b4cbe93f3bac06',\n",
       " 'http://www.ufcstats.com/fighter-details/aa171d55d4b5208f',\n",
       " 'http://www.ufcstats.com/fighter-details/52cae54377b433b7',\n",
       " 'http://www.ufcstats.com/fighter-details/2a8502954f49e682',\n",
       " 'http://www.ufcstats.com/fighter-details/ddbe4fa2ea573393',\n",
       " 'http://www.ufcstats.com/fighter-details/cc23ed51619421a3',\n",
       " 'http://www.ufcstats.com/fighter-details/5e84a859c6a82288',\n",
       " 'http://www.ufcstats.com/fighter-details/36549928f90f1d36']"
      ]
     },
     "execution_count": 14,
     "metadata": {},
     "output_type": "execute_result"
    }
   ],
   "source": [
    "fighter_links"
   ]
  },
  {
   "cell_type": "code",
   "execution_count": 15,
   "metadata": {},
   "outputs": [
    {
     "name": "stdout",
     "output_type": "stream",
     "text": [
      "New Ip Address 199.249.230.162\n",
      "New Ip Address 23.129.64.191\n",
      "New Ip Address 185.220.101.143\n",
      "New Ip Address 185.107.83.71\n",
      "New Ip Address 89.234.157.254\n",
      "New Ip Address 46.232.251.191\n",
      "New Ip Address 46.232.251.191\n",
      "New Ip Address 185.220.101.131\n",
      "New Ip Address 150.129.8.5\n",
      "New Ip Address 185.220.100.240\n",
      "New Ip Address 45.66.35.35\n",
      "New Ip Address 209.95.51.11\n",
      "New Ip Address 162.247.74.217\n",
      "New Ip Address 150.129.8.17\n",
      "New Ip Address 199.249.230.78\n",
      "New Ip Address 185.220.102.4\n",
      "New Ip Address 199.249.230.101\n",
      "New Ip Address 185.220.101.203\n",
      "New Ip Address 51.255.77.78\n",
      "New Ip Address 185.220.102.4\n",
      "New Ip Address 46.166.139.111\n",
      "New Ip Address 94.142.244.16\n",
      "New Ip Address 158.174.122.199\n",
      "New Ip Address 185.220.100.251\n",
      "New Ip Address 185.220.100.246\n",
      "New Ip Address 109.70.100.33\n"
     ]
    }
   ],
   "source": [
    "all_fighter_links = []\n",
    "for link in list_of_links:\n",
    "    page = op.open_link(link, async_=False)\n",
    "    soup = BeautifulSoup(page)\n",
    "    rows = soup.find_all(class_=\"b-statistics__table-row\")[2:]\n",
    "    fighter_links = [row.find('a').get('href') for row in rows]\n",
    "    all_fighter_links.append(fighter_links)"
   ]
  },
  {
   "cell_type": "code",
   "execution_count": 16,
   "metadata": {},
   "outputs": [
    {
     "data": {
      "text/plain": [
       "26"
      ]
     },
     "execution_count": 16,
     "metadata": {},
     "output_type": "execute_result"
    }
   ],
   "source": [
    "len(all_fighter_links)"
   ]
  },
  {
   "cell_type": "code",
   "execution_count": 17,
   "metadata": {},
   "outputs": [],
   "source": [
    "final_list = []\n",
    "for list_ in all_fighter_links:\n",
    "    final_list+=list_"
   ]
  },
  {
   "cell_type": "code",
   "execution_count": 18,
   "metadata": {},
   "outputs": [
    {
     "data": {
      "text/plain": [
       "3431"
      ]
     },
     "execution_count": 18,
     "metadata": {},
     "output_type": "execute_result"
    }
   ],
   "source": [
    "len(final_list)"
   ]
  },
  {
   "cell_type": "code",
   "execution_count": null,
   "metadata": {},
   "outputs": [],
   "source": []
  }
 ],
 "metadata": {
  "kernelspec": {
   "display_name": "Python 3",
   "language": "python",
   "name": "python3"
  },
  "language_info": {
   "codemirror_mode": {
    "name": "ipython",
    "version": 3
   },
   "file_extension": ".py",
   "mimetype": "text/x-python",
   "name": "python",
   "nbconvert_exporter": "python",
   "pygments_lexer": "ipython3",
   "version": "3.8.1"
  }
 },
 "nbformat": 4,
 "nbformat_minor": 4
}
