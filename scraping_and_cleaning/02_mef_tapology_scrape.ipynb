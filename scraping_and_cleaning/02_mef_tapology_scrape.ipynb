{
 "cells": [
  {
   "cell_type": "markdown",
   "metadata": {},
   "source": [
    "# Scope\n",
    "\n",
    "This notebook focuses on scraping individual match statistics from an event page on tapology.com. I'll take in a tapolgy event page and output a dataframe containing the stats for each individual match."
   ]
  },
  {
   "cell_type": "markdown",
   "metadata": {},
   "source": [
    "## Which events?\n",
    "\n",
    "I don't want to look at all ufc events right now, so I'll just check how many events happened in the last 10 years. First I'm going to make my date row a date time object."
   ]
  },
  {
   "cell_type": "code",
   "execution_count": 1,
   "metadata": {},
   "outputs": [],
   "source": [
    "%load_ext autoreload\n",
    "%autoreload 2\n",
    "\n",
    "from bs4 import BeautifulSoup\n",
    "import requests\n",
    "import pandas as pd\n",
    "import src\n",
    "\n",
    "previous_ufc = pd.read_csv('previous_ufc.csv', index_col = 0)"
   ]
  },
  {
   "cell_type": "code",
   "execution_count": 2,
   "metadata": {},
   "outputs": [
    {
     "data": {
      "text/html": [
       "<div>\n",
       "<style scoped>\n",
       "    .dataframe tbody tr th:only-of-type {\n",
       "        vertical-align: middle;\n",
       "    }\n",
       "\n",
       "    .dataframe tbody tr th {\n",
       "        vertical-align: top;\n",
       "    }\n",
       "\n",
       "    .dataframe thead th {\n",
       "        text-align: right;\n",
       "    }\n",
       "</style>\n",
       "<table border=\"1\" class=\"dataframe\">\n",
       "  <thead>\n",
       "    <tr style=\"text-align: right;\">\n",
       "      <th></th>\n",
       "      <th>event</th>\n",
       "      <th>name</th>\n",
       "      <th>date</th>\n",
       "      <th>bouts</th>\n",
       "      <th>link</th>\n",
       "    </tr>\n",
       "  </thead>\n",
       "  <tbody>\n",
       "    <tr>\n",
       "      <th>0</th>\n",
       "      <td>UFC Fight Night</td>\n",
       "      <td>Woodley vs. Burns</td>\n",
       "      <td>2020.05.30</td>\n",
       "      <td>11</td>\n",
       "      <td>/fightcenter/events/69127-ufc-fight-night</td>\n",
       "    </tr>\n",
       "    <tr>\n",
       "      <th>1</th>\n",
       "      <td>UFC Fight Night</td>\n",
       "      <td>Overeem vs. Harris</td>\n",
       "      <td>2020.05.16</td>\n",
       "      <td>11</td>\n",
       "      <td>/fightcenter/events/67412-ufc-on-espn-33</td>\n",
       "    </tr>\n",
       "    <tr>\n",
       "      <th>2</th>\n",
       "      <td>UFC Fight Night</td>\n",
       "      <td>Smith vs. Teixeira</td>\n",
       "      <td>2020.05.13</td>\n",
       "      <td>10</td>\n",
       "      <td>/fightcenter/events/69126-ufc-fight-night</td>\n",
       "    </tr>\n",
       "    <tr>\n",
       "      <th>3</th>\n",
       "      <td>UFC 249</td>\n",
       "      <td>Ferguson vs. Gaethje</td>\n",
       "      <td>2020.05.09</td>\n",
       "      <td>11</td>\n",
       "      <td>/fightcenter/events/66312-ufc-250</td>\n",
       "    </tr>\n",
       "    <tr>\n",
       "      <th>4</th>\n",
       "      <td>UFC on ESPN+ 32 (cancelled)</td>\n",
       "      <td>NaN</td>\n",
       "      <td>2020.05.02</td>\n",
       "      <td>0</td>\n",
       "      <td>/fightcenter/events/67068-ufc-on-espn-32</td>\n",
       "    </tr>\n",
       "  </tbody>\n",
       "</table>\n",
       "</div>"
      ],
      "text/plain": [
       "                         event                  name        date  bouts  \\\n",
       "0              UFC Fight Night     Woodley vs. Burns  2020.05.30     11   \n",
       "1              UFC Fight Night    Overeem vs. Harris  2020.05.16     11   \n",
       "2              UFC Fight Night    Smith vs. Teixeira  2020.05.13     10   \n",
       "3                      UFC 249  Ferguson vs. Gaethje  2020.05.09     11   \n",
       "4  UFC on ESPN+ 32 (cancelled)                   NaN  2020.05.02      0   \n",
       "\n",
       "                                        link  \n",
       "0  /fightcenter/events/69127-ufc-fight-night  \n",
       "1   /fightcenter/events/67412-ufc-on-espn-33  \n",
       "2  /fightcenter/events/69126-ufc-fight-night  \n",
       "3          /fightcenter/events/66312-ufc-250  \n",
       "4   /fightcenter/events/67068-ufc-on-espn-32  "
      ]
     },
     "execution_count": 2,
     "metadata": {},
     "output_type": "execute_result"
    }
   ],
   "source": [
    "previous_ufc.head()"
   ]
  },
  {
   "cell_type": "code",
   "execution_count": 3,
   "metadata": {},
   "outputs": [
    {
     "name": "stdout",
     "output_type": "stream",
     "text": [
      "<class 'pandas.core.frame.DataFrame'>\n",
      "Int64Index: 514 entries, 0 to 513\n",
      "Data columns (total 5 columns):\n",
      " #   Column  Non-Null Count  Dtype \n",
      "---  ------  --------------  ----- \n",
      " 0   event   514 non-null    object\n",
      " 1   name    501 non-null    object\n",
      " 2   date    514 non-null    object\n",
      " 3   bouts   514 non-null    int64 \n",
      " 4   link    514 non-null    object\n",
      "dtypes: int64(1), object(4)\n",
      "memory usage: 24.1+ KB\n"
     ]
    }
   ],
   "source": [
    "previous_ufc.info()"
   ]
  },
  {
   "cell_type": "code",
   "execution_count": 4,
   "metadata": {},
   "outputs": [],
   "source": [
    "previous_ufc['date'] = pd.to_datetime(previous_ufc['date'])"
   ]
  },
  {
   "cell_type": "code",
   "execution_count": 5,
   "metadata": {},
   "outputs": [
    {
     "name": "stdout",
     "output_type": "stream",
     "text": [
      "<class 'pandas.core.frame.DataFrame'>\n",
      "Int64Index: 514 entries, 0 to 513\n",
      "Data columns (total 5 columns):\n",
      " #   Column  Non-Null Count  Dtype         \n",
      "---  ------  --------------  -----         \n",
      " 0   event   514 non-null    object        \n",
      " 1   name    501 non-null    object        \n",
      " 2   date    514 non-null    datetime64[ns]\n",
      " 3   bouts   514 non-null    int64         \n",
      " 4   link    514 non-null    object        \n",
      "dtypes: datetime64[ns](1), int64(1), object(3)\n",
      "memory usage: 24.1+ KB\n"
     ]
    }
   ],
   "source": [
    "previous_ufc.info()"
   ]
  },
  {
   "cell_type": "markdown",
   "metadata": {},
   "source": [
    "I also want to remove any event that got cancelled, so let's get rid of any events with number of bouts = 0."
   ]
  },
  {
   "cell_type": "code",
   "execution_count": 6,
   "metadata": {},
   "outputs": [
    {
     "name": "stdout",
     "output_type": "stream",
     "text": [
      "<class 'pandas.core.frame.DataFrame'>\n",
      "Int64Index: 500 entries, 0 to 513\n",
      "Data columns (total 5 columns):\n",
      " #   Column  Non-Null Count  Dtype         \n",
      "---  ------  --------------  -----         \n",
      " 0   event   500 non-null    object        \n",
      " 1   name    494 non-null    object        \n",
      " 2   date    500 non-null    datetime64[ns]\n",
      " 3   bouts   500 non-null    int64         \n",
      " 4   link    500 non-null    object        \n",
      "dtypes: datetime64[ns](1), int64(1), object(3)\n",
      "memory usage: 23.4+ KB\n"
     ]
    }
   ],
   "source": [
    "previous_ufc = previous_ufc[previous_ufc['bouts']>0]\n",
    "previous_ufc.info()"
   ]
  },
  {
   "cell_type": "markdown",
   "metadata": {},
   "source": [
    "How many bouts are in here total? "
   ]
  },
  {
   "cell_type": "code",
   "execution_count": 7,
   "metadata": {},
   "outputs": [
    {
     "data": {
      "text/plain": [
       "5375"
      ]
     },
     "execution_count": 7,
     "metadata": {},
     "output_type": "execute_result"
    }
   ],
   "source": [
    "previous_ufc.bouts.sum()"
   ]
  },
  {
   "cell_type": "markdown",
   "metadata": {},
   "source": [
    "Now let's see how these date time objects work."
   ]
  },
  {
   "cell_type": "code",
   "execution_count": 8,
   "metadata": {},
   "outputs": [],
   "source": [
    "#previous_ufc.date >2010"
   ]
  },
  {
   "cell_type": "code",
   "execution_count": 9,
   "metadata": {},
   "outputs": [
    {
     "data": {
      "text/plain": [
       "0     2020-05-30\n",
       "1     2020-05-16\n",
       "2     2020-05-13\n",
       "3     2020-05-09\n",
       "10    2020-03-14\n",
       "         ...    \n",
       "509   1995-04-07\n",
       "510   1994-12-16\n",
       "511   1994-09-09\n",
       "512   1994-03-11\n",
       "513   1993-11-12\n",
       "Name: date, Length: 500, dtype: datetime64[ns]"
      ]
     },
     "execution_count": 9,
     "metadata": {},
     "output_type": "execute_result"
    }
   ],
   "source": [
    "previous_ufc.date"
   ]
  },
  {
   "cell_type": "code",
   "execution_count": 10,
   "metadata": {},
   "outputs": [],
   "source": [
    "minimum = pd.to_datetime('2012-1-1')"
   ]
  },
  {
   "cell_type": "code",
   "execution_count": 11,
   "metadata": {},
   "outputs": [
    {
     "data": {
      "text/html": [
       "<div>\n",
       "<style scoped>\n",
       "    .dataframe tbody tr th:only-of-type {\n",
       "        vertical-align: middle;\n",
       "    }\n",
       "\n",
       "    .dataframe tbody tr th {\n",
       "        vertical-align: top;\n",
       "    }\n",
       "\n",
       "    .dataframe thead th {\n",
       "        text-align: right;\n",
       "    }\n",
       "</style>\n",
       "<table border=\"1\" class=\"dataframe\">\n",
       "  <thead>\n",
       "    <tr style=\"text-align: right;\">\n",
       "      <th></th>\n",
       "      <th>event</th>\n",
       "      <th>name</th>\n",
       "      <th>date</th>\n",
       "      <th>bouts</th>\n",
       "      <th>link</th>\n",
       "    </tr>\n",
       "  </thead>\n",
       "  <tbody>\n",
       "    <tr>\n",
       "      <th>0</th>\n",
       "      <td>UFC Fight Night</td>\n",
       "      <td>Woodley vs. Burns</td>\n",
       "      <td>2020-05-30</td>\n",
       "      <td>11</td>\n",
       "      <td>/fightcenter/events/69127-ufc-fight-night</td>\n",
       "    </tr>\n",
       "    <tr>\n",
       "      <th>1</th>\n",
       "      <td>UFC Fight Night</td>\n",
       "      <td>Overeem vs. Harris</td>\n",
       "      <td>2020-05-16</td>\n",
       "      <td>11</td>\n",
       "      <td>/fightcenter/events/67412-ufc-on-espn-33</td>\n",
       "    </tr>\n",
       "    <tr>\n",
       "      <th>2</th>\n",
       "      <td>UFC Fight Night</td>\n",
       "      <td>Smith vs. Teixeira</td>\n",
       "      <td>2020-05-13</td>\n",
       "      <td>10</td>\n",
       "      <td>/fightcenter/events/69126-ufc-fight-night</td>\n",
       "    </tr>\n",
       "    <tr>\n",
       "      <th>3</th>\n",
       "      <td>UFC 249</td>\n",
       "      <td>Ferguson vs. Gaethje</td>\n",
       "      <td>2020-05-09</td>\n",
       "      <td>11</td>\n",
       "      <td>/fightcenter/events/66312-ufc-250</td>\n",
       "    </tr>\n",
       "    <tr>\n",
       "      <th>10</th>\n",
       "      <td>UFC on ESPN+ 28</td>\n",
       "      <td>Lee vs. Oliveira</td>\n",
       "      <td>2020-03-14</td>\n",
       "      <td>12</td>\n",
       "      <td>/fightcenter/events/64600-ufc-on-espn-26</td>\n",
       "    </tr>\n",
       "  </tbody>\n",
       "</table>\n",
       "</div>"
      ],
      "text/plain": [
       "              event                  name       date  bouts  \\\n",
       "0   UFC Fight Night     Woodley vs. Burns 2020-05-30     11   \n",
       "1   UFC Fight Night    Overeem vs. Harris 2020-05-16     11   \n",
       "2   UFC Fight Night    Smith vs. Teixeira 2020-05-13     10   \n",
       "3           UFC 249  Ferguson vs. Gaethje 2020-05-09     11   \n",
       "10  UFC on ESPN+ 28      Lee vs. Oliveira 2020-03-14     12   \n",
       "\n",
       "                                         link  \n",
       "0   /fightcenter/events/69127-ufc-fight-night  \n",
       "1    /fightcenter/events/67412-ufc-on-espn-33  \n",
       "2   /fightcenter/events/69126-ufc-fight-night  \n",
       "3           /fightcenter/events/66312-ufc-250  \n",
       "10   /fightcenter/events/64600-ufc-on-espn-26  "
      ]
     },
     "execution_count": 11,
     "metadata": {},
     "output_type": "execute_result"
    }
   ],
   "source": [
    "recent_ufc = previous_ufc[previous_ufc['date'] > minimum]\n",
    "recent_ufc.head()"
   ]
  },
  {
   "cell_type": "markdown",
   "metadata": {},
   "source": [
    "All fights from 2012 on should work."
   ]
  },
  {
   "cell_type": "code",
   "execution_count": 61,
   "metadata": {},
   "outputs": [
    {
     "name": "stdout",
     "output_type": "stream",
     "text": [
      "<class 'pandas.core.frame.DataFrame'>\n",
      "Int64Index: 321 entries, 0 to 333\n",
      "Data columns (total 5 columns):\n",
      " #   Column  Non-Null Count  Dtype         \n",
      "---  ------  --------------  -----         \n",
      " 0   event   321 non-null    object        \n",
      " 1   name    320 non-null    object        \n",
      " 2   date    321 non-null    datetime64[ns]\n",
      " 3   bouts   321 non-null    int64         \n",
      " 4   link    321 non-null    object        \n",
      "dtypes: datetime64[ns](1), int64(1), object(3)\n",
      "memory usage: 25.0+ KB\n"
     ]
    }
   ],
   "source": [
    "recent_ufc.bouts.sum()\n",
    "recent_ufc.info()"
   ]
  },
  {
   "cell_type": "markdown",
   "metadata": {},
   "source": [
    "## Table: fighter_instances\n",
    "### Scraping matches\n",
    "\n",
    "Now that I have my time frame, I want to take the first element and see how I can scrape it. I already have a list of matches and their respective links. I think I can build a pretty accurate dataframe by using hierarchal indexing where the first index references the bout link and the second index references the winner or loser."
   ]
  },
  {
   "cell_type": "code",
   "execution_count": 13,
   "metadata": {},
   "outputs": [],
   "source": [
    "link = recent_ufc.loc[0].link"
   ]
  },
  {
   "cell_type": "code",
   "execution_count": 14,
   "metadata": {},
   "outputs": [
    {
     "data": {
      "text/html": [
       "<div>\n",
       "<style scoped>\n",
       "    .dataframe tbody tr th:only-of-type {\n",
       "        vertical-align: middle;\n",
       "    }\n",
       "\n",
       "    .dataframe tbody tr th {\n",
       "        vertical-align: top;\n",
       "    }\n",
       "\n",
       "    .dataframe thead th {\n",
       "        text-align: right;\n",
       "    }\n",
       "</style>\n",
       "<table border=\"1\" class=\"dataframe\">\n",
       "  <thead>\n",
       "    <tr style=\"text-align: right;\">\n",
       "      <th></th>\n",
       "      <th>method</th>\n",
       "      <th>length</th>\n",
       "      <th>order</th>\n",
       "      <th>fighter_1</th>\n",
       "      <th>record_1</th>\n",
       "      <th>bout_type</th>\n",
       "      <th>weight</th>\n",
       "      <th>scheduled_rounds</th>\n",
       "      <th>fighter_2</th>\n",
       "      <th>record_2</th>\n",
       "      <th>link</th>\n",
       "      <th>event_link</th>\n",
       "    </tr>\n",
       "  </thead>\n",
       "  <tbody>\n",
       "    <tr>\n",
       "      <th>0</th>\n",
       "      <td>Decision, Unanimous</td>\n",
       "      <td>5 Rounds, 25:00 Total</td>\n",
       "      <td>11</td>\n",
       "      <td>Gilbert Burns</td>\n",
       "      <td>Climbed to 19-3</td>\n",
       "      <td>Main Event</td>\n",
       "      <td>170</td>\n",
       "      <td>5 x 5</td>\n",
       "      <td>Tyron Woodley</td>\n",
       "      <td>Fell to 19-5</td>\n",
       "      <td>/fightcenter/bouts/501343-ufc-fight-night-tyro...</td>\n",
       "      <td>/fightcenter/events/69127-ufc-fight-night</td>\n",
       "    </tr>\n",
       "    <tr>\n",
       "      <th>1</th>\n",
       "      <td>Decision, Split</td>\n",
       "      <td>3 Rounds, 15:00 Total</td>\n",
       "      <td>10</td>\n",
       "      <td>Augusto Sakai</td>\n",
       "      <td>Climbed to 15-1</td>\n",
       "      <td>Co-Main Event</td>\n",
       "      <td>265</td>\n",
       "      <td>3 x 5</td>\n",
       "      <td>Blagoy Ivanov</td>\n",
       "      <td>Fell to 18-4</td>\n",
       "      <td>/fightcenter/bouts/501441-ufc-fight-night-blag...</td>\n",
       "      <td>/fightcenter/events/69127-ufc-fight-night</td>\n",
       "    </tr>\n",
       "    <tr>\n",
       "      <th>2</th>\n",
       "      <td>Decision, Unanimous</td>\n",
       "      <td>3 Rounds, 15:00 Total</td>\n",
       "      <td>9</td>\n",
       "      <td>Billy Quarantillo</td>\n",
       "      <td>Climbed to 14-2</td>\n",
       "      <td>Main Card</td>\n",
       "      <td>150</td>\n",
       "      <td>3 x 5</td>\n",
       "      <td>Spike Carlyle</td>\n",
       "      <td>Fell to 9-2</td>\n",
       "      <td>/fightcenter/bouts/502990-ufc-fight-night-bill...</td>\n",
       "      <td>/fightcenter/events/69127-ufc-fight-night</td>\n",
       "    </tr>\n",
       "    <tr>\n",
       "      <th>3</th>\n",
       "      <td>Submission, Rear Naked Choke</td>\n",
       "      <td>3:26 Round 2 of 3, 8:26 Total</td>\n",
       "      <td>8</td>\n",
       "      <td>Roosevelt Roberts</td>\n",
       "      <td>Climbed to 10-1</td>\n",
       "      <td>Main Card</td>\n",
       "      <td>155</td>\n",
       "      <td>3 x 5</td>\n",
       "      <td>Brok Weaver</td>\n",
       "      <td>Fell to 15-5</td>\n",
       "      <td>/fightcenter/bouts/502972-ufc-fight-night-roos...</td>\n",
       "      <td>/fightcenter/events/69127-ufc-fight-night</td>\n",
       "    </tr>\n",
       "    <tr>\n",
       "      <th>4</th>\n",
       "      <td>Submission, Kneebar</td>\n",
       "      <td>2:36 Round 1 of 3</td>\n",
       "      <td>7</td>\n",
       "      <td>Mackenzie Dern</td>\n",
       "      <td>Climbed to 8-1</td>\n",
       "      <td>Main Card</td>\n",
       "      <td>115</td>\n",
       "      <td>3 x 5</td>\n",
       "      <td>Hannah Cifers</td>\n",
       "      <td>Fell to 10-5</td>\n",
       "      <td>/fightcenter/bouts/500998-ufc-fight-night-mack...</td>\n",
       "      <td>/fightcenter/events/69127-ufc-fight-night</td>\n",
       "    </tr>\n",
       "    <tr>\n",
       "      <th>5</th>\n",
       "      <td>Decision, Unanimous</td>\n",
       "      <td>3 Rounds, 15:00 Total</td>\n",
       "      <td>6</td>\n",
       "      <td>Katlyn Chookagian</td>\n",
       "      <td>Climbed to 14-3</td>\n",
       "      <td>Prelim</td>\n",
       "      <td>125</td>\n",
       "      <td>3 x 5</td>\n",
       "      <td>Antonina Shevchenko</td>\n",
       "      <td>Fell to 8-2</td>\n",
       "      <td>/fightcenter/bouts/502988-ufc-fight-night-katl...</td>\n",
       "      <td>/fightcenter/events/69127-ufc-fight-night</td>\n",
       "    </tr>\n",
       "    <tr>\n",
       "      <th>6</th>\n",
       "      <td>Decision, Unanimous</td>\n",
       "      <td>3 Rounds, 15:00 Total</td>\n",
       "      <td>5</td>\n",
       "      <td>Daniel Rodriguez</td>\n",
       "      <td>Climbed to 12-1</td>\n",
       "      <td>Prelim</td>\n",
       "      <td>170</td>\n",
       "      <td>3 x 5</td>\n",
       "      <td>Gabe Green</td>\n",
       "      <td>Fell to 9-3</td>\n",
       "      <td>/fightcenter/bouts/503985-ufc-fight-night-dani...</td>\n",
       "      <td>/fightcenter/events/69127-ufc-fight-night</td>\n",
       "    </tr>\n",
       "    <tr>\n",
       "      <th>7</th>\n",
       "      <td>KO/TKO, Knee to the Body to Ground and Pound</td>\n",
       "      <td>1:51 Round 1 of 3</td>\n",
       "      <td>4</td>\n",
       "      <td>Jamahal Hill</td>\n",
       "      <td>Climbed to 8-0</td>\n",
       "      <td>Prelim</td>\n",
       "      <td>205</td>\n",
       "      <td>3 x 5</td>\n",
       "      <td>Klidson Abreu</td>\n",
       "      <td>Fell to 15-5</td>\n",
       "      <td>/fightcenter/bouts/500971-ufc-fight-night-jama...</td>\n",
       "      <td>/fightcenter/events/69127-ufc-fight-night</td>\n",
       "    </tr>\n",
       "    <tr>\n",
       "      <th>8</th>\n",
       "      <td>Submission, Arm Triangle Choke</td>\n",
       "      <td>3:18 Round 2 of 3, 8:18 Total</td>\n",
       "      <td>3</td>\n",
       "      <td>Brandon Royval</td>\n",
       "      <td>Climbed to 11-4</td>\n",
       "      <td>Prelim</td>\n",
       "      <td>125</td>\n",
       "      <td>3 x 5</td>\n",
       "      <td>Tim Elliott</td>\n",
       "      <td>Fell to 15-11</td>\n",
       "      <td>/fightcenter/bouts/502983-ufc-fight-night-tim-...</td>\n",
       "      <td>/fightcenter/events/69127-ufc-fight-night</td>\n",
       "    </tr>\n",
       "    <tr>\n",
       "      <th>9</th>\n",
       "      <td>Submission, One-Arm Guillotine Choke</td>\n",
       "      <td>3:03 Round 1 of 3</td>\n",
       "      <td>2</td>\n",
       "      <td>Casey Kenney</td>\n",
       "      <td>Climbed to 14-2</td>\n",
       "      <td>Prelim</td>\n",
       "      <td>135</td>\n",
       "      <td>3 x 5</td>\n",
       "      <td>Louis Smolka</td>\n",
       "      <td>Fell to 16-7</td>\n",
       "      <td>/fightcenter/bouts/502982-ufc-fight-night-case...</td>\n",
       "      <td>/fightcenter/events/69127-ufc-fight-night</td>\n",
       "    </tr>\n",
       "    <tr>\n",
       "      <th>10</th>\n",
       "      <td>KO/TKO, Leg Kicks</td>\n",
       "      <td>4:27 Round 2 of 3, 9:27 Total</td>\n",
       "      <td>1</td>\n",
       "      <td>Chris Gutierrez</td>\n",
       "      <td>Climbed to 15-3</td>\n",
       "      <td>Prelim</td>\n",
       "      <td>145</td>\n",
       "      <td>3 x 5</td>\n",
       "      <td>Vince Morales</td>\n",
       "      <td>Fell to 9-5</td>\n",
       "      <td>/fightcenter/bouts/503015-ufc-fight-night-chri...</td>\n",
       "      <td>/fightcenter/events/69127-ufc-fight-night</td>\n",
       "    </tr>\n",
       "  </tbody>\n",
       "</table>\n",
       "</div>"
      ],
      "text/plain": [
       "                                          method  \\\n",
       "0                            Decision, Unanimous   \n",
       "1                                Decision, Split   \n",
       "2                            Decision, Unanimous   \n",
       "3                   Submission, Rear Naked Choke   \n",
       "4                            Submission, Kneebar   \n",
       "5                            Decision, Unanimous   \n",
       "6                            Decision, Unanimous   \n",
       "7   KO/TKO, Knee to the Body to Ground and Pound   \n",
       "8                 Submission, Arm Triangle Choke   \n",
       "9           Submission, One-Arm Guillotine Choke   \n",
       "10                             KO/TKO, Leg Kicks   \n",
       "\n",
       "                           length order          fighter_1         record_1  \\\n",
       "0           5 Rounds, 25:00 Total    11      Gilbert Burns  Climbed to 19-3   \n",
       "1           3 Rounds, 15:00 Total    10      Augusto Sakai  Climbed to 15-1   \n",
       "2           3 Rounds, 15:00 Total     9  Billy Quarantillo  Climbed to 14-2   \n",
       "3   3:26 Round 2 of 3, 8:26 Total     8  Roosevelt Roberts  Climbed to 10-1   \n",
       "4               2:36 Round 1 of 3     7     Mackenzie Dern   Climbed to 8-1   \n",
       "5           3 Rounds, 15:00 Total     6  Katlyn Chookagian  Climbed to 14-3   \n",
       "6           3 Rounds, 15:00 Total     5   Daniel Rodriguez  Climbed to 12-1   \n",
       "7               1:51 Round 1 of 3     4       Jamahal Hill   Climbed to 8-0   \n",
       "8   3:18 Round 2 of 3, 8:18 Total     3     Brandon Royval  Climbed to 11-4   \n",
       "9               3:03 Round 1 of 3     2       Casey Kenney  Climbed to 14-2   \n",
       "10  4:27 Round 2 of 3, 9:27 Total     1    Chris Gutierrez  Climbed to 15-3   \n",
       "\n",
       "        bout_type weight scheduled_rounds            fighter_2       record_2  \\\n",
       "0      Main Event    170            5 x 5        Tyron Woodley   Fell to 19-5   \n",
       "1   Co-Main Event    265            3 x 5        Blagoy Ivanov   Fell to 18-4   \n",
       "2       Main Card    150            3 x 5        Spike Carlyle    Fell to 9-2   \n",
       "3       Main Card    155            3 x 5          Brok Weaver   Fell to 15-5   \n",
       "4       Main Card    115            3 x 5        Hannah Cifers   Fell to 10-5   \n",
       "5          Prelim    125            3 x 5  Antonina Shevchenko    Fell to 8-2   \n",
       "6          Prelim    170            3 x 5           Gabe Green    Fell to 9-3   \n",
       "7          Prelim    205            3 x 5        Klidson Abreu   Fell to 15-5   \n",
       "8          Prelim    125            3 x 5          Tim Elliott  Fell to 15-11   \n",
       "9          Prelim    135            3 x 5         Louis Smolka   Fell to 16-7   \n",
       "10         Prelim    145            3 x 5        Vince Morales    Fell to 9-5   \n",
       "\n",
       "                                                 link  \\\n",
       "0   /fightcenter/bouts/501343-ufc-fight-night-tyro...   \n",
       "1   /fightcenter/bouts/501441-ufc-fight-night-blag...   \n",
       "2   /fightcenter/bouts/502990-ufc-fight-night-bill...   \n",
       "3   /fightcenter/bouts/502972-ufc-fight-night-roos...   \n",
       "4   /fightcenter/bouts/500998-ufc-fight-night-mack...   \n",
       "5   /fightcenter/bouts/502988-ufc-fight-night-katl...   \n",
       "6   /fightcenter/bouts/503985-ufc-fight-night-dani...   \n",
       "7   /fightcenter/bouts/500971-ufc-fight-night-jama...   \n",
       "8   /fightcenter/bouts/502983-ufc-fight-night-tim-...   \n",
       "9   /fightcenter/bouts/502982-ufc-fight-night-case...   \n",
       "10  /fightcenter/bouts/503015-ufc-fight-night-chri...   \n",
       "\n",
       "                                   event_link  \n",
       "0   /fightcenter/events/69127-ufc-fight-night  \n",
       "1   /fightcenter/events/69127-ufc-fight-night  \n",
       "2   /fightcenter/events/69127-ufc-fight-night  \n",
       "3   /fightcenter/events/69127-ufc-fight-night  \n",
       "4   /fightcenter/events/69127-ufc-fight-night  \n",
       "5   /fightcenter/events/69127-ufc-fight-night  \n",
       "6   /fightcenter/events/69127-ufc-fight-night  \n",
       "7   /fightcenter/events/69127-ufc-fight-night  \n",
       "8   /fightcenter/events/69127-ufc-fight-night  \n",
       "9   /fightcenter/events/69127-ufc-fight-night  \n",
       "10  /fightcenter/events/69127-ufc-fight-night  "
      ]
     },
     "execution_count": 14,
     "metadata": {},
     "output_type": "execute_result"
    }
   ],
   "source": [
    "event_url = 'https://www.tapology.com'+link\n",
    "\n",
    "#here I set up my request module and parse the page with beautiful soup\n",
    "headers = {'User-Agent': 'Mozilla/5.0 (X11; Linux x86_64) AppleWebKit/537.36 (KHTML, like Gecko) Chrome/83.0.4103.61 Safari/537.36'}\n",
    "response = requests.get(event_url, headers=headers)\n",
    "soup = BeautifulSoup(response.text, 'html.parser')\n",
    "\n",
    "#here I create the fightCard data frame\n",
    "fightCard_df = src.create_bouts_table(soup, link)\n",
    "fightCard_df"
   ]
  },
  {
   "cell_type": "markdown",
   "metadata": {},
   "source": [
    "### First bout scrape"
   ]
  },
  {
   "cell_type": "code",
   "execution_count": 15,
   "metadata": {},
   "outputs": [],
   "source": [
    "first_bout = fightCard_df.loc[0]"
   ]
  },
  {
   "cell_type": "code",
   "execution_count": 16,
   "metadata": {},
   "outputs": [],
   "source": [
    "first_link = fightCard_df.loc[0].link\n",
    "bout_url = 'https://www.tapology.com'+first_link\n",
    "response = requests.get(bout_url, headers=headers)\n",
    "soup = BeautifulSoup(response.text, 'html.parser')"
   ]
  },
  {
   "cell_type": "markdown",
   "metadata": {},
   "source": [
    "Let's see if we can find a class for the list we want in this page, we'll use chrome developer's tools."
   ]
  },
  {
   "cell_type": "markdown",
   "metadata": {},
   "source": [
    "Looking at the page, I found that the info I want is under the boutComparisonTable class. So let's pull that first."
   ]
  },
  {
   "cell_type": "code",
   "execution_count": 17,
   "metadata": {},
   "outputs": [],
   "source": [
    "bout_table = soup.find_all(class_='boutComparisonTable')"
   ]
  },
  {
   "cell_type": "markdown",
   "metadata": {},
   "source": [
    "Actually, I can just pull the table in with pd so let's try that first."
   ]
  },
  {
   "cell_type": "code",
   "execution_count": 18,
   "metadata": {},
   "outputs": [],
   "source": [
    "tables = pd.read_html(response.content)"
   ]
  },
  {
   "cell_type": "code",
   "execution_count": 19,
   "metadata": {},
   "outputs": [
    {
     "data": {
      "text/plain": [
       "3"
      ]
     },
     "execution_count": 19,
     "metadata": {},
     "output_type": "execute_result"
    }
   ],
   "source": [
    "len(tables)"
   ]
  },
  {
   "cell_type": "code",
   "execution_count": 20,
   "metadata": {},
   "outputs": [
    {
     "data": {
      "text/html": [
       "<div>\n",
       "<style scoped>\n",
       "    .dataframe tbody tr th:only-of-type {\n",
       "        vertical-align: middle;\n",
       "    }\n",
       "\n",
       "    .dataframe tbody tr th {\n",
       "        vertical-align: top;\n",
       "    }\n",
       "\n",
       "    .dataframe thead th {\n",
       "        text-align: right;\n",
       "    }\n",
       "</style>\n",
       "<table border=\"1\" class=\"dataframe\">\n",
       "  <thead>\n",
       "    <tr style=\"text-align: right;\">\n",
       "      <th></th>\n",
       "      <th>0</th>\n",
       "      <th>1</th>\n",
       "      <th>2</th>\n",
       "      <th>3</th>\n",
       "      <th>4</th>\n",
       "    </tr>\n",
       "  </thead>\n",
       "  <tbody>\n",
       "    <tr>\n",
       "      <th>0</th>\n",
       "      <td>18-3-0</td>\n",
       "      <td>NaN</td>\n",
       "      <td>Pro Record At Fight</td>\n",
       "      <td>NaN</td>\n",
       "      <td>19-4-1</td>\n",
       "    </tr>\n",
       "    <tr>\n",
       "      <th>1</th>\n",
       "      <td>Climbed to 19-3</td>\n",
       "      <td>NaN</td>\n",
       "      <td>Record After Fight</td>\n",
       "      <td>NaN</td>\n",
       "      <td>Fell to 19-5</td>\n",
       "    </tr>\n",
       "    <tr>\n",
       "      <th>2</th>\n",
       "      <td>+150 (Slight Underdog)</td>\n",
       "      <td>NaN</td>\n",
       "      <td>Betting Odds</td>\n",
       "      <td>NaN</td>\n",
       "      <td>-185 (Slight Favorite)</td>\n",
       "    </tr>\n",
       "    <tr>\n",
       "      <th>3</th>\n",
       "      <td>Brazil</td>\n",
       "      <td>NaN</td>\n",
       "      <td>Nationality</td>\n",
       "      <td>NaN</td>\n",
       "      <td>United States</td>\n",
       "    </tr>\n",
       "    <tr>\n",
       "      <th>4</th>\n",
       "      <td>Boca Raton, Florida</td>\n",
       "      <td>NaN</td>\n",
       "      <td>Fighting out of</td>\n",
       "      <td>NaN</td>\n",
       "      <td>St. Louis, Missouri</td>\n",
       "    </tr>\n",
       "    <tr>\n",
       "      <th>5</th>\n",
       "      <td>33 years, 10 months, 3 days</td>\n",
       "      <td>NaN</td>\n",
       "      <td>Age at Fight</td>\n",
       "      <td>NaN</td>\n",
       "      <td>38 years, 1 month, 6 days</td>\n",
       "    </tr>\n",
       "    <tr>\n",
       "      <th>6</th>\n",
       "      <td>170.5 lbs (77.3 kgs)</td>\n",
       "      <td>NaN</td>\n",
       "      <td>Weigh-In Result</td>\n",
       "      <td>NaN</td>\n",
       "      <td>170.5 lbs (77.3 kgs)</td>\n",
       "    </tr>\n",
       "    <tr>\n",
       "      <th>7</th>\n",
       "      <td>5'10\" (178cm)</td>\n",
       "      <td>NaN</td>\n",
       "      <td>Height</td>\n",
       "      <td>NaN</td>\n",
       "      <td>5'9\" (176cm)</td>\n",
       "    </tr>\n",
       "    <tr>\n",
       "      <th>8</th>\n",
       "      <td>71.0\" (180cm)</td>\n",
       "      <td>NaN</td>\n",
       "      <td>Reach</td>\n",
       "      <td>NaN</td>\n",
       "      <td>74.0\" (188cm)</td>\n",
       "    </tr>\n",
       "    <tr>\n",
       "      <th>9</th>\n",
       "      <td>Blackzilians</td>\n",
       "      <td>NaN</td>\n",
       "      <td>Gym</td>\n",
       "      <td>NaN</td>\n",
       "      <td>American Top Team</td>\n",
       "    </tr>\n",
       "  </tbody>\n",
       "</table>\n",
       "</div>"
      ],
      "text/plain": [
       "                             0   1                    2   3  \\\n",
       "0                       18-3-0 NaN  Pro Record At Fight NaN   \n",
       "1              Climbed to 19-3 NaN   Record After Fight NaN   \n",
       "2       +150 (Slight Underdog) NaN         Betting Odds NaN   \n",
       "3                       Brazil NaN          Nationality NaN   \n",
       "4          Boca Raton, Florida NaN      Fighting out of NaN   \n",
       "5  33 years, 10 months, 3 days NaN         Age at Fight NaN   \n",
       "6         170.5 lbs (77.3 kgs) NaN      Weigh-In Result NaN   \n",
       "7                5'10\" (178cm) NaN               Height NaN   \n",
       "8                71.0\" (180cm) NaN                Reach NaN   \n",
       "9                 Blackzilians NaN                  Gym NaN   \n",
       "\n",
       "                           4  \n",
       "0                     19-4-1  \n",
       "1               Fell to 19-5  \n",
       "2     -185 (Slight Favorite)  \n",
       "3              United States  \n",
       "4        St. Louis, Missouri  \n",
       "5  38 years, 1 month, 6 days  \n",
       "6       170.5 lbs (77.3 kgs)  \n",
       "7               5'9\" (176cm)  \n",
       "8              74.0\" (188cm)  \n",
       "9          American Top Team  "
      ]
     },
     "execution_count": 20,
     "metadata": {},
     "output_type": "execute_result"
    }
   ],
   "source": [
    "tables[0]"
   ]
  },
  {
   "cell_type": "markdown",
   "metadata": {},
   "source": [
    "Now we should be able to pivot it."
   ]
  },
  {
   "cell_type": "code",
   "execution_count": 21,
   "metadata": {},
   "outputs": [
    {
     "data": {
      "text/plain": [
       "Int64Index([0, 1, 2, 3, 4], dtype='int64')"
      ]
     },
     "execution_count": 21,
     "metadata": {},
     "output_type": "execute_result"
    }
   ],
   "source": [
    "bout_stats = tables[0]\n",
    "bout_stats.columns"
   ]
  },
  {
   "cell_type": "code",
   "execution_count": 22,
   "metadata": {},
   "outputs": [],
   "source": [
    "bout_stats_pivot = pd.DataFrame([list(bout_stats[0]), list(bout_stats[4])])"
   ]
  },
  {
   "cell_type": "code",
   "execution_count": 23,
   "metadata": {},
   "outputs": [],
   "source": [
    "bout_stats_pivot.columns = list(bout_stats[2])"
   ]
  },
  {
   "cell_type": "code",
   "execution_count": 24,
   "metadata": {},
   "outputs": [],
   "source": [
    "bout_stats_pivot.reset_index(inplace=True, drop=True)"
   ]
  },
  {
   "cell_type": "code",
   "execution_count": 25,
   "metadata": {},
   "outputs": [
    {
     "data": {
      "text/html": [
       "<div>\n",
       "<style scoped>\n",
       "    .dataframe tbody tr th:only-of-type {\n",
       "        vertical-align: middle;\n",
       "    }\n",
       "\n",
       "    .dataframe tbody tr th {\n",
       "        vertical-align: top;\n",
       "    }\n",
       "\n",
       "    .dataframe thead th {\n",
       "        text-align: right;\n",
       "    }\n",
       "</style>\n",
       "<table border=\"1\" class=\"dataframe\">\n",
       "  <thead>\n",
       "    <tr style=\"text-align: right;\">\n",
       "      <th></th>\n",
       "      <th>Pro Record At Fight</th>\n",
       "      <th>Record After Fight</th>\n",
       "      <th>Betting Odds</th>\n",
       "      <th>Nationality</th>\n",
       "      <th>Fighting out of</th>\n",
       "      <th>Age at Fight</th>\n",
       "      <th>Weigh-In Result</th>\n",
       "      <th>Height</th>\n",
       "      <th>Reach</th>\n",
       "      <th>Gym</th>\n",
       "    </tr>\n",
       "  </thead>\n",
       "  <tbody>\n",
       "    <tr>\n",
       "      <th>0</th>\n",
       "      <td>18-3-0</td>\n",
       "      <td>Climbed to 19-3</td>\n",
       "      <td>+150 (Slight Underdog)</td>\n",
       "      <td>Brazil</td>\n",
       "      <td>Boca Raton, Florida</td>\n",
       "      <td>33 years, 10 months, 3 days</td>\n",
       "      <td>170.5 lbs (77.3 kgs)</td>\n",
       "      <td>5'10\" (178cm)</td>\n",
       "      <td>71.0\" (180cm)</td>\n",
       "      <td>Blackzilians</td>\n",
       "    </tr>\n",
       "    <tr>\n",
       "      <th>1</th>\n",
       "      <td>19-4-1</td>\n",
       "      <td>Fell to 19-5</td>\n",
       "      <td>-185 (Slight Favorite)</td>\n",
       "      <td>United States</td>\n",
       "      <td>St. Louis, Missouri</td>\n",
       "      <td>38 years, 1 month, 6 days</td>\n",
       "      <td>170.5 lbs (77.3 kgs)</td>\n",
       "      <td>5'9\" (176cm)</td>\n",
       "      <td>74.0\" (188cm)</td>\n",
       "      <td>American Top Team</td>\n",
       "    </tr>\n",
       "  </tbody>\n",
       "</table>\n",
       "</div>"
      ],
      "text/plain": [
       "  Pro Record At Fight Record After Fight            Betting Odds  \\\n",
       "0              18-3-0    Climbed to 19-3  +150 (Slight Underdog)   \n",
       "1              19-4-1       Fell to 19-5  -185 (Slight Favorite)   \n",
       "\n",
       "     Nationality      Fighting out of                 Age at Fight  \\\n",
       "0         Brazil  Boca Raton, Florida  33 years, 10 months, 3 days   \n",
       "1  United States  St. Louis, Missouri    38 years, 1 month, 6 days   \n",
       "\n",
       "        Weigh-In Result         Height          Reach                Gym  \n",
       "0  170.5 lbs (77.3 kgs)  5'10\" (178cm)  71.0\" (180cm)       Blackzilians  \n",
       "1  170.5 lbs (77.3 kgs)   5'9\" (176cm)  74.0\" (188cm)  American Top Team  "
      ]
     },
     "execution_count": 25,
     "metadata": {},
     "output_type": "execute_result"
    }
   ],
   "source": [
    "bout_stats_pivot"
   ]
  },
  {
   "cell_type": "markdown",
   "metadata": {},
   "source": [
    "## Table: Events (addition)\n",
    "I'm goiing to pause the fighter instances scrape and work on making the events scrape more thorough. First I want the events dataframe available. Then I'm going to open the first event."
   ]
  },
  {
   "cell_type": "code",
   "execution_count": 26,
   "metadata": {},
   "outputs": [],
   "source": [
    "df_events = pd.read_csv('previous_ufc.csv')\n",
    "first_event = df_events.loc[0]"
   ]
  },
  {
   "cell_type": "markdown",
   "metadata": {},
   "source": [
    "I'm going to open the page and check the first list with the event info:"
   ]
  },
  {
   "cell_type": "code",
   "execution_count": 27,
   "metadata": {},
   "outputs": [],
   "source": [
    "soup = BeautifulSoup(src.open_tapology_link(first_event.link))"
   ]
  },
  {
   "cell_type": "code",
   "execution_count": 28,
   "metadata": {},
   "outputs": [
    {
     "data": {
      "text/plain": [
       "['',\n",
       " 'Saturday 05.30.2020 at 06:00 PM ET',\n",
       " '',\n",
       " 'U.S. Broadcast:',\n",
       " 'ESPN',\n",
       " '',\n",
       " 'Name:',\n",
       " 'UFC Fight Night: Woodley vs. Burns',\n",
       " 'Also Known As:',\n",
       " 'UFC Fight Night APEX',\n",
       " 'Promotion:',\n",
       " '',\n",
       " 'Ultimate Fighting Championship',\n",
       " '',\n",
       " 'Ownership:',\n",
       " 'Endeavor',\n",
       " 'Venue:',\n",
       " 'UFC APEX',\n",
       " 'Location:',\n",
       " 'Las Vegas, Nevada, United States',\n",
       " 'Enclosure:',\n",
       " 'Octagon',\n",
       " 'TV Announcers:',\n",
       " 'Brendan Fitzgerald, Michael Bisping, Daniel Cormier',\n",
       " 'Ring Announcer:',\n",
       " 'Joe Martinez',\n",
       " 'Post-Fight Interviews:',\n",
       " 'Daniel Cormier',\n",
       " 'TV Ratings:',\n",
       " '1.02M avg. viewers (615k ESPN prelims)',\n",
       " 'MMA Bouts:',\n",
       " '11']"
      ]
     },
     "execution_count": 28,
     "metadata": {},
     "output_type": "execute_result"
    }
   ],
   "source": [
    "div = soup.find(class_=\"details details_with_poster clearfix\") #grab top header\n",
    "event_info_elem = div.find('ul') #grab first list in top header\n",
    "\n",
    "info_list = event_info_elem.get_text().split('\\n\\n\\n')#turn it into text and split into list\n",
    "\n",
    "\n",
    "new_list = [] #fields with no info do not have a colon followed by a new line, so i will take those out\n",
    "for item in info_list:\n",
    "    if ':\\n' in item:\n",
    "        new_list.append(item)\n",
    "\n",
    "info_list = '\\n'.join(new_list).split('\\n')\n",
    "info_list"
   ]
  },
  {
   "cell_type": "markdown",
   "metadata": {},
   "source": [
    "Now I'm going to remove the whitespace."
   ]
  },
  {
   "cell_type": "code",
   "execution_count": 29,
   "metadata": {},
   "outputs": [
    {
     "data": {
      "text/plain": [
       "['U.S. Broadcast:',\n",
       " 'ESPN',\n",
       " 'Name:',\n",
       " 'UFC Fight Night: Woodley vs. Burns',\n",
       " 'Also Known As:',\n",
       " 'UFC Fight Night APEX',\n",
       " 'Promotion:',\n",
       " 'Ultimate Fighting Championship',\n",
       " 'Ownership:',\n",
       " 'Endeavor',\n",
       " 'Venue:',\n",
       " 'UFC APEX',\n",
       " 'Location:',\n",
       " 'Las Vegas, Nevada, United States',\n",
       " 'Enclosure:',\n",
       " 'Octagon',\n",
       " 'TV Announcers:',\n",
       " 'Brendan Fitzgerald, Michael Bisping, Daniel Cormier',\n",
       " 'Ring Announcer:',\n",
       " 'Joe Martinez',\n",
       " 'Post-Fight Interviews:',\n",
       " 'Daniel Cormier',\n",
       " 'TV Ratings:',\n",
       " '1.02M avg. viewers (615k ESPN prelims)',\n",
       " 'MMA Bouts:',\n",
       " '11']"
      ]
     },
     "execution_count": 29,
     "metadata": {},
     "output_type": "execute_result"
    }
   ],
   "source": [
    "info_list = list(filter(lambda item: item != '', info_list))\n",
    "info_list\n",
    "\n",
    "start_time = info_list.pop(0)\n",
    "info_list"
   ]
  },
  {
   "cell_type": "markdown",
   "metadata": {},
   "source": [
    "Now I'm going to group them and turn them into a list then into a dataframe."
   ]
  },
  {
   "cell_type": "code",
   "execution_count": 30,
   "metadata": {},
   "outputs": [],
   "source": [
    "info_list = src.group(info_list, 2)"
   ]
  },
  {
   "cell_type": "markdown",
   "metadata": {},
   "source": [
    "Zip the grouped info list into a dictionary and turn it into a dataframe."
   ]
  },
  {
   "cell_type": "code",
   "execution_count": 31,
   "metadata": {},
   "outputs": [],
   "source": [
    "info_df = pd.DataFrame(dict(info_list), index=[0]) #zipped the group into a dictionary, needs index param to work"
   ]
  },
  {
   "cell_type": "markdown",
   "metadata": {},
   "source": [
    "Which columns do I want?"
   ]
  },
  {
   "cell_type": "code",
   "execution_count": 32,
   "metadata": {},
   "outputs": [
    {
     "data": {
      "text/plain": [
       "Index(['U.S. Broadcast:', 'Name:', 'Also Known As:', 'Promotion:',\n",
       "       'Ownership:', 'Venue:', 'Location:', 'Enclosure:', 'TV Announcers:',\n",
       "       'Ring Announcer:', 'Post-Fight Interviews:', 'TV Ratings:',\n",
       "       'MMA Bouts:'],\n",
       "      dtype='object')"
      ]
     },
     "execution_count": 32,
     "metadata": {},
     "output_type": "execute_result"
    }
   ],
   "source": [
    "info_df.columns"
   ]
  },
  {
   "cell_type": "code",
   "execution_count": 33,
   "metadata": {},
   "outputs": [],
   "source": [
    "relevent_df = info_df.loc[:, ['Location:', 'Venue:', 'Enclosure:']] #remove all irrelevent data"
   ]
  },
  {
   "cell_type": "markdown",
   "metadata": {},
   "source": [
    "Add the link"
   ]
  },
  {
   "cell_type": "code",
   "execution_count": 34,
   "metadata": {},
   "outputs": [],
   "source": [
    "relevent_df['link'] = first_event.link"
   ]
  },
  {
   "cell_type": "code",
   "execution_count": 57,
   "metadata": {},
   "outputs": [
    {
     "data": {
      "text/html": [
       "<div>\n",
       "<style scoped>\n",
       "    .dataframe tbody tr th:only-of-type {\n",
       "        vertical-align: middle;\n",
       "    }\n",
       "\n",
       "    .dataframe tbody tr th {\n",
       "        vertical-align: top;\n",
       "    }\n",
       "\n",
       "    .dataframe thead th {\n",
       "        text-align: right;\n",
       "    }\n",
       "</style>\n",
       "<table border=\"1\" class=\"dataframe\">\n",
       "  <thead>\n",
       "    <tr style=\"text-align: right;\">\n",
       "      <th></th>\n",
       "      <th>Location:</th>\n",
       "      <th>Venue:</th>\n",
       "      <th>Enclosure:</th>\n",
       "      <th>link</th>\n",
       "      <th>start_time</th>\n",
       "    </tr>\n",
       "  </thead>\n",
       "  <tbody>\n",
       "    <tr>\n",
       "      <th>0</th>\n",
       "      <td>Las Vegas, Nevada, United States</td>\n",
       "      <td>UFC APEX</td>\n",
       "      <td>Octagon</td>\n",
       "      <td>/fightcenter/events/69127-ufc-fight-night</td>\n",
       "      <td>Saturday 05.30.2020 at 06:00 PM ET</td>\n",
       "    </tr>\n",
       "  </tbody>\n",
       "</table>\n",
       "</div>"
      ],
      "text/plain": [
       "                          Location:    Venue: Enclosure:  \\\n",
       "0  Las Vegas, Nevada, United States  UFC APEX    Octagon   \n",
       "\n",
       "                                        link  \\\n",
       "0  /fightcenter/events/69127-ufc-fight-night   \n",
       "\n",
       "                           start_time  \n",
       "0  Saturday 05.30.2020 at 06:00 PM ET  "
      ]
     },
     "execution_count": 57,
     "metadata": {},
     "output_type": "execute_result"
    }
   ],
   "source": [
    "relevent_df"
   ]
  },
  {
   "cell_type": "markdown",
   "metadata": {},
   "source": [
    "Now I'll turn this into a function and see how I can join it"
   ]
  },
  {
   "cell_type": "code",
   "execution_count": 58,
   "metadata": {},
   "outputs": [],
   "source": [
    "relevent_df = src.get_missing_event_info(soup, first_event.link)"
   ]
  },
  {
   "cell_type": "code",
   "execution_count": 59,
   "metadata": {},
   "outputs": [
    {
     "data": {
      "text/html": [
       "<div>\n",
       "<style scoped>\n",
       "    .dataframe tbody tr th:only-of-type {\n",
       "        vertical-align: middle;\n",
       "    }\n",
       "\n",
       "    .dataframe tbody tr th {\n",
       "        vertical-align: top;\n",
       "    }\n",
       "\n",
       "    .dataframe thead th {\n",
       "        text-align: right;\n",
       "    }\n",
       "</style>\n",
       "<table border=\"1\" class=\"dataframe\">\n",
       "  <thead>\n",
       "    <tr style=\"text-align: right;\">\n",
       "      <th></th>\n",
       "      <th>event</th>\n",
       "      <th>name</th>\n",
       "      <th>date</th>\n",
       "      <th>bouts</th>\n",
       "      <th>link</th>\n",
       "    </tr>\n",
       "  </thead>\n",
       "  <tbody>\n",
       "    <tr>\n",
       "      <th>0</th>\n",
       "      <td>UFC Fight Night</td>\n",
       "      <td>Woodley vs. Burns</td>\n",
       "      <td>2020-05-30</td>\n",
       "      <td>11</td>\n",
       "      <td>/fightcenter/events/69127-ufc-fight-night</td>\n",
       "    </tr>\n",
       "    <tr>\n",
       "      <th>1</th>\n",
       "      <td>UFC Fight Night</td>\n",
       "      <td>Overeem vs. Harris</td>\n",
       "      <td>2020-05-16</td>\n",
       "      <td>11</td>\n",
       "      <td>/fightcenter/events/67412-ufc-on-espn-33</td>\n",
       "    </tr>\n",
       "    <tr>\n",
       "      <th>2</th>\n",
       "      <td>UFC Fight Night</td>\n",
       "      <td>Smith vs. Teixeira</td>\n",
       "      <td>2020-05-13</td>\n",
       "      <td>10</td>\n",
       "      <td>/fightcenter/events/69126-ufc-fight-night</td>\n",
       "    </tr>\n",
       "    <tr>\n",
       "      <th>3</th>\n",
       "      <td>UFC 249</td>\n",
       "      <td>Ferguson vs. Gaethje</td>\n",
       "      <td>2020-05-09</td>\n",
       "      <td>11</td>\n",
       "      <td>/fightcenter/events/66312-ufc-250</td>\n",
       "    </tr>\n",
       "    <tr>\n",
       "      <th>10</th>\n",
       "      <td>UFC on ESPN+ 28</td>\n",
       "      <td>Lee vs. Oliveira</td>\n",
       "      <td>2020-03-14</td>\n",
       "      <td>12</td>\n",
       "      <td>/fightcenter/events/64600-ufc-on-espn-26</td>\n",
       "    </tr>\n",
       "  </tbody>\n",
       "</table>\n",
       "</div>"
      ],
      "text/plain": [
       "              event                  name       date  bouts  \\\n",
       "0   UFC Fight Night     Woodley vs. Burns 2020-05-30     11   \n",
       "1   UFC Fight Night    Overeem vs. Harris 2020-05-16     11   \n",
       "2   UFC Fight Night    Smith vs. Teixeira 2020-05-13     10   \n",
       "3           UFC 249  Ferguson vs. Gaethje 2020-05-09     11   \n",
       "10  UFC on ESPN+ 28      Lee vs. Oliveira 2020-03-14     12   \n",
       "\n",
       "                                         link  \n",
       "0   /fightcenter/events/69127-ufc-fight-night  \n",
       "1    /fightcenter/events/67412-ufc-on-espn-33  \n",
       "2   /fightcenter/events/69126-ufc-fight-night  \n",
       "3           /fightcenter/events/66312-ufc-250  \n",
       "10   /fightcenter/events/64600-ufc-on-espn-26  "
      ]
     },
     "execution_count": 59,
     "metadata": {},
     "output_type": "execute_result"
    }
   ],
   "source": [
    "previous_ufc.head()"
   ]
  },
  {
   "cell_type": "code",
   "execution_count": 60,
   "metadata": {},
   "outputs": [
    {
     "data": {
      "text/html": [
       "<div>\n",
       "<style scoped>\n",
       "    .dataframe tbody tr th:only-of-type {\n",
       "        vertical-align: middle;\n",
       "    }\n",
       "\n",
       "    .dataframe tbody tr th {\n",
       "        vertical-align: top;\n",
       "    }\n",
       "\n",
       "    .dataframe thead th {\n",
       "        text-align: right;\n",
       "    }\n",
       "</style>\n",
       "<table border=\"1\" class=\"dataframe\">\n",
       "  <thead>\n",
       "    <tr style=\"text-align: right;\">\n",
       "      <th></th>\n",
       "      <th>event</th>\n",
       "      <th>name</th>\n",
       "      <th>date</th>\n",
       "      <th>bouts</th>\n",
       "      <th>link</th>\n",
       "      <th>location</th>\n",
       "      <th>venue</th>\n",
       "      <th>enclosure</th>\n",
       "      <th>start_time</th>\n",
       "    </tr>\n",
       "  </thead>\n",
       "  <tbody>\n",
       "    <tr>\n",
       "      <th>0</th>\n",
       "      <td>UFC Fight Night</td>\n",
       "      <td>Woodley vs. Burns</td>\n",
       "      <td>2020-05-30</td>\n",
       "      <td>11</td>\n",
       "      <td>/fightcenter/events/69127-ufc-fight-night</td>\n",
       "      <td>Las Vegas, Nevada, United States</td>\n",
       "      <td>UFC APEX</td>\n",
       "      <td>Octagon</td>\n",
       "      <td>Saturday 05.30.2020 at 06:00 PM ET</td>\n",
       "    </tr>\n",
       "    <tr>\n",
       "      <th>1</th>\n",
       "      <td>UFC Fight Night</td>\n",
       "      <td>Overeem vs. Harris</td>\n",
       "      <td>2020-05-16</td>\n",
       "      <td>11</td>\n",
       "      <td>/fightcenter/events/67412-ufc-on-espn-33</td>\n",
       "      <td>NaN</td>\n",
       "      <td>NaN</td>\n",
       "      <td>NaN</td>\n",
       "      <td>NaN</td>\n",
       "    </tr>\n",
       "    <tr>\n",
       "      <th>2</th>\n",
       "      <td>UFC Fight Night</td>\n",
       "      <td>Smith vs. Teixeira</td>\n",
       "      <td>2020-05-13</td>\n",
       "      <td>10</td>\n",
       "      <td>/fightcenter/events/69126-ufc-fight-night</td>\n",
       "      <td>NaN</td>\n",
       "      <td>NaN</td>\n",
       "      <td>NaN</td>\n",
       "      <td>NaN</td>\n",
       "    </tr>\n",
       "    <tr>\n",
       "      <th>3</th>\n",
       "      <td>UFC 249</td>\n",
       "      <td>Ferguson vs. Gaethje</td>\n",
       "      <td>2020-05-09</td>\n",
       "      <td>11</td>\n",
       "      <td>/fightcenter/events/66312-ufc-250</td>\n",
       "      <td>NaN</td>\n",
       "      <td>NaN</td>\n",
       "      <td>NaN</td>\n",
       "      <td>NaN</td>\n",
       "    </tr>\n",
       "    <tr>\n",
       "      <th>10</th>\n",
       "      <td>UFC on ESPN+ 28</td>\n",
       "      <td>Lee vs. Oliveira</td>\n",
       "      <td>2020-03-14</td>\n",
       "      <td>12</td>\n",
       "      <td>/fightcenter/events/64600-ufc-on-espn-26</td>\n",
       "      <td>NaN</td>\n",
       "      <td>NaN</td>\n",
       "      <td>NaN</td>\n",
       "      <td>NaN</td>\n",
       "    </tr>\n",
       "    <tr>\n",
       "      <th>...</th>\n",
       "      <td>...</td>\n",
       "      <td>...</td>\n",
       "      <td>...</td>\n",
       "      <td>...</td>\n",
       "      <td>...</td>\n",
       "      <td>...</td>\n",
       "      <td>...</td>\n",
       "      <td>...</td>\n",
       "      <td>...</td>\n",
       "    </tr>\n",
       "    <tr>\n",
       "      <th>509</th>\n",
       "      <td>UFC 5</td>\n",
       "      <td>Return of the Beast</td>\n",
       "      <td>1995-04-07</td>\n",
       "      <td>10</td>\n",
       "      <td>/fightcenter/events/ufc-5-return-of-the-beast</td>\n",
       "      <td>NaN</td>\n",
       "      <td>NaN</td>\n",
       "      <td>NaN</td>\n",
       "      <td>NaN</td>\n",
       "    </tr>\n",
       "    <tr>\n",
       "      <th>510</th>\n",
       "      <td>UFC 4</td>\n",
       "      <td>Revenge of the Warriors</td>\n",
       "      <td>1994-12-16</td>\n",
       "      <td>10</td>\n",
       "      <td>/fightcenter/events/ufc-4-revenge-of-the-warriors</td>\n",
       "      <td>NaN</td>\n",
       "      <td>NaN</td>\n",
       "      <td>NaN</td>\n",
       "      <td>NaN</td>\n",
       "    </tr>\n",
       "    <tr>\n",
       "      <th>511</th>\n",
       "      <td>UFC 3</td>\n",
       "      <td>The American Dream</td>\n",
       "      <td>1994-09-09</td>\n",
       "      <td>6</td>\n",
       "      <td>/fightcenter/events/ufc-3-the-american-dream</td>\n",
       "      <td>NaN</td>\n",
       "      <td>NaN</td>\n",
       "      <td>NaN</td>\n",
       "      <td>NaN</td>\n",
       "    </tr>\n",
       "    <tr>\n",
       "      <th>512</th>\n",
       "      <td>UFC 2</td>\n",
       "      <td>No Way Out</td>\n",
       "      <td>1994-03-11</td>\n",
       "      <td>15</td>\n",
       "      <td>/fightcenter/events/ufc-2-no-way-out</td>\n",
       "      <td>NaN</td>\n",
       "      <td>NaN</td>\n",
       "      <td>NaN</td>\n",
       "      <td>NaN</td>\n",
       "    </tr>\n",
       "    <tr>\n",
       "      <th>513</th>\n",
       "      <td>UFC 1</td>\n",
       "      <td>The Beginning</td>\n",
       "      <td>1993-11-12</td>\n",
       "      <td>8</td>\n",
       "      <td>/fightcenter/events/ufc-1-the-beginning</td>\n",
       "      <td>NaN</td>\n",
       "      <td>NaN</td>\n",
       "      <td>NaN</td>\n",
       "      <td>NaN</td>\n",
       "    </tr>\n",
       "  </tbody>\n",
       "</table>\n",
       "<p>500 rows × 9 columns</p>\n",
       "</div>"
      ],
      "text/plain": [
       "               event                     name       date  bouts  \\\n",
       "0    UFC Fight Night        Woodley vs. Burns 2020-05-30     11   \n",
       "1    UFC Fight Night       Overeem vs. Harris 2020-05-16     11   \n",
       "2    UFC Fight Night       Smith vs. Teixeira 2020-05-13     10   \n",
       "3            UFC 249     Ferguson vs. Gaethje 2020-05-09     11   \n",
       "10   UFC on ESPN+ 28         Lee vs. Oliveira 2020-03-14     12   \n",
       "..               ...                      ...        ...    ...   \n",
       "509            UFC 5      Return of the Beast 1995-04-07     10   \n",
       "510            UFC 4  Revenge of the Warriors 1994-12-16     10   \n",
       "511            UFC 3       The American Dream 1994-09-09      6   \n",
       "512            UFC 2               No Way Out 1994-03-11     15   \n",
       "513            UFC 1            The Beginning 1993-11-12      8   \n",
       "\n",
       "                                                  link  \\\n",
       "0            /fightcenter/events/69127-ufc-fight-night   \n",
       "1             /fightcenter/events/67412-ufc-on-espn-33   \n",
       "2            /fightcenter/events/69126-ufc-fight-night   \n",
       "3                    /fightcenter/events/66312-ufc-250   \n",
       "10            /fightcenter/events/64600-ufc-on-espn-26   \n",
       "..                                                 ...   \n",
       "509      /fightcenter/events/ufc-5-return-of-the-beast   \n",
       "510  /fightcenter/events/ufc-4-revenge-of-the-warriors   \n",
       "511       /fightcenter/events/ufc-3-the-american-dream   \n",
       "512               /fightcenter/events/ufc-2-no-way-out   \n",
       "513            /fightcenter/events/ufc-1-the-beginning   \n",
       "\n",
       "                             location     venue enclosure  \\\n",
       "0    Las Vegas, Nevada, United States  UFC APEX   Octagon   \n",
       "1                                 NaN       NaN       NaN   \n",
       "2                                 NaN       NaN       NaN   \n",
       "3                                 NaN       NaN       NaN   \n",
       "10                                NaN       NaN       NaN   \n",
       "..                                ...       ...       ...   \n",
       "509                               NaN       NaN       NaN   \n",
       "510                               NaN       NaN       NaN   \n",
       "511                               NaN       NaN       NaN   \n",
       "512                               NaN       NaN       NaN   \n",
       "513                               NaN       NaN       NaN   \n",
       "\n",
       "                             start_time  \n",
       "0    Saturday 05.30.2020 at 06:00 PM ET  \n",
       "1                                   NaN  \n",
       "2                                   NaN  \n",
       "3                                   NaN  \n",
       "10                                  NaN  \n",
       "..                                  ...  \n",
       "509                                 NaN  \n",
       "510                                 NaN  \n",
       "511                                 NaN  \n",
       "512                                 NaN  \n",
       "513                                 NaN  \n",
       "\n",
       "[500 rows x 9 columns]"
      ]
     },
     "execution_count": 60,
     "metadata": {},
     "output_type": "execute_result"
    }
   ],
   "source": [
    "previous_ufc.join(relevent_df.set_index('link'), on='link')"
   ]
  },
  {
   "cell_type": "code",
   "execution_count": null,
   "metadata": {},
   "outputs": [],
   "source": []
  }
 ],
 "metadata": {
  "kernelspec": {
   "display_name": "Python 3",
   "language": "python",
   "name": "python3"
  },
  "language_info": {
   "codemirror_mode": {
    "name": "ipython",
    "version": 3
   },
   "file_extension": ".py",
   "mimetype": "text/x-python",
   "name": "python",
   "nbconvert_exporter": "python",
   "pygments_lexer": "ipython3",
   "version": "3.7.6"
  }
 },
 "nbformat": 4,
 "nbformat_minor": 4
}
