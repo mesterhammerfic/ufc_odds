{
 "cells": [
  {
   "cell_type": "markdown",
   "metadata": {},
   "source": [
    "## Scraping Tapology.com for UFC\n",
    "\n",
    "I want to scrape tapology.com for the bout information of UFC events. I'm looking to create a few data frames that I will convert into csv's for further exploration. I'll start with importing the following modules:"
   ]
  },
  {
   "cell_type": "code",
   "execution_count": 1,
   "metadata": {},
   "outputs": [],
   "source": [
    "from bs4 import BeautifulSoup\n",
    "import requests\n",
    "import pandas as pd"
   ]
  },
  {
   "cell_type": "markdown",
   "metadata": {},
   "source": [
    "I have the url to a search results page that contains all of the events I want to look at. So I'll start by converting that into a beautiful soup object. I'm going to use pandas read_html so that I can pull in the whole list."
   ]
  },
  {
   "cell_type": "code",
   "execution_count": 2,
   "metadata": {},
   "outputs": [
    {
     "data": {
      "text/plain": [
       "3"
      ]
     },
     "execution_count": 2,
     "metadata": {},
     "output_type": "execute_result"
    }
   ],
   "source": [
    "df_results = pd.read_html('https://www.tapology.com/search?term=ufc&mainSearchFilter=events')\n",
    "len(df_results)"
   ]
  },
  {
   "cell_type": "markdown",
   "metadata": {},
   "source": [
    "Read_html returns a list of all the tables found in a web page, so I need to figure ot which one I want. To do this, I'll check the info for each of the dataframes. I know I have 864 results from the web page by just looking at it so I'll choose the one matching that in length."
   ]
  },
  {
   "cell_type": "code",
   "execution_count": 3,
   "metadata": {},
   "outputs": [
    {
     "name": "stdout",
     "output_type": "stream",
     "text": [
      "<class 'pandas.core.frame.DataFrame'>\n",
      "RangeIndex: 864 entries, 0 to 863\n",
      "Data columns (total 7 columns):\n",
      " #   Column        Non-Null Count  Dtype  \n",
      "---  ------        --------------  -----  \n",
      " 0   Events (864)  864 non-null    object \n",
      " 1   Unnamed: 1    0 non-null      float64\n",
      " 2   Name          727 non-null    object \n",
      " 3   Unnamed: 3    0 non-null      float64\n",
      " 4   Date          864 non-null    object \n",
      " 5   Unnamed: 5    0 non-null      float64\n",
      " 6   Bouts         864 non-null    int64  \n",
      "dtypes: float64(3), int64(1), object(3)\n",
      "memory usage: 47.4+ KB\n",
      "None \n",
      "\n",
      "\n",
      "\n",
      "<class 'pandas.core.frame.DataFrame'>\n",
      "RangeIndex: 8 entries, 0 to 7\n",
      "Data columns (total 3 columns):\n",
      " #   Column      Non-Null Count  Dtype  \n",
      "---  ------      --------------  -----  \n",
      " 0   Event       8 non-null      object \n",
      " 1   Unnamed: 1  0 non-null      float64\n",
      " 2   Start Time  8 non-null      object \n",
      "dtypes: float64(1), object(2)\n",
      "memory usage: 320.0+ bytes\n",
      "None \n",
      "\n",
      "\n",
      "\n",
      "<class 'pandas.core.frame.DataFrame'>\n",
      "RangeIndex: 8 entries, 0 to 7\n",
      "Data columns (total 1 columns):\n",
      " #   Column                               Non-Null Count  Dtype \n",
      "---  ------                               --------------  ----- \n",
      " 0   All-Time Greatest Comebacks  | edit  8 non-null      object\n",
      "dtypes: object(1)\n",
      "memory usage: 192.0+ bytes\n",
      "None \n",
      "\n",
      "\n",
      "\n"
     ]
    }
   ],
   "source": [
    "for df in df_results:\n",
    "    print(df.info(),'\\n\\n\\n')"
   ]
  },
  {
   "cell_type": "markdown",
   "metadata": {},
   "source": [
    "It looks like the first one is the one I want, so let's make sure it has all the info I want."
   ]
  },
  {
   "cell_type": "code",
   "execution_count": 4,
   "metadata": {},
   "outputs": [
    {
     "data": {
      "text/html": [
       "<div>\n",
       "<style scoped>\n",
       "    .dataframe tbody tr th:only-of-type {\n",
       "        vertical-align: middle;\n",
       "    }\n",
       "\n",
       "    .dataframe tbody tr th {\n",
       "        vertical-align: top;\n",
       "    }\n",
       "\n",
       "    .dataframe thead th {\n",
       "        text-align: right;\n",
       "    }\n",
       "</style>\n",
       "<table border=\"1\" class=\"dataframe\">\n",
       "  <thead>\n",
       "    <tr style=\"text-align: right;\">\n",
       "      <th></th>\n",
       "      <th>Events (864)</th>\n",
       "      <th>Unnamed: 1</th>\n",
       "      <th>Name</th>\n",
       "      <th>Unnamed: 3</th>\n",
       "      <th>Date</th>\n",
       "      <th>Unnamed: 5</th>\n",
       "      <th>Bouts</th>\n",
       "    </tr>\n",
       "  </thead>\n",
       "  <tbody>\n",
       "    <tr>\n",
       "      <th>0</th>\n",
       "      <td>Contender Series 2020</td>\n",
       "      <td>NaN</td>\n",
       "      <td>Week 10</td>\n",
       "      <td>NaN</td>\n",
       "      <td>2020.08.25</td>\n",
       "      <td>NaN</td>\n",
       "      <td>0</td>\n",
       "    </tr>\n",
       "    <tr>\n",
       "      <th>1</th>\n",
       "      <td>Contender Series 2020</td>\n",
       "      <td>NaN</td>\n",
       "      <td>Week 9</td>\n",
       "      <td>NaN</td>\n",
       "      <td>2020.08.18</td>\n",
       "      <td>NaN</td>\n",
       "      <td>0</td>\n",
       "    </tr>\n",
       "    <tr>\n",
       "      <th>2</th>\n",
       "      <td>UFC Fight Night</td>\n",
       "      <td>NaN</td>\n",
       "      <td>NaN</td>\n",
       "      <td>NaN</td>\n",
       "      <td>2020.08.15</td>\n",
       "      <td>NaN</td>\n",
       "      <td>1</td>\n",
       "    </tr>\n",
       "    <tr>\n",
       "      <th>3</th>\n",
       "      <td>Contender Series 2020</td>\n",
       "      <td>NaN</td>\n",
       "      <td>Week 8</td>\n",
       "      <td>NaN</td>\n",
       "      <td>2020.08.11</td>\n",
       "      <td>NaN</td>\n",
       "      <td>0</td>\n",
       "    </tr>\n",
       "    <tr>\n",
       "      <th>4</th>\n",
       "      <td>Contender Series 2020</td>\n",
       "      <td>NaN</td>\n",
       "      <td>Week 7</td>\n",
       "      <td>NaN</td>\n",
       "      <td>2020.08.04</td>\n",
       "      <td>NaN</td>\n",
       "      <td>0</td>\n",
       "    </tr>\n",
       "  </tbody>\n",
       "</table>\n",
       "</div>"
      ],
      "text/plain": [
       "            Events (864)  Unnamed: 1     Name  Unnamed: 3        Date  \\\n",
       "0  Contender Series 2020         NaN  Week 10         NaN  2020.08.25   \n",
       "1  Contender Series 2020         NaN   Week 9         NaN  2020.08.18   \n",
       "2        UFC Fight Night         NaN      NaN         NaN  2020.08.15   \n",
       "3  Contender Series 2020         NaN   Week 8         NaN  2020.08.11   \n",
       "4  Contender Series 2020         NaN   Week 7         NaN  2020.08.04   \n",
       "\n",
       "   Unnamed: 5  Bouts  \n",
       "0         NaN      0  \n",
       "1         NaN      0  \n",
       "2         NaN      1  \n",
       "3         NaN      0  \n",
       "4         NaN      0  "
      ]
     },
     "execution_count": 4,
     "metadata": {},
     "output_type": "execute_result"
    }
   ],
   "source": [
    "df_results[0].head()"
   ]
  },
  {
   "cell_type": "markdown",
   "metadata": {},
   "source": [
    "The only thing it's missing is a link to the event page. It also has a few null columns, so I'll drop those as well."
   ]
  },
  {
   "cell_type": "code",
   "execution_count": 5,
   "metadata": {},
   "outputs": [
    {
     "data": {
      "text/html": [
       "<div>\n",
       "<style scoped>\n",
       "    .dataframe tbody tr th:only-of-type {\n",
       "        vertical-align: middle;\n",
       "    }\n",
       "\n",
       "    .dataframe tbody tr th {\n",
       "        vertical-align: top;\n",
       "    }\n",
       "\n",
       "    .dataframe thead th {\n",
       "        text-align: right;\n",
       "    }\n",
       "</style>\n",
       "<table border=\"1\" class=\"dataframe\">\n",
       "  <thead>\n",
       "    <tr style=\"text-align: right;\">\n",
       "      <th></th>\n",
       "      <th>Events (864)</th>\n",
       "      <th>Name</th>\n",
       "      <th>Date</th>\n",
       "      <th>Bouts</th>\n",
       "    </tr>\n",
       "  </thead>\n",
       "  <tbody>\n",
       "    <tr>\n",
       "      <th>0</th>\n",
       "      <td>Contender Series 2020</td>\n",
       "      <td>Week 10</td>\n",
       "      <td>2020.08.25</td>\n",
       "      <td>0</td>\n",
       "    </tr>\n",
       "    <tr>\n",
       "      <th>1</th>\n",
       "      <td>Contender Series 2020</td>\n",
       "      <td>Week 9</td>\n",
       "      <td>2020.08.18</td>\n",
       "      <td>0</td>\n",
       "    </tr>\n",
       "    <tr>\n",
       "      <th>2</th>\n",
       "      <td>UFC Fight Night</td>\n",
       "      <td>NaN</td>\n",
       "      <td>2020.08.15</td>\n",
       "      <td>1</td>\n",
       "    </tr>\n",
       "    <tr>\n",
       "      <th>3</th>\n",
       "      <td>Contender Series 2020</td>\n",
       "      <td>Week 8</td>\n",
       "      <td>2020.08.11</td>\n",
       "      <td>0</td>\n",
       "    </tr>\n",
       "    <tr>\n",
       "      <th>4</th>\n",
       "      <td>Contender Series 2020</td>\n",
       "      <td>Week 7</td>\n",
       "      <td>2020.08.04</td>\n",
       "      <td>0</td>\n",
       "    </tr>\n",
       "  </tbody>\n",
       "</table>\n",
       "</div>"
      ],
      "text/plain": [
       "            Events (864)     Name        Date  Bouts\n",
       "0  Contender Series 2020  Week 10  2020.08.25      0\n",
       "1  Contender Series 2020   Week 9  2020.08.18      0\n",
       "2        UFC Fight Night      NaN  2020.08.15      1\n",
       "3  Contender Series 2020   Week 8  2020.08.11      0\n",
       "4  Contender Series 2020   Week 7  2020.08.04      0"
      ]
     },
     "execution_count": 5,
     "metadata": {},
     "output_type": "execute_result"
    }
   ],
   "source": [
    "df_results = df_results[0]\n",
    "df_results = df_results.dropna(axis=1,how='all')\n",
    "df_results.head()"
   ]
  },
  {
   "cell_type": "markdown",
   "metadata": {},
   "source": [
    "That's cleaner but it is still missing the links so let's add those in. First I'll take the first table then I'll find all the tr elements and pull the href attribute from them. Then I'll add that list to the df_results under a new 'link' column."
   ]
  },
  {
   "cell_type": "code",
   "execution_count": 6,
   "metadata": {},
   "outputs": [
    {
     "data": {
      "text/plain": [
       "<tr>\n",
       "<th class=\"lrgB\" scope=\"col\">Events (864)</th>\n",
       "<th class=\"gutter\" scope=\"col\"> </th>\n",
       "<th class=\"lrgA\" scope=\"col\">Name</th>\n",
       "<th class=\"gutter\" scope=\"col\"> </th>\n",
       "<th class=\"rightC\" scope=\"col\">Date</th>\n",
       "<th class=\"gutter\" scope=\"col\"> </th>\n",
       "<th class=\"smlD\" scope=\"col\">Bouts</th>\n",
       "</tr>"
      ]
     },
     "execution_count": 6,
     "metadata": {},
     "output_type": "execute_result"
    }
   ],
   "source": [
    "page = requests.get('https://www.tapology.com/search?term=ufc&mainSearchFilter=events').text\n",
    "soup = BeautifulSoup(page, 'html.parser')\n",
    "table = soup.find('table')\n",
    "rows = table.find_all('tr')\n",
    "rows[0]"
   ]
  },
  {
   "cell_type": "markdown",
   "metadata": {},
   "source": [
    "The first row is the header, so I'll drop that and then use a list comprehension. First I want to see how I can access the 'href' attribute."
   ]
  },
  {
   "cell_type": "code",
   "execution_count": 7,
   "metadata": {},
   "outputs": [],
   "source": [
    "rows = rows[1:]"
   ]
  },
  {
   "cell_type": "markdown",
   "metadata": {},
   "source": [
    "I'll find out how to get one"
   ]
  },
  {
   "cell_type": "code",
   "execution_count": 8,
   "metadata": {},
   "outputs": [
    {
     "data": {
      "text/plain": [
       "'/fightcenter/events/68353-contender-series-2020-week-10'"
      ]
     },
     "execution_count": 8,
     "metadata": {},
     "output_type": "execute_result"
    }
   ],
   "source": [
    "rows[0].find('a').get('href')"
   ]
  },
  {
   "cell_type": "markdown",
   "metadata": {},
   "source": [
    "Then I'll get the rest"
   ]
  },
  {
   "cell_type": "code",
   "execution_count": 9,
   "metadata": {},
   "outputs": [
    {
     "data": {
      "text/plain": [
       "['/fightcenter/events/68353-contender-series-2020-week-10',\n",
       " '/fightcenter/events/68352-contender-series-2020-week-9',\n",
       " '/fightcenter/events/67159-ufc-on-espn',\n",
       " '/fightcenter/events/68351-contender-series-2020-week-8',\n",
       " '/fightcenter/events/68350-contender-series-2020-week-7']"
      ]
     },
     "execution_count": 9,
     "metadata": {},
     "output_type": "execute_result"
    }
   ],
   "source": [
    "links = [row.find('a').get('href') for row in rows]\n",
    "links [:5]"
   ]
  },
  {
   "cell_type": "code",
   "execution_count": 10,
   "metadata": {},
   "outputs": [
    {
     "name": "stdout",
     "output_type": "stream",
     "text": [
      "<class 'pandas.core.frame.DataFrame'>\n",
      "RangeIndex: 864 entries, 0 to 863\n",
      "Data columns (total 5 columns):\n",
      " #   Column        Non-Null Count  Dtype \n",
      "---  ------        --------------  ----- \n",
      " 0   Events (864)  864 non-null    object\n",
      " 1   Name          727 non-null    object\n",
      " 2   Date          864 non-null    object\n",
      " 3   Bouts         864 non-null    int64 \n",
      " 4   link          864 non-null    object\n",
      "dtypes: int64(1), object(4)\n",
      "memory usage: 33.9+ KB\n",
      "None\n"
     ]
    },
    {
     "data": {
      "text/html": [
       "<div>\n",
       "<style scoped>\n",
       "    .dataframe tbody tr th:only-of-type {\n",
       "        vertical-align: middle;\n",
       "    }\n",
       "\n",
       "    .dataframe tbody tr th {\n",
       "        vertical-align: top;\n",
       "    }\n",
       "\n",
       "    .dataframe thead th {\n",
       "        text-align: right;\n",
       "    }\n",
       "</style>\n",
       "<table border=\"1\" class=\"dataframe\">\n",
       "  <thead>\n",
       "    <tr style=\"text-align: right;\">\n",
       "      <th></th>\n",
       "      <th>Events (864)</th>\n",
       "      <th>Name</th>\n",
       "      <th>Date</th>\n",
       "      <th>Bouts</th>\n",
       "      <th>link</th>\n",
       "    </tr>\n",
       "  </thead>\n",
       "  <tbody>\n",
       "    <tr>\n",
       "      <th>0</th>\n",
       "      <td>Contender Series 2020</td>\n",
       "      <td>Week 10</td>\n",
       "      <td>2020.08.25</td>\n",
       "      <td>0</td>\n",
       "      <td>/fightcenter/events/68353-contender-series-202...</td>\n",
       "    </tr>\n",
       "    <tr>\n",
       "      <th>1</th>\n",
       "      <td>Contender Series 2020</td>\n",
       "      <td>Week 9</td>\n",
       "      <td>2020.08.18</td>\n",
       "      <td>0</td>\n",
       "      <td>/fightcenter/events/68352-contender-series-202...</td>\n",
       "    </tr>\n",
       "    <tr>\n",
       "      <th>2</th>\n",
       "      <td>UFC Fight Night</td>\n",
       "      <td>NaN</td>\n",
       "      <td>2020.08.15</td>\n",
       "      <td>1</td>\n",
       "      <td>/fightcenter/events/67159-ufc-on-espn</td>\n",
       "    </tr>\n",
       "    <tr>\n",
       "      <th>3</th>\n",
       "      <td>Contender Series 2020</td>\n",
       "      <td>Week 8</td>\n",
       "      <td>2020.08.11</td>\n",
       "      <td>0</td>\n",
       "      <td>/fightcenter/events/68351-contender-series-202...</td>\n",
       "    </tr>\n",
       "    <tr>\n",
       "      <th>4</th>\n",
       "      <td>Contender Series 2020</td>\n",
       "      <td>Week 7</td>\n",
       "      <td>2020.08.04</td>\n",
       "      <td>0</td>\n",
       "      <td>/fightcenter/events/68350-contender-series-202...</td>\n",
       "    </tr>\n",
       "  </tbody>\n",
       "</table>\n",
       "</div>"
      ],
      "text/plain": [
       "            Events (864)     Name        Date  Bouts  \\\n",
       "0  Contender Series 2020  Week 10  2020.08.25      0   \n",
       "1  Contender Series 2020   Week 9  2020.08.18      0   \n",
       "2        UFC Fight Night      NaN  2020.08.15      1   \n",
       "3  Contender Series 2020   Week 8  2020.08.11      0   \n",
       "4  Contender Series 2020   Week 7  2020.08.04      0   \n",
       "\n",
       "                                                link  \n",
       "0  /fightcenter/events/68353-contender-series-202...  \n",
       "1  /fightcenter/events/68352-contender-series-202...  \n",
       "2              /fightcenter/events/67159-ufc-on-espn  \n",
       "3  /fightcenter/events/68351-contender-series-202...  \n",
       "4  /fightcenter/events/68350-contender-series-202...  "
      ]
     },
     "execution_count": 10,
     "metadata": {},
     "output_type": "execute_result"
    }
   ],
   "source": [
    "df_results['link'] = links\n",
    "print(df_results.info())\n",
    "df_results.head()"
   ]
  },
  {
   "cell_type": "markdown",
   "metadata": {},
   "source": [
    "The next thing I want to do is clear out all of the non UFC events, and I'll cut out The Ultimate Fighter fights as well because most of these, if not all, are exhibition matches. I'll probably need to use regular expressions for this."
   ]
  },
  {
   "cell_type": "code",
   "execution_count": 13,
   "metadata": {},
   "outputs": [
    {
     "name": "stdout",
     "output_type": "stream",
     "text": [
      "UFC\n",
      "UFC\n",
      "UFC\n",
      "UFC\n",
      "UFC\n",
      "UFC\n",
      "UFC\n",
      "UFC\n",
      "UFC\n",
      "UFC\n",
      "UFC\n",
      "UFC\n",
      "UFC\n",
      "UFC\n",
      "UFC\n",
      "UFC\n",
      "UFC\n",
      "UFC\n",
      "UFC\n",
      "UFC\n",
      "UFC\n",
      "UFC\n",
      "UFC\n",
      "UFC\n",
      "UFC\n",
      "UFC\n",
      "UFC\n",
      "UFC\n",
      "UFC\n",
      "UFC\n",
      "UFC\n",
      "UFC\n",
      "----------- AUFC 25 -----------\n",
      "UFC\n",
      "UFC\n",
      "UFC\n",
      "UFC\n",
      "UFC\n",
      "UFC\n",
      "----------- Davao Urban FC Fight Night 17 -----------\n",
      "----------- AUFC 24 -----------\n",
      "UFC\n",
      "UFC\n",
      "UFC\n",
      "UFC\n",
      "UFC\n",
      "UFC\n",
      "UFC\n",
      "UFC\n",
      "----------- Davao Urban FC Fight Night 16 -----------\n"
     ]
    }
   ],
   "source": [
    "import re\n",
    "\n",
    "ufc = re.compile('^UFC') #matches the start of the string with UFC\n",
    "contender = re.compile('^Contender')\n",
    "\n",
    "for event in df_results['Events (864)'][:50]:\n",
    "    if ufc.match(event) or contender.match(event):\n",
    "        print('UFC')\n",
    "    else:\n",
    "        print('-----------', event, '-----------')"
   ]
  },
  {
   "cell_type": "markdown",
   "metadata": {},
   "source": [
    "Maybe I can use these regular expressions to create a mask that will filter out all non-UFC events."
   ]
  },
  {
   "cell_type": "code",
   "execution_count": 19,
   "metadata": {},
   "outputs": [],
   "source": [
    "def is_ufc(event_name):\n",
    "    if ufc.match(event_name) or contender.match(event_name):\n",
    "        return True\n",
    "    else:\n",
    "        return False"
   ]
  },
  {
   "cell_type": "code",
   "execution_count": 21,
   "metadata": {},
   "outputs": [],
   "source": [
    "mask=df_results['Events (864)'].map(is_ufc)"
   ]
  },
  {
   "cell_type": "code",
   "execution_count": 30,
   "metadata": {},
   "outputs": [
    {
     "name": "stdout",
     "output_type": "stream",
     "text": [
      "<class 'pandas.core.frame.DataFrame'>\n",
      "Int64Index: 534 entries, 0 to 863\n",
      "Data columns (total 5 columns):\n",
      " #   Column        Non-Null Count  Dtype \n",
      "---  ------        --------------  ----- \n",
      " 0   Events (864)  534 non-null    object\n",
      " 1   Name          517 non-null    object\n",
      " 2   Date          534 non-null    object\n",
      " 3   Bouts         534 non-null    int64 \n",
      " 4   link          534 non-null    object\n",
      "dtypes: int64(1), object(4)\n",
      "memory usage: 25.0+ KB\n",
      "None\n"
     ]
    },
    {
     "data": {
      "text/html": [
       "<div>\n",
       "<style scoped>\n",
       "    .dataframe tbody tr th:only-of-type {\n",
       "        vertical-align: middle;\n",
       "    }\n",
       "\n",
       "    .dataframe tbody tr th {\n",
       "        vertical-align: top;\n",
       "    }\n",
       "\n",
       "    .dataframe thead th {\n",
       "        text-align: right;\n",
       "    }\n",
       "</style>\n",
       "<table border=\"1\" class=\"dataframe\">\n",
       "  <thead>\n",
       "    <tr style=\"text-align: right;\">\n",
       "      <th></th>\n",
       "      <th>Events (864)</th>\n",
       "      <th>Name</th>\n",
       "      <th>Date</th>\n",
       "      <th>Bouts</th>\n",
       "      <th>link</th>\n",
       "    </tr>\n",
       "  </thead>\n",
       "  <tbody>\n",
       "    <tr>\n",
       "      <th>0</th>\n",
       "      <td>Contender Series 2020</td>\n",
       "      <td>Week 10</td>\n",
       "      <td>2020.08.25</td>\n",
       "      <td>0</td>\n",
       "      <td>/fightcenter/events/68353-contender-series-202...</td>\n",
       "    </tr>\n",
       "    <tr>\n",
       "      <th>1</th>\n",
       "      <td>Contender Series 2020</td>\n",
       "      <td>Week 9</td>\n",
       "      <td>2020.08.18</td>\n",
       "      <td>0</td>\n",
       "      <td>/fightcenter/events/68352-contender-series-202...</td>\n",
       "    </tr>\n",
       "    <tr>\n",
       "      <th>2</th>\n",
       "      <td>UFC Fight Night</td>\n",
       "      <td>NaN</td>\n",
       "      <td>2020.08.15</td>\n",
       "      <td>1</td>\n",
       "      <td>/fightcenter/events/67159-ufc-on-espn</td>\n",
       "    </tr>\n",
       "    <tr>\n",
       "      <th>3</th>\n",
       "      <td>Contender Series 2020</td>\n",
       "      <td>Week 8</td>\n",
       "      <td>2020.08.11</td>\n",
       "      <td>0</td>\n",
       "      <td>/fightcenter/events/68351-contender-series-202...</td>\n",
       "    </tr>\n",
       "    <tr>\n",
       "      <th>4</th>\n",
       "      <td>Contender Series 2020</td>\n",
       "      <td>Week 7</td>\n",
       "      <td>2020.08.04</td>\n",
       "      <td>0</td>\n",
       "      <td>/fightcenter/events/68350-contender-series-202...</td>\n",
       "    </tr>\n",
       "  </tbody>\n",
       "</table>\n",
       "</div>"
      ],
      "text/plain": [
       "            Events (864)     Name        Date  Bouts  \\\n",
       "0  Contender Series 2020  Week 10  2020.08.25      0   \n",
       "1  Contender Series 2020   Week 9  2020.08.18      0   \n",
       "2        UFC Fight Night      NaN  2020.08.15      1   \n",
       "3  Contender Series 2020   Week 8  2020.08.11      0   \n",
       "4  Contender Series 2020   Week 7  2020.08.04      0   \n",
       "\n",
       "                                                link  \n",
       "0  /fightcenter/events/68353-contender-series-202...  \n",
       "1  /fightcenter/events/68352-contender-series-202...  \n",
       "2              /fightcenter/events/67159-ufc-on-espn  \n",
       "3  /fightcenter/events/68351-contender-series-202...  \n",
       "4  /fightcenter/events/68350-contender-series-202...  "
      ]
     },
     "execution_count": 30,
     "metadata": {},
     "output_type": "execute_result"
    }
   ],
   "source": [
    "ufc_only = df_results[mask]\n",
    "ufc_only.reset_index()\n",
    "\n",
    "print(ufc_only.info())\n",
    "ufc_only.head()"
   ]
  },
  {
   "cell_type": "markdown",
   "metadata": {},
   "source": [
    "Seems like it worked. I'm going to export this as a csv and save it for later. Before I do that, I'm just going to rename the columns"
   ]
  },
  {
   "cell_type": "code",
   "execution_count": 31,
   "metadata": {},
   "outputs": [],
   "source": [
    "ufc_only.columns = ['event', 'name', 'date', 'bouts', 'link']"
   ]
  },
  {
   "cell_type": "code",
   "execution_count": 32,
   "metadata": {},
   "outputs": [],
   "source": [
    "ufc_only.to_csv('UFC_events_tapolgy.csv')"
   ]
  }
 ],
 "metadata": {
  "kernelspec": {
   "display_name": "Python 3",
   "language": "python",
   "name": "python3"
  },
  "language_info": {
   "codemirror_mode": {
    "name": "ipython",
    "version": 3
   },
   "file_extension": ".py",
   "mimetype": "text/x-python",
   "name": "python",
   "nbconvert_exporter": "python",
   "pygments_lexer": "ipython3",
   "version": "3.7.6"
  }
 },
 "nbformat": 4,
 "nbformat_minor": 4
}
