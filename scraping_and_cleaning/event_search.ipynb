{
 "cells": [
  {
   "cell_type": "markdown",
   "metadata": {},
   "source": [
    "## Scraping Tapology.com for UFC\n",
    "\n",
    "I want to scrape tapology.com for the bout information of UFC events. I'm looking to create a few data frames that I will convert into csv's for further exploration. I'll start with importing the following modules:"
   ]
  },
  {
   "cell_type": "code",
   "execution_count": 1,
   "metadata": {},
   "outputs": [],
   "source": [
    "%load_ext autoreload\n",
    "%autoreload 2\n",
    "\n",
    "import os\n",
    "import sys\n",
    "\n",
    "module_path = os.path.abspath(os.path.join(os.pardir))\n",
    "if module_path not in sys.path:\n",
    "    sys.path.append(module_path)\n",
    "\n",
    "from bs4 import BeautifulSoup\n",
    "import requests\n",
    "import pandas as pd\n",
    "import src"
   ]
  },
  {
   "cell_type": "markdown",
   "metadata": {},
   "source": [
    "## Table: Events\n",
    "\n",
    "I have the url to a search results page that contains all of the events I want to look at. So I'll start by converting that into a beautiful soup object. I'm going to use pandas read_html so that I can pull in the whole list."
   ]
  },
  {
   "cell_type": "code",
   "execution_count": 2,
   "metadata": {},
   "outputs": [
    {
     "data": {
      "text/plain": [
       "3"
      ]
     },
     "execution_count": 2,
     "metadata": {},
     "output_type": "execute_result"
    }
   ],
   "source": [
    "df_results = pd.read_html('https://www.tapology.com/search?term=ufc&mainSearchFilter=events')\n",
    "len(df_results)"
   ]
  },
  {
   "cell_type": "markdown",
   "metadata": {},
   "source": [
    "Read_html returns a list of all the tables found in a web page, so I need to figure ot which one I want. To do this, I'll check the info for each of the dataframes. I know I have 864 results from the web page by just looking at it so I'll choose the one matching that in length."
   ]
  },
  {
   "cell_type": "code",
   "execution_count": 3,
   "metadata": {},
   "outputs": [
    {
     "name": "stdout",
     "output_type": "stream",
     "text": [
      "<class 'pandas.core.frame.DataFrame'>\n",
      "RangeIndex: 864 entries, 0 to 863\n",
      "Data columns (total 7 columns):\n",
      " #   Column        Non-Null Count  Dtype  \n",
      "---  ------        --------------  -----  \n",
      " 0   Events (864)  864 non-null    object \n",
      " 1   Unnamed: 1    0 non-null      float64\n",
      " 2   Name          727 non-null    object \n",
      " 3   Unnamed: 3    0 non-null      float64\n",
      " 4   Date          864 non-null    object \n",
      " 5   Unnamed: 5    0 non-null      float64\n",
      " 6   Bouts         864 non-null    int64  \n",
      "dtypes: float64(3), int64(1), object(3)\n",
      "memory usage: 47.4+ KB\n",
      "None \n",
      "\n",
      "\n",
      "\n",
      "<class 'pandas.core.frame.DataFrame'>\n",
      "RangeIndex: 8 entries, 0 to 7\n",
      "Data columns (total 3 columns):\n",
      " #   Column      Non-Null Count  Dtype  \n",
      "---  ------      --------------  -----  \n",
      " 0   Event       8 non-null      object \n",
      " 1   Unnamed: 1  0 non-null      float64\n",
      " 2   Start Time  8 non-null      object \n",
      "dtypes: float64(1), object(2)\n",
      "memory usage: 320.0+ bytes\n",
      "None \n",
      "\n",
      "\n",
      "\n",
      "<class 'pandas.core.frame.DataFrame'>\n",
      "RangeIndex: 8 entries, 0 to 7\n",
      "Data columns (total 1 columns):\n",
      " #   Column                           Non-Null Count  Dtype \n",
      "---  ------                           --------------  ----- \n",
      " 0   All-Time Biggest Upsets  | edit  8 non-null      object\n",
      "dtypes: object(1)\n",
      "memory usage: 192.0+ bytes\n",
      "None \n",
      "\n",
      "\n",
      "\n"
     ]
    }
   ],
   "source": [
    "for df in df_results:\n",
    "    print(df.info(),'\\n\\n\\n')"
   ]
  },
  {
   "cell_type": "markdown",
   "metadata": {},
   "source": [
    "It looks like the first one is the one I want, so let's make sure it has all the info I want."
   ]
  },
  {
   "cell_type": "code",
   "execution_count": 4,
   "metadata": {},
   "outputs": [
    {
     "data": {
      "text/html": [
       "<div>\n",
       "<style scoped>\n",
       "    .dataframe tbody tr th:only-of-type {\n",
       "        vertical-align: middle;\n",
       "    }\n",
       "\n",
       "    .dataframe tbody tr th {\n",
       "        vertical-align: top;\n",
       "    }\n",
       "\n",
       "    .dataframe thead th {\n",
       "        text-align: right;\n",
       "    }\n",
       "</style>\n",
       "<table border=\"1\" class=\"dataframe\">\n",
       "  <thead>\n",
       "    <tr style=\"text-align: right;\">\n",
       "      <th></th>\n",
       "      <th>Events (864)</th>\n",
       "      <th>Unnamed: 1</th>\n",
       "      <th>Name</th>\n",
       "      <th>Unnamed: 3</th>\n",
       "      <th>Date</th>\n",
       "      <th>Unnamed: 5</th>\n",
       "      <th>Bouts</th>\n",
       "    </tr>\n",
       "  </thead>\n",
       "  <tbody>\n",
       "    <tr>\n",
       "      <th>0</th>\n",
       "      <td>Contender Series 2020</td>\n",
       "      <td>NaN</td>\n",
       "      <td>Week 10</td>\n",
       "      <td>NaN</td>\n",
       "      <td>2020.08.25</td>\n",
       "      <td>NaN</td>\n",
       "      <td>0</td>\n",
       "    </tr>\n",
       "    <tr>\n",
       "      <th>1</th>\n",
       "      <td>Contender Series 2020</td>\n",
       "      <td>NaN</td>\n",
       "      <td>Week 9</td>\n",
       "      <td>NaN</td>\n",
       "      <td>2020.08.18</td>\n",
       "      <td>NaN</td>\n",
       "      <td>0</td>\n",
       "    </tr>\n",
       "    <tr>\n",
       "      <th>2</th>\n",
       "      <td>UFC Fight Night</td>\n",
       "      <td>NaN</td>\n",
       "      <td>NaN</td>\n",
       "      <td>NaN</td>\n",
       "      <td>2020.08.15</td>\n",
       "      <td>NaN</td>\n",
       "      <td>1</td>\n",
       "    </tr>\n",
       "    <tr>\n",
       "      <th>3</th>\n",
       "      <td>Contender Series 2020</td>\n",
       "      <td>NaN</td>\n",
       "      <td>Week 8</td>\n",
       "      <td>NaN</td>\n",
       "      <td>2020.08.11</td>\n",
       "      <td>NaN</td>\n",
       "      <td>0</td>\n",
       "    </tr>\n",
       "    <tr>\n",
       "      <th>4</th>\n",
       "      <td>Contender Series 2020</td>\n",
       "      <td>NaN</td>\n",
       "      <td>Week 7</td>\n",
       "      <td>NaN</td>\n",
       "      <td>2020.08.04</td>\n",
       "      <td>NaN</td>\n",
       "      <td>0</td>\n",
       "    </tr>\n",
       "  </tbody>\n",
       "</table>\n",
       "</div>"
      ],
      "text/plain": [
       "            Events (864)  Unnamed: 1     Name  Unnamed: 3        Date  \\\n",
       "0  Contender Series 2020         NaN  Week 10         NaN  2020.08.25   \n",
       "1  Contender Series 2020         NaN   Week 9         NaN  2020.08.18   \n",
       "2        UFC Fight Night         NaN      NaN         NaN  2020.08.15   \n",
       "3  Contender Series 2020         NaN   Week 8         NaN  2020.08.11   \n",
       "4  Contender Series 2020         NaN   Week 7         NaN  2020.08.04   \n",
       "\n",
       "   Unnamed: 5  Bouts  \n",
       "0         NaN      0  \n",
       "1         NaN      0  \n",
       "2         NaN      1  \n",
       "3         NaN      0  \n",
       "4         NaN      0  "
      ]
     },
     "execution_count": 4,
     "metadata": {},
     "output_type": "execute_result"
    }
   ],
   "source": [
    "df_results[0].head()"
   ]
  },
  {
   "cell_type": "markdown",
   "metadata": {},
   "source": [
    "The only thing it's missing is a link to the event page. It also has a few null columns, so I'll drop those as well."
   ]
  },
  {
   "cell_type": "code",
   "execution_count": 5,
   "metadata": {},
   "outputs": [
    {
     "data": {
      "text/html": [
       "<div>\n",
       "<style scoped>\n",
       "    .dataframe tbody tr th:only-of-type {\n",
       "        vertical-align: middle;\n",
       "    }\n",
       "\n",
       "    .dataframe tbody tr th {\n",
       "        vertical-align: top;\n",
       "    }\n",
       "\n",
       "    .dataframe thead th {\n",
       "        text-align: right;\n",
       "    }\n",
       "</style>\n",
       "<table border=\"1\" class=\"dataframe\">\n",
       "  <thead>\n",
       "    <tr style=\"text-align: right;\">\n",
       "      <th></th>\n",
       "      <th>Events (864)</th>\n",
       "      <th>Name</th>\n",
       "      <th>Date</th>\n",
       "      <th>Bouts</th>\n",
       "    </tr>\n",
       "  </thead>\n",
       "  <tbody>\n",
       "    <tr>\n",
       "      <th>0</th>\n",
       "      <td>Contender Series 2020</td>\n",
       "      <td>Week 10</td>\n",
       "      <td>2020.08.25</td>\n",
       "      <td>0</td>\n",
       "    </tr>\n",
       "    <tr>\n",
       "      <th>1</th>\n",
       "      <td>Contender Series 2020</td>\n",
       "      <td>Week 9</td>\n",
       "      <td>2020.08.18</td>\n",
       "      <td>0</td>\n",
       "    </tr>\n",
       "    <tr>\n",
       "      <th>2</th>\n",
       "      <td>UFC Fight Night</td>\n",
       "      <td>NaN</td>\n",
       "      <td>2020.08.15</td>\n",
       "      <td>1</td>\n",
       "    </tr>\n",
       "    <tr>\n",
       "      <th>3</th>\n",
       "      <td>Contender Series 2020</td>\n",
       "      <td>Week 8</td>\n",
       "      <td>2020.08.11</td>\n",
       "      <td>0</td>\n",
       "    </tr>\n",
       "    <tr>\n",
       "      <th>4</th>\n",
       "      <td>Contender Series 2020</td>\n",
       "      <td>Week 7</td>\n",
       "      <td>2020.08.04</td>\n",
       "      <td>0</td>\n",
       "    </tr>\n",
       "  </tbody>\n",
       "</table>\n",
       "</div>"
      ],
      "text/plain": [
       "            Events (864)     Name        Date  Bouts\n",
       "0  Contender Series 2020  Week 10  2020.08.25      0\n",
       "1  Contender Series 2020   Week 9  2020.08.18      0\n",
       "2        UFC Fight Night      NaN  2020.08.15      1\n",
       "3  Contender Series 2020   Week 8  2020.08.11      0\n",
       "4  Contender Series 2020   Week 7  2020.08.04      0"
      ]
     },
     "execution_count": 5,
     "metadata": {},
     "output_type": "execute_result"
    }
   ],
   "source": [
    "df_results = df_results[0]\n",
    "df_results = df_results.dropna(axis=1,how='all')\n",
    "df_results.head()"
   ]
  },
  {
   "cell_type": "markdown",
   "metadata": {},
   "source": [
    "That's cleaner but it is still missing the links so let's add those in. First I'll take the first table then I'll find all the tr elements and pull the href attribute from them. Then I'll add that list to the df_results under a new 'link' column."
   ]
  },
  {
   "cell_type": "code",
   "execution_count": 6,
   "metadata": {},
   "outputs": [
    {
     "data": {
      "text/plain": [
       "<tr>\n",
       "<th class=\"lrgB\" scope=\"col\">Events (864)</th>\n",
       "<th class=\"gutter\" scope=\"col\"> </th>\n",
       "<th class=\"lrgA\" scope=\"col\">Name</th>\n",
       "<th class=\"gutter\" scope=\"col\"> </th>\n",
       "<th class=\"rightC\" scope=\"col\">Date</th>\n",
       "<th class=\"gutter\" scope=\"col\"> </th>\n",
       "<th class=\"smlD\" scope=\"col\">Bouts</th>\n",
       "</tr>"
      ]
     },
     "execution_count": 6,
     "metadata": {},
     "output_type": "execute_result"
    }
   ],
   "source": [
    "page = requests.get('https://www.tapology.com/search?term=ufc&mainSearchFilter=events').text\n",
    "soup = BeautifulSoup(page, 'html.parser')\n",
    "table = soup.find('table')\n",
    "rows = table.find_all('tr')\n",
    "rows[0]"
   ]
  },
  {
   "cell_type": "markdown",
   "metadata": {},
   "source": [
    "The first row is the header, so I'll drop that and then use a list comprehension. First I want to see how I can access the 'href' attribute."
   ]
  },
  {
   "cell_type": "code",
   "execution_count": 7,
   "metadata": {},
   "outputs": [],
   "source": [
    "rows = rows[1:]"
   ]
  },
  {
   "cell_type": "markdown",
   "metadata": {},
   "source": [
    "I'll find out how to get one"
   ]
  },
  {
   "cell_type": "code",
   "execution_count": 8,
   "metadata": {},
   "outputs": [
    {
     "data": {
      "text/plain": [
       "'/fightcenter/events/68353-contender-series-2020-week-10'"
      ]
     },
     "execution_count": 8,
     "metadata": {},
     "output_type": "execute_result"
    }
   ],
   "source": [
    "rows[0].find('a').get('href')"
   ]
  },
  {
   "cell_type": "markdown",
   "metadata": {},
   "source": [
    "Then I'll get the rest"
   ]
  },
  {
   "cell_type": "code",
   "execution_count": 9,
   "metadata": {},
   "outputs": [
    {
     "data": {
      "text/plain": [
       "['/fightcenter/events/68353-contender-series-2020-week-10',\n",
       " '/fightcenter/events/68352-contender-series-2020-week-9',\n",
       " '/fightcenter/events/67159-ufc-on-espn',\n",
       " '/fightcenter/events/68351-contender-series-2020-week-8',\n",
       " '/fightcenter/events/68350-contender-series-2020-week-7']"
      ]
     },
     "execution_count": 9,
     "metadata": {},
     "output_type": "execute_result"
    }
   ],
   "source": [
    "links = [row.find('a').get('href') for row in rows]\n",
    "links [:5]"
   ]
  },
  {
   "cell_type": "code",
   "execution_count": 10,
   "metadata": {},
   "outputs": [
    {
     "name": "stdout",
     "output_type": "stream",
     "text": [
      "<class 'pandas.core.frame.DataFrame'>\n",
      "RangeIndex: 864 entries, 0 to 863\n",
      "Data columns (total 5 columns):\n",
      " #   Column        Non-Null Count  Dtype \n",
      "---  ------        --------------  ----- \n",
      " 0   Events (864)  864 non-null    object\n",
      " 1   Name          727 non-null    object\n",
      " 2   Date          864 non-null    object\n",
      " 3   Bouts         864 non-null    int64 \n",
      " 4   link          864 non-null    object\n",
      "dtypes: int64(1), object(4)\n",
      "memory usage: 33.9+ KB\n",
      "None\n"
     ]
    },
    {
     "data": {
      "text/html": [
       "<div>\n",
       "<style scoped>\n",
       "    .dataframe tbody tr th:only-of-type {\n",
       "        vertical-align: middle;\n",
       "    }\n",
       "\n",
       "    .dataframe tbody tr th {\n",
       "        vertical-align: top;\n",
       "    }\n",
       "\n",
       "    .dataframe thead th {\n",
       "        text-align: right;\n",
       "    }\n",
       "</style>\n",
       "<table border=\"1\" class=\"dataframe\">\n",
       "  <thead>\n",
       "    <tr style=\"text-align: right;\">\n",
       "      <th></th>\n",
       "      <th>Events (864)</th>\n",
       "      <th>Name</th>\n",
       "      <th>Date</th>\n",
       "      <th>Bouts</th>\n",
       "      <th>link</th>\n",
       "    </tr>\n",
       "  </thead>\n",
       "  <tbody>\n",
       "    <tr>\n",
       "      <th>0</th>\n",
       "      <td>Contender Series 2020</td>\n",
       "      <td>Week 10</td>\n",
       "      <td>2020.08.25</td>\n",
       "      <td>0</td>\n",
       "      <td>/fightcenter/events/68353-contender-series-202...</td>\n",
       "    </tr>\n",
       "    <tr>\n",
       "      <th>1</th>\n",
       "      <td>Contender Series 2020</td>\n",
       "      <td>Week 9</td>\n",
       "      <td>2020.08.18</td>\n",
       "      <td>0</td>\n",
       "      <td>/fightcenter/events/68352-contender-series-202...</td>\n",
       "    </tr>\n",
       "    <tr>\n",
       "      <th>2</th>\n",
       "      <td>UFC Fight Night</td>\n",
       "      <td>NaN</td>\n",
       "      <td>2020.08.15</td>\n",
       "      <td>1</td>\n",
       "      <td>/fightcenter/events/67159-ufc-on-espn</td>\n",
       "    </tr>\n",
       "    <tr>\n",
       "      <th>3</th>\n",
       "      <td>Contender Series 2020</td>\n",
       "      <td>Week 8</td>\n",
       "      <td>2020.08.11</td>\n",
       "      <td>0</td>\n",
       "      <td>/fightcenter/events/68351-contender-series-202...</td>\n",
       "    </tr>\n",
       "    <tr>\n",
       "      <th>4</th>\n",
       "      <td>Contender Series 2020</td>\n",
       "      <td>Week 7</td>\n",
       "      <td>2020.08.04</td>\n",
       "      <td>0</td>\n",
       "      <td>/fightcenter/events/68350-contender-series-202...</td>\n",
       "    </tr>\n",
       "  </tbody>\n",
       "</table>\n",
       "</div>"
      ],
      "text/plain": [
       "            Events (864)     Name        Date  Bouts  \\\n",
       "0  Contender Series 2020  Week 10  2020.08.25      0   \n",
       "1  Contender Series 2020   Week 9  2020.08.18      0   \n",
       "2        UFC Fight Night      NaN  2020.08.15      1   \n",
       "3  Contender Series 2020   Week 8  2020.08.11      0   \n",
       "4  Contender Series 2020   Week 7  2020.08.04      0   \n",
       "\n",
       "                                                link  \n",
       "0  /fightcenter/events/68353-contender-series-202...  \n",
       "1  /fightcenter/events/68352-contender-series-202...  \n",
       "2              /fightcenter/events/67159-ufc-on-espn  \n",
       "3  /fightcenter/events/68351-contender-series-202...  \n",
       "4  /fightcenter/events/68350-contender-series-202...  "
      ]
     },
     "execution_count": 10,
     "metadata": {},
     "output_type": "execute_result"
    }
   ],
   "source": [
    "df_results['link'] = links\n",
    "print(df_results.info())\n",
    "df_results.head()"
   ]
  },
  {
   "cell_type": "markdown",
   "metadata": {},
   "source": [
    "The next thing I want to do is clear out all of the non UFC events, and I'll cut out The Ultimate Fighter fights as well because most of these, if not all, are exhibition matches. I'll probably need to use regular expressions for this."
   ]
  },
  {
   "cell_type": "code",
   "execution_count": 11,
   "metadata": {},
   "outputs": [
    {
     "name": "stdout",
     "output_type": "stream",
     "text": [
      "UFC\n",
      "UFC\n",
      "UFC\n",
      "UFC\n",
      "UFC\n",
      "UFC\n",
      "UFC\n",
      "UFC\n",
      "UFC\n",
      "UFC\n",
      "UFC\n",
      "UFC\n",
      "UFC\n",
      "UFC\n",
      "UFC\n",
      "UFC\n",
      "UFC\n",
      "UFC\n",
      "UFC\n",
      "UFC\n",
      "UFC\n",
      "UFC\n",
      "UFC\n",
      "UFC\n",
      "UFC\n",
      "UFC\n",
      "UFC\n",
      "UFC\n",
      "UFC\n",
      "UFC\n",
      "UFC\n",
      "UFC\n",
      "----------- AUFC 25 -----------\n",
      "UFC\n",
      "UFC\n",
      "UFC\n",
      "UFC\n",
      "UFC\n",
      "UFC\n",
      "----------- Davao Urban FC Fight Night 17 -----------\n",
      "----------- AUFC 24 -----------\n",
      "UFC\n",
      "UFC\n",
      "UFC\n",
      "UFC\n",
      "UFC\n",
      "UFC\n",
      "UFC\n",
      "UFC\n",
      "----------- Davao Urban FC Fight Night 16 -----------\n"
     ]
    }
   ],
   "source": [
    "import re\n",
    "\n",
    "ufc = re.compile('^UFC') #matches the start of the string with UFC\n",
    "contender = re.compile('^Contender')\n",
    "\n",
    "for event in df_results['Events (864)'][:50]:\n",
    "    if ufc.match(event) or contender.match(event):\n",
    "        print('UFC')\n",
    "    else:\n",
    "        print('-----------', event, '-----------')"
   ]
  },
  {
   "cell_type": "markdown",
   "metadata": {},
   "source": [
    "Maybe I can use these regular expressions to create a mask that will filter out all non-UFC events."
   ]
  },
  {
   "cell_type": "code",
   "execution_count": 12,
   "metadata": {},
   "outputs": [],
   "source": [
    "def is_ufc(event_name):\n",
    "    if ufc.match(event_name) or contender.match(event_name):\n",
    "        return True\n",
    "    else:\n",
    "        return False"
   ]
  },
  {
   "cell_type": "code",
   "execution_count": 13,
   "metadata": {},
   "outputs": [],
   "source": [
    "mask=df_results['Events (864)'].map(is_ufc)"
   ]
  },
  {
   "cell_type": "code",
   "execution_count": 14,
   "metadata": {},
   "outputs": [
    {
     "name": "stdout",
     "output_type": "stream",
     "text": [
      "<class 'pandas.core.frame.DataFrame'>\n",
      "Int64Index: 534 entries, 0 to 863\n",
      "Data columns (total 5 columns):\n",
      " #   Column        Non-Null Count  Dtype \n",
      "---  ------        --------------  ----- \n",
      " 0   Events (864)  534 non-null    object\n",
      " 1   Name          517 non-null    object\n",
      " 2   Date          534 non-null    object\n",
      " 3   Bouts         534 non-null    int64 \n",
      " 4   link          534 non-null    object\n",
      "dtypes: int64(1), object(4)\n",
      "memory usage: 25.0+ KB\n",
      "None\n"
     ]
    },
    {
     "data": {
      "text/html": [
       "<div>\n",
       "<style scoped>\n",
       "    .dataframe tbody tr th:only-of-type {\n",
       "        vertical-align: middle;\n",
       "    }\n",
       "\n",
       "    .dataframe tbody tr th {\n",
       "        vertical-align: top;\n",
       "    }\n",
       "\n",
       "    .dataframe thead th {\n",
       "        text-align: right;\n",
       "    }\n",
       "</style>\n",
       "<table border=\"1\" class=\"dataframe\">\n",
       "  <thead>\n",
       "    <tr style=\"text-align: right;\">\n",
       "      <th></th>\n",
       "      <th>Events (864)</th>\n",
       "      <th>Name</th>\n",
       "      <th>Date</th>\n",
       "      <th>Bouts</th>\n",
       "      <th>link</th>\n",
       "    </tr>\n",
       "  </thead>\n",
       "  <tbody>\n",
       "    <tr>\n",
       "      <th>0</th>\n",
       "      <td>Contender Series 2020</td>\n",
       "      <td>Week 10</td>\n",
       "      <td>2020.08.25</td>\n",
       "      <td>0</td>\n",
       "      <td>/fightcenter/events/68353-contender-series-202...</td>\n",
       "    </tr>\n",
       "    <tr>\n",
       "      <th>1</th>\n",
       "      <td>Contender Series 2020</td>\n",
       "      <td>Week 9</td>\n",
       "      <td>2020.08.18</td>\n",
       "      <td>0</td>\n",
       "      <td>/fightcenter/events/68352-contender-series-202...</td>\n",
       "    </tr>\n",
       "    <tr>\n",
       "      <th>2</th>\n",
       "      <td>UFC Fight Night</td>\n",
       "      <td>NaN</td>\n",
       "      <td>2020.08.15</td>\n",
       "      <td>1</td>\n",
       "      <td>/fightcenter/events/67159-ufc-on-espn</td>\n",
       "    </tr>\n",
       "    <tr>\n",
       "      <th>3</th>\n",
       "      <td>Contender Series 2020</td>\n",
       "      <td>Week 8</td>\n",
       "      <td>2020.08.11</td>\n",
       "      <td>0</td>\n",
       "      <td>/fightcenter/events/68351-contender-series-202...</td>\n",
       "    </tr>\n",
       "    <tr>\n",
       "      <th>4</th>\n",
       "      <td>Contender Series 2020</td>\n",
       "      <td>Week 7</td>\n",
       "      <td>2020.08.04</td>\n",
       "      <td>0</td>\n",
       "      <td>/fightcenter/events/68350-contender-series-202...</td>\n",
       "    </tr>\n",
       "  </tbody>\n",
       "</table>\n",
       "</div>"
      ],
      "text/plain": [
       "            Events (864)     Name        Date  Bouts  \\\n",
       "0  Contender Series 2020  Week 10  2020.08.25      0   \n",
       "1  Contender Series 2020   Week 9  2020.08.18      0   \n",
       "2        UFC Fight Night      NaN  2020.08.15      1   \n",
       "3  Contender Series 2020   Week 8  2020.08.11      0   \n",
       "4  Contender Series 2020   Week 7  2020.08.04      0   \n",
       "\n",
       "                                                link  \n",
       "0  /fightcenter/events/68353-contender-series-202...  \n",
       "1  /fightcenter/events/68352-contender-series-202...  \n",
       "2              /fightcenter/events/67159-ufc-on-espn  \n",
       "3  /fightcenter/events/68351-contender-series-202...  \n",
       "4  /fightcenter/events/68350-contender-series-202...  "
      ]
     },
     "execution_count": 14,
     "metadata": {},
     "output_type": "execute_result"
    }
   ],
   "source": [
    "ufc_only = df_results[mask]\n",
    "ufc_only.reset_index()\n",
    "\n",
    "print(ufc_only.info())\n",
    "ufc_only.head()"
   ]
  },
  {
   "cell_type": "markdown",
   "metadata": {},
   "source": [
    "Seems like it worked. I'm going to export this as a csv and save it for later. Before I do that, I'm just going to rename the columns"
   ]
  },
  {
   "cell_type": "code",
   "execution_count": 15,
   "metadata": {},
   "outputs": [],
   "source": [
    "ufc_only.columns = ['event', 'name', 'date', 'bouts', 'link']"
   ]
  },
  {
   "cell_type": "code",
   "execution_count": 12,
   "metadata": {},
   "outputs": [],
   "source": [
    "#ufc_only.to_csv('events_ufc_tapology.csv')"
   ]
  },
  {
   "cell_type": "markdown",
   "metadata": {},
   "source": [
    "## function testing\n",
    "\n",
    "Disclaimer: the follwing function combines modifications used in 02_mef_tapology_scrape so it will differ slightly."
   ]
  },
  {
   "cell_type": "code",
   "execution_count": 25,
   "metadata": {},
   "outputs": [
    {
     "data": {
      "text/html": [
       "<div>\n",
       "<style scoped>\n",
       "    .dataframe tbody tr th:only-of-type {\n",
       "        vertical-align: middle;\n",
       "    }\n",
       "\n",
       "    .dataframe tbody tr th {\n",
       "        vertical-align: top;\n",
       "    }\n",
       "\n",
       "    .dataframe thead th {\n",
       "        text-align: right;\n",
       "    }\n",
       "</style>\n",
       "<table border=\"1\" class=\"dataframe\">\n",
       "  <thead>\n",
       "    <tr style=\"text-align: right;\">\n",
       "      <th></th>\n",
       "      <th>event</th>\n",
       "      <th>name</th>\n",
       "      <th>date</th>\n",
       "      <th>bouts</th>\n",
       "      <th>link</th>\n",
       "    </tr>\n",
       "  </thead>\n",
       "  <tbody>\n",
       "    <tr>\n",
       "      <th>20</th>\n",
       "      <td>UFC Fight Night</td>\n",
       "      <td>Woodley vs. Burns</td>\n",
       "      <td>2020-05-30</td>\n",
       "      <td>11</td>\n",
       "      <td>/fightcenter/events/69127-ufc-fight-night</td>\n",
       "    </tr>\n",
       "    <tr>\n",
       "      <th>21</th>\n",
       "      <td>UFC Fight Night</td>\n",
       "      <td>Overeem vs. Harris</td>\n",
       "      <td>2020-05-16</td>\n",
       "      <td>11</td>\n",
       "      <td>/fightcenter/events/67412-ufc-on-espn-33</td>\n",
       "    </tr>\n",
       "    <tr>\n",
       "      <th>22</th>\n",
       "      <td>UFC Fight Night</td>\n",
       "      <td>Smith vs. Teixeira</td>\n",
       "      <td>2020-05-13</td>\n",
       "      <td>10</td>\n",
       "      <td>/fightcenter/events/69126-ufc-fight-night</td>\n",
       "    </tr>\n",
       "    <tr>\n",
       "      <th>23</th>\n",
       "      <td>UFC 249</td>\n",
       "      <td>Ferguson vs. Gaethje</td>\n",
       "      <td>2020-05-09</td>\n",
       "      <td>11</td>\n",
       "      <td>/fightcenter/events/66312-ufc-250</td>\n",
       "    </tr>\n",
       "    <tr>\n",
       "      <th>30</th>\n",
       "      <td>UFC on ESPN+ 28</td>\n",
       "      <td>Lee vs. Oliveira</td>\n",
       "      <td>2020-03-14</td>\n",
       "      <td>12</td>\n",
       "      <td>/fightcenter/events/64600-ufc-on-espn-26</td>\n",
       "    </tr>\n",
       "    <tr>\n",
       "      <th>...</th>\n",
       "      <td>...</td>\n",
       "      <td>...</td>\n",
       "      <td>...</td>\n",
       "      <td>...</td>\n",
       "      <td>...</td>\n",
       "    </tr>\n",
       "    <tr>\n",
       "      <th>859</th>\n",
       "      <td>UFC 5</td>\n",
       "      <td>Return of the Beast</td>\n",
       "      <td>1995-04-07</td>\n",
       "      <td>10</td>\n",
       "      <td>/fightcenter/events/ufc-5-return-of-the-beast</td>\n",
       "    </tr>\n",
       "    <tr>\n",
       "      <th>860</th>\n",
       "      <td>UFC 4</td>\n",
       "      <td>Revenge of the Warriors</td>\n",
       "      <td>1994-12-16</td>\n",
       "      <td>10</td>\n",
       "      <td>/fightcenter/events/ufc-4-revenge-of-the-warriors</td>\n",
       "    </tr>\n",
       "    <tr>\n",
       "      <th>861</th>\n",
       "      <td>UFC 3</td>\n",
       "      <td>The American Dream</td>\n",
       "      <td>1994-09-09</td>\n",
       "      <td>6</td>\n",
       "      <td>/fightcenter/events/ufc-3-the-american-dream</td>\n",
       "    </tr>\n",
       "    <tr>\n",
       "      <th>862</th>\n",
       "      <td>UFC 2</td>\n",
       "      <td>No Way Out</td>\n",
       "      <td>1994-03-11</td>\n",
       "      <td>15</td>\n",
       "      <td>/fightcenter/events/ufc-2-no-way-out</td>\n",
       "    </tr>\n",
       "    <tr>\n",
       "      <th>863</th>\n",
       "      <td>UFC 1</td>\n",
       "      <td>The Beginning</td>\n",
       "      <td>1993-11-12</td>\n",
       "      <td>8</td>\n",
       "      <td>/fightcenter/events/ufc-1-the-beginning</td>\n",
       "    </tr>\n",
       "  </tbody>\n",
       "</table>\n",
       "<p>500 rows × 5 columns</p>\n",
       "</div>"
      ],
      "text/plain": [
       "               event                     name       date  bouts  \\\n",
       "20   UFC Fight Night        Woodley vs. Burns 2020-05-30     11   \n",
       "21   UFC Fight Night       Overeem vs. Harris 2020-05-16     11   \n",
       "22   UFC Fight Night       Smith vs. Teixeira 2020-05-13     10   \n",
       "23           UFC 249     Ferguson vs. Gaethje 2020-05-09     11   \n",
       "30   UFC on ESPN+ 28         Lee vs. Oliveira 2020-03-14     12   \n",
       "..               ...                      ...        ...    ...   \n",
       "859            UFC 5      Return of the Beast 1995-04-07     10   \n",
       "860            UFC 4  Revenge of the Warriors 1994-12-16     10   \n",
       "861            UFC 3       The American Dream 1994-09-09      6   \n",
       "862            UFC 2               No Way Out 1994-03-11     15   \n",
       "863            UFC 1            The Beginning 1993-11-12      8   \n",
       "\n",
       "                                                  link  \n",
       "20           /fightcenter/events/69127-ufc-fight-night  \n",
       "21            /fightcenter/events/67412-ufc-on-espn-33  \n",
       "22           /fightcenter/events/69126-ufc-fight-night  \n",
       "23                   /fightcenter/events/66312-ufc-250  \n",
       "30            /fightcenter/events/64600-ufc-on-espn-26  \n",
       "..                                                 ...  \n",
       "859      /fightcenter/events/ufc-5-return-of-the-beast  \n",
       "860  /fightcenter/events/ufc-4-revenge-of-the-warriors  \n",
       "861       /fightcenter/events/ufc-3-the-american-dream  \n",
       "862               /fightcenter/events/ufc-2-no-way-out  \n",
       "863            /fightcenter/events/ufc-1-the-beginning  \n",
       "\n",
       "[500 rows x 5 columns]"
      ]
     },
     "execution_count": 25,
     "metadata": {},
     "output_type": "execute_result"
    }
   ],
   "source": [
    "headers = {'User-Agent': 'Mozilla/5.0 (Windows NT 10.0; Win64; x64) AppleWebKit/537.36 (KHTML, like Gecko) Chrome/74.0.3729.169 Safari/537.36'}\n",
    "search_link = 'https://www.tapology.com/search?term=ufc&mainSearchFilter=events'\n",
    "\n",
    "html_content = requests.get(search_link, headers=headers).content\n",
    "\n",
    "src.get_ufc_events(html_content)"
   ]
  }
 ],
 "metadata": {
  "kernelspec": {
   "display_name": "Python 3",
   "language": "python",
   "name": "python3"
  },
  "language_info": {
   "codemirror_mode": {
    "name": "ipython",
    "version": 3
   },
   "file_extension": ".py",
   "mimetype": "text/x-python",
   "name": "python",
   "nbconvert_exporter": "python",
   "pygments_lexer": "ipython3",
   "version": "3.8.1"
  }
 },
 "nbformat": 4,
 "nbformat_minor": 4
}
