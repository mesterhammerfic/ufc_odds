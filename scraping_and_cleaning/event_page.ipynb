{
 "cells": [
  {
   "cell_type": "markdown",
   "metadata": {},
   "source": [
    "## Scraping Tapology.com for UFC\n",
    "\n",
    "I want to scrape tapology.com for the bout information of UFC events. I'm looking to create a few data frames that I will convert into csv's for further exploration. I'll start with importing the following modules:"
   ]
  },
  {
   "cell_type": "code",
   "execution_count": 3,
   "metadata": {},
   "outputs": [
    {
     "name": "stdout",
     "output_type": "stream",
     "text": [
      "The autoreload extension is already loaded. To reload it, use:\n",
      "  %reload_ext autoreload\n"
     ]
    }
   ],
   "source": [
    "%load_ext autoreload\n",
    "%autoreload 2\n",
    "\n",
    "import os\n",
    "import sys\n",
    "\n",
    "module_path = os.path.abspath(os.path.join(os.pardir))\n",
    "if module_path not in sys.path:\n",
    "    sys.path.append(module_path)\n",
    "\n",
    "from bs4 import BeautifulSoup\n",
    "import requests\n",
    "import pandas as pd\n",
    "import src\n",
    "from src import object_test\n",
    "from src import open_page as op"
   ]
  },
  {
   "cell_type": "markdown",
   "metadata": {},
   "source": [
    "## Scraping an individual event\n",
    "\n",
    "I'll take the last one as an example and navigate to the page. I should be able to concatenate the link string onto the website url."
   ]
  },
  {
   "cell_type": "code",
   "execution_count": 8,
   "metadata": {},
   "outputs": [
    {
     "data": {
      "text/plain": [
       "'fightcenter/events/65142-ufc-on-espn-27'"
      ]
     },
     "execution_count": 8,
     "metadata": {},
     "output_type": "execute_result"
    }
   ],
   "source": [
    "event_url = 'fightcenter/events/65142-ufc-on-espn-27'\n",
    "event_url"
   ]
  },
  {
   "cell_type": "markdown",
   "metadata": {},
   "source": [
    "Okay, now that I have the link I'm going pull all the tables from that url and see what's in them."
   ]
  },
  {
   "cell_type": "markdown",
   "metadata": {},
   "source": [
    "The last two are tables that are advertising other parts of the website (list of upcoming events and a list of the best WW fights). The first three are useless as well.\n",
    "\n",
    "# Beautiful Soup\n",
    "\n",
    "Instead I'll use Beautiful Soup. First let's find all the lists."
   ]
  },
  {
   "cell_type": "code",
   "execution_count": 9,
   "metadata": {},
   "outputs": [
    {
     "data": {
      "text/plain": [
       "<ul>\n",
       "<li class=\"field\"><div class=\"input string required identities_password_uid\"><input class=\"string required show_hint\" id=\"identities_password_uid\" name=\"identities_password[uid]\" title=\"Username\" type=\"text\"/></div></li>\n",
       "<li class=\"field\"><div class=\"input password optional identities_password_password\"><input class=\"password optional show_hint\" id=\"identities_password_password\" name=\"identities_password[password]\" title=\"Password\" type=\"password\"/></div></li>\n",
       "<li class=\"btn\"><input class=\"btn tapInSlider submit\" data-disable-with=\"Create Password\" name=\"commit\" type=\"submit\" value=\"Create Password\"/></li>\n",
       "<input id=\"identities_password_remember\" name=\"identities_password[remember]\" type=\"hidden\" value=\"true\"/>\n",
       "</ul>"
      ]
     },
     "execution_count": 9,
     "metadata": {},
     "output_type": "execute_result"
    }
   ],
   "source": [
    "html = requests.get('https://www.tapology.com/'+event_url).content\n",
    "soup = BeautifulSoup(html, 'html.parser')\n",
    "all_lists = soup.find_all('ul')\n",
    "all_lists[0]"
   ]
  },
  {
   "cell_type": "markdown",
   "metadata": {},
   "source": [
    "The first list looks like it contains login info. Really we just want the bout information list and the event information list. The event info is under the clearfix class and the bout info is under the fightCard class. First let's get the bout info because it's the most important."
   ]
  },
  {
   "cell_type": "code",
   "execution_count": 10,
   "metadata": {},
   "outputs": [],
   "source": [
    "bout_info = soup.find(class_='fightCard')\n",
    "# bout_info_rows = bout_info.find_all('li')\n",
    "# bout_info_rows"
   ]
  },
  {
   "cell_type": "markdown",
   "metadata": {},
   "source": [
    "This doesn't look like the same fightcard, so I'm going to look at all the fight card lists on this page."
   ]
  },
  {
   "cell_type": "code",
   "execution_count": 11,
   "metadata": {},
   "outputs": [
    {
     "data": {
      "text/plain": [
       "6"
      ]
     },
     "execution_count": 11,
     "metadata": {},
     "output_type": "execute_result"
    }
   ],
   "source": [
    "fightCards = soup.find_all(class_='fightCard')\n",
    "len(fightCards)"
   ]
  },
  {
   "cell_type": "markdown",
   "metadata": {},
   "source": [
    "## User-Agent\n",
    "The previous set of codes seems to give me a random page from tapology, I'm going to try setting a user-agent and see if that let's me access the page."
   ]
  },
  {
   "cell_type": "code",
   "execution_count": 13,
   "metadata": {},
   "outputs": [
    {
     "data": {
      "text/plain": [
       "<Response [200]>"
      ]
     },
     "execution_count": 13,
     "metadata": {},
     "output_type": "execute_result"
    }
   ],
   "source": [
    "headers = {'User-Agent': 'Mozilla/5.0 (Windows NT 10.0; Win64; x64) AppleWebKit/537.36 (KHTML, like Gecko) Chrome/74.0.3729.169 Safari/537.36'}\n",
    "\n",
    "response = requests.get('https://www.tapology.com/'+event_url, headers=headers)\n",
    "response"
   ]
  },
  {
   "cell_type": "markdown",
   "metadata": {},
   "source": [
    "# Scraping the bouts table\n",
    "first step is to get the bout element, under the fightCard class"
   ]
  },
  {
   "cell_type": "code",
   "execution_count": 31,
   "metadata": {},
   "outputs": [
    {
     "data": {
      "text/plain": [
       "12"
      ]
     },
     "execution_count": 31,
     "metadata": {},
     "output_type": "execute_result"
    }
   ],
   "source": [
    "soup = BeautifulSoup(response.text, 'html.parser')\n",
    "bout_info = soup.find(class_='fightCard')\n",
    "\n",
    "#here's a table that will be ready to populate\n",
    "df = pd.DataFrame()\n",
    "\n",
    "li_bouts = bout_info.find_all('div', class_='fightCardBout')\n",
    "len(li_bouts)\n"
   ]
  },
  {
   "cell_type": "markdown",
   "metadata": {},
   "source": [
    "Given 1 of those 12 li elements, what can I do."
   ]
  },
  {
   "cell_type": "code",
   "execution_count": 32,
   "metadata": {},
   "outputs": [],
   "source": [
    "first_bout = li_bouts[0]\n",
    "bout_dict = {}"
   ]
  },
  {
   "cell_type": "markdown",
   "metadata": {},
   "source": [
    "Is there a way to get the class names of every element inside?"
   ]
  },
  {
   "cell_type": "code",
   "execution_count": 33,
   "metadata": {},
   "outputs": [
    {
     "name": "stdout",
     "output_type": "stream",
     "text": [
      "['fightCardResultHolder'] <div cla\n",
      "['fightCardResult'] <div cla\n",
      "['title'] <span cl\n",
      "None <br/>\n",
      "['result'] <span cl\n",
      "None <br/>\n",
      "['time'] <span cl\n",
      "['fightCardBoutNumber'] <div cla\n",
      "['fightCardFighterImage'] <div cla\n",
      "None <img alt\n",
      "['fightCardFighterBout', 'left', 'win'] <div cla\n",
      "['fightCardFighterName', 'left'] <div cla\n",
      "None <a href=\n",
      "['resultIcon'] <span cl\n",
      "None <img alt\n",
      "['fightCardRecord'] <div cla\n",
      "['fighterFlag'] <span cl\n",
      "['fightCardFlag'] <img alt\n",
      "['fightCardFighterRank'] <div cla\n",
      "['fightCardMatchup'] <div cla\n",
      "None <table>\n",
      "\n",
      "None <tr>\n",
      "<td\n",
      "None <td>\n",
      "<sp\n",
      "['billing'] <span cl\n",
      "None <a href=\n",
      "None <br/>\n",
      "['fightCardWeight'] <div cla\n",
      "['title'] <span cl\n",
      "None <img alt\n",
      "['weight'] <span cl\n",
      "['title'] <span cl\n",
      "None <img alt\n",
      "None <br/>\n",
      "['fightCardFighterBout', 'loss', 'right'] <div cla\n",
      "['fightCardFighterName', 'right'] <div cla\n",
      "['resultIcon'] <span cl\n",
      "None <img alt\n",
      "None <a href=\n",
      "['fightCardRecord'] <div cla\n",
      "['fighterFlag'] <span cl\n",
      "['fightCardFlag'] <img alt\n",
      "['fightCardFighterRank'] <div cla\n",
      "['fightCardFighterImage'] <div cla\n",
      "None <img alt\n"
     ]
    }
   ],
   "source": [
    "for elem in first_bout.find_all(recursive=True):\n",
    "    print(elem.get('class'), str(elem)[:8])"
   ]
  },
  {
   "cell_type": "markdown",
   "metadata": {},
   "source": [
    "The first two things I want are the result and the time"
   ]
  },
  {
   "cell_type": "code",
   "execution_count": 34,
   "metadata": {},
   "outputs": [
    {
     "data": {
      "text/plain": [
       "{'method': ['\\nKO/TKO, Right Cross to Ground and Pound\\n']}"
      ]
     },
     "execution_count": 34,
     "metadata": {},
     "output_type": "execute_result"
    }
   ],
   "source": [
    "bout_dict['method'] = [first_bout.find(class_='result').get_text()]\n",
    "bout_dict"
   ]
  },
  {
   "cell_type": "code",
   "execution_count": 35,
   "metadata": {},
   "outputs": [
    {
     "data": {
      "text/plain": [
       "{'method': ['\\nKO/TKO, Right Cross to Ground and Pound\\n'],\n",
       " 'time': ['1:54 Round 2 of 5, 6:54 Total']}"
      ]
     },
     "execution_count": 35,
     "metadata": {},
     "output_type": "execute_result"
    }
   ],
   "source": [
    "bout_dict['time'] = [first_bout.find(class_='time').get_text()]\n",
    "bout_dict"
   ]
  },
  {
   "cell_type": "markdown",
   "metadata": {},
   "source": [
    "Now I want their names"
   ]
  },
  {
   "cell_type": "code",
   "execution_count": 36,
   "metadata": {},
   "outputs": [
    {
     "data": {
      "text/plain": [
       "{'method': ['\\nKO/TKO, Right Cross to Ground and Pound\\n'],\n",
       " 'time': ['1:54 Round 2 of 5, 6:54 Total'],\n",
       " 'fighter_0': ['\\nDeiveson Figueiredo\\n\\n\\n']}"
      ]
     },
     "execution_count": 36,
     "metadata": {},
     "output_type": "execute_result"
    }
   ],
   "source": [
    "names = first_bout.find_all(class_='fightCardFighterName')\n",
    "\n",
    "bout_dict['fighter_0'] = [names[0].get_text()]\n",
    "bout_dict"
   ]
  },
  {
   "cell_type": "code",
   "execution_count": 37,
   "metadata": {},
   "outputs": [
    {
     "data": {
      "text/plain": [
       "{'method': ['\\nKO/TKO, Right Cross to Ground and Pound\\n'],\n",
       " 'time': ['1:54 Round 2 of 5, 6:54 Total'],\n",
       " 'fighter_0': ['\\nDeiveson Figueiredo\\n\\n\\n'],\n",
       " 'fighter_1': ['\\n\\n\\nJoseph Benavidez\\n']}"
      ]
     },
     "execution_count": 37,
     "metadata": {},
     "output_type": "execute_result"
    }
   ],
   "source": [
    "bout_dict['fighter_1'] = [names[1].get_text()]\n",
    "bout_dict"
   ]
  },
  {
   "cell_type": "markdown",
   "metadata": {},
   "source": [
    "Now their weight"
   ]
  },
  {
   "cell_type": "code",
   "execution_count": 38,
   "metadata": {},
   "outputs": [
    {
     "data": {
      "text/plain": [
       "{'method': ['\\nKO/TKO, Right Cross to Ground and Pound\\n'],\n",
       " 'time': ['1:54 Round 2 of 5, 6:54 Total'],\n",
       " 'fighter_0': ['\\nDeiveson Figueiredo\\n\\n\\n'],\n",
       " 'fighter_1': ['\\n\\n\\nJoseph Benavidez\\n'],\n",
       " 'weight': ['125']}"
      ]
     },
     "execution_count": 38,
     "metadata": {},
     "output_type": "execute_result"
    }
   ],
   "source": [
    "bout_dict['weight'] = [first_bout.find(class_='weight').get_text()]\n",
    "bout_dict"
   ]
  },
  {
   "cell_type": "code",
   "execution_count": 39,
   "metadata": {},
   "outputs": [
    {
     "data": {
      "text/plain": [
       "{'method': ['\\nKO/TKO, Right Cross to Ground and Pound\\n'],\n",
       " 'time': ['1:54 Round 2 of 5, 6:54 Total'],\n",
       " 'fighter_0': ['\\nDeiveson Figueiredo\\n\\n\\n'],\n",
       " 'fighter_1': ['\\n\\n\\nJoseph Benavidez\\n'],\n",
       " 'weight': ['125'],\n",
       " 'billing': ['\\nMain Event\\n']}"
      ]
     },
     "execution_count": 39,
     "metadata": {},
     "output_type": "execute_result"
    }
   ],
   "source": [
    "bout_dict['billing'] = [first_bout.find(class_='billing').get_text()]\n",
    "bout_dict"
   ]
  },
  {
   "cell_type": "code",
   "execution_count": 40,
   "metadata": {},
   "outputs": [
    {
     "data": {
      "text/plain": [
       "{'method': ['\\nKO/TKO, Right Cross to Ground and Pound\\n'],\n",
       " 'time': ['1:54 Round 2 of 5, 6:54 Total'],\n",
       " 'fighter_0': ['\\nDeiveson Figueiredo\\n\\n\\n'],\n",
       " 'fighter_1': ['\\n\\n\\nJoseph Benavidez\\n'],\n",
       " 'weight': ['125'],\n",
       " 'billing': ['\\nMain Event\\n'],\n",
       " 'bout_number': ['12']}"
      ]
     },
     "execution_count": 40,
     "metadata": {},
     "output_type": "execute_result"
    }
   ],
   "source": [
    "bout_dict['bout_number'] = [first_bout.find(class_='fightCardBoutNumber').get_text()]\n",
    "bout_dict"
   ]
  },
  {
   "cell_type": "code",
   "execution_count": 41,
   "metadata": {},
   "outputs": [
    {
     "data": {
      "text/plain": [
       "{'method': ['\\nKO/TKO, Right Cross to Ground and Pound\\n'],\n",
       " 'time': ['1:54 Round 2 of 5, 6:54 Total'],\n",
       " 'fighter_0': ['\\nDeiveson Figueiredo\\n\\n\\n'],\n",
       " 'fighter_1': ['\\n\\n\\nJoseph Benavidez\\n'],\n",
       " 'weight': ['125'],\n",
       " 'billing': ['\\nMain Event\\n'],\n",
       " 'bout_number': ['12'],\n",
       " 'event_link': ['fightcenter/events/65142-ufc-on-espn-27']}"
      ]
     },
     "execution_count": 41,
     "metadata": {},
     "output_type": "execute_result"
    }
   ],
   "source": [
    "bout_dict['event_link'] = [event_url]\n",
    "bout_dict"
   ]
  },
  {
   "cell_type": "code",
   "execution_count": 42,
   "metadata": {},
   "outputs": [
    {
     "data": {
      "text/plain": [
       "{'method': ['\\nKO/TKO, Right Cross to Ground and Pound\\n'],\n",
       " 'time': ['1:54 Round 2 of 5, 6:54 Total'],\n",
       " 'fighter_0': ['\\nDeiveson Figueiredo\\n\\n\\n'],\n",
       " 'fighter_1': ['\\n\\n\\nJoseph Benavidez\\n'],\n",
       " 'weight': ['125'],\n",
       " 'billing': ['\\nMain Event\\n'],\n",
       " 'bout_number': ['12'],\n",
       " 'event_link': ['fightcenter/events/65142-ufc-on-espn-27'],\n",
       " 'link': ['/fightcenter/bouts/475556-ufc-on-espn-27-joseph-the-beefcake-benavidez-vs-deiveson-deus-da-guerra-figueiredo']}"
      ]
     },
     "execution_count": 42,
     "metadata": {},
     "output_type": "execute_result"
    }
   ],
   "source": [
    "bout_dict['link'] = [first_bout.find(class_='billing').find('a').get('href')]\n",
    "bout_dict"
   ]
  },
  {
   "cell_type": "code",
   "execution_count": 43,
   "metadata": {},
   "outputs": [],
   "source": [
    "# now I can update my df with this info by turning it into a df and using combine first\n",
    "\n",
    "bout_df = pd.DataFrame(bout_dict)\n",
    "\n",
    "df = df.combine_first(bout_df)"
   ]
  },
  {
   "cell_type": "code",
   "execution_count": 44,
   "metadata": {},
   "outputs": [
    {
     "data": {
      "text/html": [
       "<div>\n",
       "<style scoped>\n",
       "    .dataframe tbody tr th:only-of-type {\n",
       "        vertical-align: middle;\n",
       "    }\n",
       "\n",
       "    .dataframe tbody tr th {\n",
       "        vertical-align: top;\n",
       "    }\n",
       "\n",
       "    .dataframe thead th {\n",
       "        text-align: right;\n",
       "    }\n",
       "</style>\n",
       "<table border=\"1\" class=\"dataframe\">\n",
       "  <thead>\n",
       "    <tr style=\"text-align: right;\">\n",
       "      <th></th>\n",
       "      <th>method</th>\n",
       "      <th>time</th>\n",
       "      <th>fighter_0</th>\n",
       "      <th>fighter_1</th>\n",
       "      <th>weight</th>\n",
       "      <th>billing</th>\n",
       "      <th>bout_number</th>\n",
       "      <th>event_link</th>\n",
       "      <th>link</th>\n",
       "    </tr>\n",
       "  </thead>\n",
       "  <tbody>\n",
       "    <tr>\n",
       "      <th>0</th>\n",
       "      <td>\\nKO/TKO, Right Cross to Ground and Pound\\n</td>\n",
       "      <td>1:54 Round 2 of 5, 6:54 Total</td>\n",
       "      <td>\\nDeiveson Figueiredo\\n\\n\\n</td>\n",
       "      <td>\\n\\n\\nJoseph Benavidez\\n</td>\n",
       "      <td>125</td>\n",
       "      <td>\\nMain Event\\n</td>\n",
       "      <td>12</td>\n",
       "      <td>fightcenter/events/65142-ufc-on-espn-27</td>\n",
       "      <td>/fightcenter/bouts/475556-ufc-on-espn-27-josep...</td>\n",
       "    </tr>\n",
       "  </tbody>\n",
       "</table>\n",
       "</div>"
      ],
      "text/plain": [
       "                                        method                           time  \\\n",
       "0  \\nKO/TKO, Right Cross to Ground and Pound\\n  1:54 Round 2 of 5, 6:54 Total   \n",
       "\n",
       "                     fighter_0                 fighter_1 weight  \\\n",
       "0  \\nDeiveson Figueiredo\\n\\n\\n  \\n\\n\\nJoseph Benavidez\\n    125   \n",
       "\n",
       "          billing bout_number                               event_link  \\\n",
       "0  \\nMain Event\\n          12  fightcenter/events/65142-ufc-on-espn-27   \n",
       "\n",
       "                                                link  \n",
       "0  /fightcenter/bouts/475556-ufc-on-espn-27-josep...  "
      ]
     },
     "execution_count": 44,
     "metadata": {},
     "output_type": "execute_result"
    }
   ],
   "source": [
    "df"
   ]
  },
  {
   "cell_type": "markdown",
   "metadata": {},
   "source": [
    "Now loop"
   ]
  },
  {
   "cell_type": "code",
   "execution_count": 48,
   "metadata": {},
   "outputs": [
    {
     "data": {
      "text/html": [
       "<div>\n",
       "<style scoped>\n",
       "    .dataframe tbody tr th:only-of-type {\n",
       "        vertical-align: middle;\n",
       "    }\n",
       "\n",
       "    .dataframe tbody tr th {\n",
       "        vertical-align: top;\n",
       "    }\n",
       "\n",
       "    .dataframe thead th {\n",
       "        text-align: right;\n",
       "    }\n",
       "</style>\n",
       "<table border=\"1\" class=\"dataframe\">\n",
       "  <thead>\n",
       "    <tr style=\"text-align: right;\">\n",
       "      <th></th>\n",
       "      <th>method</th>\n",
       "      <th>time</th>\n",
       "      <th>fighter_0</th>\n",
       "      <th>fighter_1</th>\n",
       "      <th>weight</th>\n",
       "      <th>billing</th>\n",
       "      <th>bout_number</th>\n",
       "      <th>event_link</th>\n",
       "    </tr>\n",
       "    <tr>\n",
       "      <th>link</th>\n",
       "      <th></th>\n",
       "      <th></th>\n",
       "      <th></th>\n",
       "      <th></th>\n",
       "      <th></th>\n",
       "      <th></th>\n",
       "      <th></th>\n",
       "      <th></th>\n",
       "    </tr>\n",
       "  </thead>\n",
       "  <tbody>\n",
       "    <tr>\n",
       "      <th>/fightcenter/bouts/475556-ufc-on-espn-27-joseph-the-beefcake-benavidez-vs-deiveson-deus-da-guerra-figueiredo</th>\n",
       "      <td>\\nKO/TKO, Right Cross to Ground and Pound\\n</td>\n",
       "      <td>1:54 Round 2 of 5, 6:54 Total</td>\n",
       "      <td>\\nDeiveson Figueiredo\\n\\n\\n</td>\n",
       "      <td>\\n\\n\\nJoseph Benavidez\\n</td>\n",
       "      <td>125</td>\n",
       "      <td>\\nMain Event\\n</td>\n",
       "      <td>12</td>\n",
       "      <td>fightcenter/events/65142-ufc-on-espn-27</td>\n",
       "    </tr>\n",
       "    <tr>\n",
       "      <th>/fightcenter/bouts/475556-ufc-on-espn-27-joseph-the-beefcake-benavidez-vs-deiveson-deus-da-guerra-figueiredo</th>\n",
       "      <td>\\nKO/TKO, Right Cross to Ground and Pound\\n</td>\n",
       "      <td>1:54 Round 2 of 5, 6:54 Total</td>\n",
       "      <td>\\nDeiveson Figueiredo\\n\\n\\n</td>\n",
       "      <td>\\n\\n\\nJoseph Benavidez\\n</td>\n",
       "      <td>125</td>\n",
       "      <td>\\nMain Event\\n</td>\n",
       "      <td>12</td>\n",
       "      <td>fightcenter/events/65142-ufc-on-espn-27</td>\n",
       "    </tr>\n",
       "    <tr>\n",
       "      <th>/fightcenter/bouts/475132-ufc-on-espn-27-felicia-feenom-spencer-vs-zarah-infinite-fairn</th>\n",
       "      <td>\\nKO/TKO, Ground and Pound\\n</td>\n",
       "      <td>3:37 Round 1 of 3</td>\n",
       "      <td>\\nFelicia Spencer\\n\\n\\n</td>\n",
       "      <td>\\n\\n\\nZarah Fairn\\n</td>\n",
       "      <td>145</td>\n",
       "      <td>\\nCo-Main Event\\n</td>\n",
       "      <td>11</td>\n",
       "      <td>fightcenter/events/65142-ufc-on-espn-27</td>\n",
       "    </tr>\n",
       "    <tr>\n",
       "      <th>/fightcenter/bouts/478326-ufc-on-espn-27-ion-the-hulk-cutelaba-vs-magomed-ankalaev</th>\n",
       "      <td>\\nKO/TKO, Punches\\n</td>\n",
       "      <td>0:38 Round 1 of 3</td>\n",
       "      <td>\\nMagomed Ankalaev\\n\\n\\n</td>\n",
       "      <td>\\n\\n\\nIon Cutelaba\\n</td>\n",
       "      <td>205</td>\n",
       "      <td>\\nMain Card\\n</td>\n",
       "      <td>10</td>\n",
       "      <td>fightcenter/events/65142-ufc-on-espn-27</td>\n",
       "    </tr>\n",
       "    <tr>\n",
       "      <th>/fightcenter/bouts/474746-ufc-on-espn-27-megan-anderson-vs-norma-imortal-dumont</th>\n",
       "      <td>\\nKO/TKO, Right Cross\\n</td>\n",
       "      <td>3:31 Round 1 of 3</td>\n",
       "      <td>\\nMegan Anderson\\n\\n\\n</td>\n",
       "      <td>\\n\\n\\nNorma Dumont\\n</td>\n",
       "      <td>145</td>\n",
       "      <td>\\nMain Card\\n</td>\n",
       "      <td>9</td>\n",
       "      <td>fightcenter/events/65142-ufc-on-espn-27</td>\n",
       "    </tr>\n",
       "    <tr>\n",
       "      <th>/fightcenter/bouts/489498-ufc-on-espn-27-grant-the-prophet-dawson-vs-darrick-minner</th>\n",
       "      <td>\\nSubmission, Rear Naked Choke\\n</td>\n",
       "      <td>1:38 Round 2 of 3, 6:38 Total</td>\n",
       "      <td>\\nGrant Dawson\\n\\n\\n</td>\n",
       "      <td>\\n\\n\\nDarrick Minner\\n</td>\n",
       "      <td>145</td>\n",
       "      <td>\\nMain Card\\n</td>\n",
       "      <td>8</td>\n",
       "      <td>fightcenter/events/65142-ufc-on-espn-27</td>\n",
       "    </tr>\n",
       "    <tr>\n",
       "      <th>/fightcenter/bouts/475484-ufc-on-espn-27-gabriel-gabito-silva-vs-kyler-matrix-phillips</th>\n",
       "      <td>\\nDecision, Unanimous\\n</td>\n",
       "      <td>3 Rounds, 15:00 Total</td>\n",
       "      <td>\\nKyler Phillips\\n\\n\\n</td>\n",
       "      <td>\\n\\n\\nGabriel Silva\\n</td>\n",
       "      <td>135</td>\n",
       "      <td>\\nPrelim\\n</td>\n",
       "      <td>7</td>\n",
       "      <td>fightcenter/events/65142-ufc-on-espn-27</td>\n",
       "    </tr>\n",
       "    <tr>\n",
       "      <th>/fightcenter/bouts/475483-ufc-on-espn-27-brendan-all-in-allen-vs-tom-breese</th>\n",
       "      <td>\\nKO/TKO, Ground and Pound\\n</td>\n",
       "      <td>4:47 Round 1 of 3</td>\n",
       "      <td>\\nBrendan Allen\\n\\n\\n</td>\n",
       "      <td>\\n\\n\\nTom Breese\\n</td>\n",
       "      <td>185</td>\n",
       "      <td>\\nPrelim\\n</td>\n",
       "      <td>6</td>\n",
       "      <td>fightcenter/events/65142-ufc-on-espn-27</td>\n",
       "    </tr>\n",
       "    <tr>\n",
       "      <th>/fightcenter/bouts/478325-ufc-on-espn-27-marcin-tybur-tybura-vs-sergey-polar-bear-spivak</th>\n",
       "      <td>\\nDecision, Unanimous\\n</td>\n",
       "      <td>3 Rounds, 15:00 Total</td>\n",
       "      <td>\\nMarcin Tybura\\n\\n\\n</td>\n",
       "      <td>\\n\\n\\nSergey Spivak\\n</td>\n",
       "      <td>265</td>\n",
       "      <td>\\nPrelim\\n</td>\n",
       "      <td>5</td>\n",
       "      <td>fightcenter/events/65142-ufc-on-espn-27</td>\n",
       "    </tr>\n",
       "    <tr>\n",
       "      <th>/fightcenter/bouts/490218-ufc-on-espn-27-violent-bob-ross-luis-pena-vs-steve-mean-machine-garcia-jr</th>\n",
       "      <td>\\nDecision, Unanimous\\n</td>\n",
       "      <td>3 Rounds, 15:00 Total</td>\n",
       "      <td>\\nLuis Pena\\n\\n\\n</td>\n",
       "      <td>\\n\\n\\nSteve Garcia\\n</td>\n",
       "      <td>155</td>\n",
       "      <td>\\nPrelim\\n</td>\n",
       "      <td>4</td>\n",
       "      <td>fightcenter/events/65142-ufc-on-espn-27</td>\n",
       "    </tr>\n",
       "    <tr>\n",
       "      <th>/fightcenter/bouts/476033-ufc-on-espn-27-downtown-tj-brown-vs-native-psycho-jordan-griffin</th>\n",
       "      <td>\\nSubmission, Guillotine Choke\\n</td>\n",
       "      <td>3:38 Round 2 of 3, 8:38 Total</td>\n",
       "      <td>\\nJordan Griffin\\n\\n\\n</td>\n",
       "      <td>\\n\\n\\nTJ Brown\\n</td>\n",
       "      <td>145</td>\n",
       "      <td>\\nPrelim\\n</td>\n",
       "      <td>3</td>\n",
       "      <td>fightcenter/events/65142-ufc-on-espn-27</td>\n",
       "    </tr>\n",
       "    <tr>\n",
       "      <th>/fightcenter/bouts/485735-ufc-on-espn-27-aalon-cruz-vs-spike-the-alpha-ginger-carlyle</th>\n",
       "      <td>\\nKO/TKO, Elbows to Ground and Pound\\n</td>\n",
       "      <td>1:25 Round 1 of 3</td>\n",
       "      <td>\\nSpike Carlyle\\n\\n\\n</td>\n",
       "      <td>\\n\\n\\nAalon Cruz\\n</td>\n",
       "      <td>145</td>\n",
       "      <td>\\nPrelim\\n</td>\n",
       "      <td>2</td>\n",
       "      <td>fightcenter/events/65142-ufc-on-espn-27</td>\n",
       "    </tr>\n",
       "    <tr>\n",
       "      <th>/fightcenter/bouts/475626-ufc-on-espn-27-ismail-the-austrian-wonderboy-naurdiev-vs-sean-brady</th>\n",
       "      <td>\\nDecision, Unanimous\\n</td>\n",
       "      <td>3 Rounds, 15:00 Total</td>\n",
       "      <td>\\nSean Brady\\n\\n\\n</td>\n",
       "      <td>\\n\\n\\nIsmail Naurdiev\\n</td>\n",
       "      <td>170</td>\n",
       "      <td>\\nPrelim\\n</td>\n",
       "      <td>1</td>\n",
       "      <td>fightcenter/events/65142-ufc-on-espn-27</td>\n",
       "    </tr>\n",
       "    <tr>\n",
       "      <th>/fightcenter/bouts/475556-ufc-on-espn-27-joseph-the-beefcake-benavidez-vs-deiveson-deus-da-guerra-figueiredo</th>\n",
       "      <td>\\nKO/TKO, Right Cross to Ground and Pound\\n</td>\n",
       "      <td>1:54 Round 2 of 5, 6:54 Total</td>\n",
       "      <td>\\nDeiveson Figueiredo\\n\\n\\n</td>\n",
       "      <td>\\n\\n\\nJoseph Benavidez\\n</td>\n",
       "      <td>125</td>\n",
       "      <td>\\nMain Event\\n</td>\n",
       "      <td>12</td>\n",
       "      <td>fightcenter/events/65142-ufc-on-espn-27</td>\n",
       "    </tr>\n",
       "    <tr>\n",
       "      <th>/fightcenter/bouts/475132-ufc-on-espn-27-felicia-feenom-spencer-vs-zarah-infinite-fairn</th>\n",
       "      <td>\\nKO/TKO, Ground and Pound\\n</td>\n",
       "      <td>3:37 Round 1 of 3</td>\n",
       "      <td>\\nFelicia Spencer\\n\\n\\n</td>\n",
       "      <td>\\n\\n\\nZarah Fairn\\n</td>\n",
       "      <td>145</td>\n",
       "      <td>\\nCo-Main Event\\n</td>\n",
       "      <td>11</td>\n",
       "      <td>fightcenter/events/65142-ufc-on-espn-27</td>\n",
       "    </tr>\n",
       "    <tr>\n",
       "      <th>/fightcenter/bouts/478326-ufc-on-espn-27-ion-the-hulk-cutelaba-vs-magomed-ankalaev</th>\n",
       "      <td>\\nKO/TKO, Punches\\n</td>\n",
       "      <td>0:38 Round 1 of 3</td>\n",
       "      <td>\\nMagomed Ankalaev\\n\\n\\n</td>\n",
       "      <td>\\n\\n\\nIon Cutelaba\\n</td>\n",
       "      <td>205</td>\n",
       "      <td>\\nMain Card\\n</td>\n",
       "      <td>10</td>\n",
       "      <td>fightcenter/events/65142-ufc-on-espn-27</td>\n",
       "    </tr>\n",
       "    <tr>\n",
       "      <th>/fightcenter/bouts/474746-ufc-on-espn-27-megan-anderson-vs-norma-imortal-dumont</th>\n",
       "      <td>\\nKO/TKO, Right Cross\\n</td>\n",
       "      <td>3:31 Round 1 of 3</td>\n",
       "      <td>\\nMegan Anderson\\n\\n\\n</td>\n",
       "      <td>\\n\\n\\nNorma Dumont\\n</td>\n",
       "      <td>145</td>\n",
       "      <td>\\nMain Card\\n</td>\n",
       "      <td>9</td>\n",
       "      <td>fightcenter/events/65142-ufc-on-espn-27</td>\n",
       "    </tr>\n",
       "    <tr>\n",
       "      <th>/fightcenter/bouts/489498-ufc-on-espn-27-grant-the-prophet-dawson-vs-darrick-minner</th>\n",
       "      <td>\\nSubmission, Rear Naked Choke\\n</td>\n",
       "      <td>1:38 Round 2 of 3, 6:38 Total</td>\n",
       "      <td>\\nGrant Dawson\\n\\n\\n</td>\n",
       "      <td>\\n\\n\\nDarrick Minner\\n</td>\n",
       "      <td>145</td>\n",
       "      <td>\\nMain Card\\n</td>\n",
       "      <td>8</td>\n",
       "      <td>fightcenter/events/65142-ufc-on-espn-27</td>\n",
       "    </tr>\n",
       "    <tr>\n",
       "      <th>/fightcenter/bouts/475484-ufc-on-espn-27-gabriel-gabito-silva-vs-kyler-matrix-phillips</th>\n",
       "      <td>\\nDecision, Unanimous\\n</td>\n",
       "      <td>3 Rounds, 15:00 Total</td>\n",
       "      <td>\\nKyler Phillips\\n\\n\\n</td>\n",
       "      <td>\\n\\n\\nGabriel Silva\\n</td>\n",
       "      <td>135</td>\n",
       "      <td>\\nPrelim\\n</td>\n",
       "      <td>7</td>\n",
       "      <td>fightcenter/events/65142-ufc-on-espn-27</td>\n",
       "    </tr>\n",
       "    <tr>\n",
       "      <th>/fightcenter/bouts/475483-ufc-on-espn-27-brendan-all-in-allen-vs-tom-breese</th>\n",
       "      <td>\\nKO/TKO, Ground and Pound\\n</td>\n",
       "      <td>4:47 Round 1 of 3</td>\n",
       "      <td>\\nBrendan Allen\\n\\n\\n</td>\n",
       "      <td>\\n\\n\\nTom Breese\\n</td>\n",
       "      <td>185</td>\n",
       "      <td>\\nPrelim\\n</td>\n",
       "      <td>6</td>\n",
       "      <td>fightcenter/events/65142-ufc-on-espn-27</td>\n",
       "    </tr>\n",
       "    <tr>\n",
       "      <th>/fightcenter/bouts/478325-ufc-on-espn-27-marcin-tybur-tybura-vs-sergey-polar-bear-spivak</th>\n",
       "      <td>\\nDecision, Unanimous\\n</td>\n",
       "      <td>3 Rounds, 15:00 Total</td>\n",
       "      <td>\\nMarcin Tybura\\n\\n\\n</td>\n",
       "      <td>\\n\\n\\nSergey Spivak\\n</td>\n",
       "      <td>265</td>\n",
       "      <td>\\nPrelim\\n</td>\n",
       "      <td>5</td>\n",
       "      <td>fightcenter/events/65142-ufc-on-espn-27</td>\n",
       "    </tr>\n",
       "    <tr>\n",
       "      <th>/fightcenter/bouts/490218-ufc-on-espn-27-violent-bob-ross-luis-pena-vs-steve-mean-machine-garcia-jr</th>\n",
       "      <td>\\nDecision, Unanimous\\n</td>\n",
       "      <td>3 Rounds, 15:00 Total</td>\n",
       "      <td>\\nLuis Pena\\n\\n\\n</td>\n",
       "      <td>\\n\\n\\nSteve Garcia\\n</td>\n",
       "      <td>155</td>\n",
       "      <td>\\nPrelim\\n</td>\n",
       "      <td>4</td>\n",
       "      <td>fightcenter/events/65142-ufc-on-espn-27</td>\n",
       "    </tr>\n",
       "    <tr>\n",
       "      <th>/fightcenter/bouts/476033-ufc-on-espn-27-downtown-tj-brown-vs-native-psycho-jordan-griffin</th>\n",
       "      <td>\\nSubmission, Guillotine Choke\\n</td>\n",
       "      <td>3:38 Round 2 of 3, 8:38 Total</td>\n",
       "      <td>\\nJordan Griffin\\n\\n\\n</td>\n",
       "      <td>\\n\\n\\nTJ Brown\\n</td>\n",
       "      <td>145</td>\n",
       "      <td>\\nPrelim\\n</td>\n",
       "      <td>3</td>\n",
       "      <td>fightcenter/events/65142-ufc-on-espn-27</td>\n",
       "    </tr>\n",
       "    <tr>\n",
       "      <th>/fightcenter/bouts/485735-ufc-on-espn-27-aalon-cruz-vs-spike-the-alpha-ginger-carlyle</th>\n",
       "      <td>\\nKO/TKO, Elbows to Ground and Pound\\n</td>\n",
       "      <td>1:25 Round 1 of 3</td>\n",
       "      <td>\\nSpike Carlyle\\n\\n\\n</td>\n",
       "      <td>\\n\\n\\nAalon Cruz\\n</td>\n",
       "      <td>145</td>\n",
       "      <td>\\nPrelim\\n</td>\n",
       "      <td>2</td>\n",
       "      <td>fightcenter/events/65142-ufc-on-espn-27</td>\n",
       "    </tr>\n",
       "    <tr>\n",
       "      <th>/fightcenter/bouts/475626-ufc-on-espn-27-ismail-the-austrian-wonderboy-naurdiev-vs-sean-brady</th>\n",
       "      <td>\\nDecision, Unanimous\\n</td>\n",
       "      <td>3 Rounds, 15:00 Total</td>\n",
       "      <td>\\nSean Brady\\n\\n\\n</td>\n",
       "      <td>\\n\\n\\nIsmail Naurdiev\\n</td>\n",
       "      <td>170</td>\n",
       "      <td>\\nPrelim\\n</td>\n",
       "      <td>1</td>\n",
       "      <td>fightcenter/events/65142-ufc-on-espn-27</td>\n",
       "    </tr>\n",
       "  </tbody>\n",
       "</table>\n",
       "</div>"
      ],
      "text/plain": [
       "                                                                                         method  \\\n",
       "link                                                                                              \n",
       "/fightcenter/bouts/475556-ufc-on-espn-27-joseph...  \\nKO/TKO, Right Cross to Ground and Pound\\n   \n",
       "/fightcenter/bouts/475556-ufc-on-espn-27-joseph...  \\nKO/TKO, Right Cross to Ground and Pound\\n   \n",
       "/fightcenter/bouts/475132-ufc-on-espn-27-felici...                 \\nKO/TKO, Ground and Pound\\n   \n",
       "/fightcenter/bouts/478326-ufc-on-espn-27-ion-th...                          \\nKO/TKO, Punches\\n   \n",
       "/fightcenter/bouts/474746-ufc-on-espn-27-megan-...                      \\nKO/TKO, Right Cross\\n   \n",
       "/fightcenter/bouts/489498-ufc-on-espn-27-grant-...             \\nSubmission, Rear Naked Choke\\n   \n",
       "/fightcenter/bouts/475484-ufc-on-espn-27-gabrie...                      \\nDecision, Unanimous\\n   \n",
       "/fightcenter/bouts/475483-ufc-on-espn-27-brenda...                 \\nKO/TKO, Ground and Pound\\n   \n",
       "/fightcenter/bouts/478325-ufc-on-espn-27-marcin...                      \\nDecision, Unanimous\\n   \n",
       "/fightcenter/bouts/490218-ufc-on-espn-27-violen...                      \\nDecision, Unanimous\\n   \n",
       "/fightcenter/bouts/476033-ufc-on-espn-27-downto...             \\nSubmission, Guillotine Choke\\n   \n",
       "/fightcenter/bouts/485735-ufc-on-espn-27-aalon-...       \\nKO/TKO, Elbows to Ground and Pound\\n   \n",
       "/fightcenter/bouts/475626-ufc-on-espn-27-ismail...                      \\nDecision, Unanimous\\n   \n",
       "/fightcenter/bouts/475556-ufc-on-espn-27-joseph...  \\nKO/TKO, Right Cross to Ground and Pound\\n   \n",
       "/fightcenter/bouts/475132-ufc-on-espn-27-felici...                 \\nKO/TKO, Ground and Pound\\n   \n",
       "/fightcenter/bouts/478326-ufc-on-espn-27-ion-th...                          \\nKO/TKO, Punches\\n   \n",
       "/fightcenter/bouts/474746-ufc-on-espn-27-megan-...                      \\nKO/TKO, Right Cross\\n   \n",
       "/fightcenter/bouts/489498-ufc-on-espn-27-grant-...             \\nSubmission, Rear Naked Choke\\n   \n",
       "/fightcenter/bouts/475484-ufc-on-espn-27-gabrie...                      \\nDecision, Unanimous\\n   \n",
       "/fightcenter/bouts/475483-ufc-on-espn-27-brenda...                 \\nKO/TKO, Ground and Pound\\n   \n",
       "/fightcenter/bouts/478325-ufc-on-espn-27-marcin...                      \\nDecision, Unanimous\\n   \n",
       "/fightcenter/bouts/490218-ufc-on-espn-27-violen...                      \\nDecision, Unanimous\\n   \n",
       "/fightcenter/bouts/476033-ufc-on-espn-27-downto...             \\nSubmission, Guillotine Choke\\n   \n",
       "/fightcenter/bouts/485735-ufc-on-espn-27-aalon-...       \\nKO/TKO, Elbows to Ground and Pound\\n   \n",
       "/fightcenter/bouts/475626-ufc-on-espn-27-ismail...                      \\nDecision, Unanimous\\n   \n",
       "\n",
       "                                                                             time  \\\n",
       "link                                                                                \n",
       "/fightcenter/bouts/475556-ufc-on-espn-27-joseph...  1:54 Round 2 of 5, 6:54 Total   \n",
       "/fightcenter/bouts/475556-ufc-on-espn-27-joseph...  1:54 Round 2 of 5, 6:54 Total   \n",
       "/fightcenter/bouts/475132-ufc-on-espn-27-felici...              3:37 Round 1 of 3   \n",
       "/fightcenter/bouts/478326-ufc-on-espn-27-ion-th...              0:38 Round 1 of 3   \n",
       "/fightcenter/bouts/474746-ufc-on-espn-27-megan-...              3:31 Round 1 of 3   \n",
       "/fightcenter/bouts/489498-ufc-on-espn-27-grant-...  1:38 Round 2 of 3, 6:38 Total   \n",
       "/fightcenter/bouts/475484-ufc-on-espn-27-gabrie...          3 Rounds, 15:00 Total   \n",
       "/fightcenter/bouts/475483-ufc-on-espn-27-brenda...              4:47 Round 1 of 3   \n",
       "/fightcenter/bouts/478325-ufc-on-espn-27-marcin...          3 Rounds, 15:00 Total   \n",
       "/fightcenter/bouts/490218-ufc-on-espn-27-violen...          3 Rounds, 15:00 Total   \n",
       "/fightcenter/bouts/476033-ufc-on-espn-27-downto...  3:38 Round 2 of 3, 8:38 Total   \n",
       "/fightcenter/bouts/485735-ufc-on-espn-27-aalon-...              1:25 Round 1 of 3   \n",
       "/fightcenter/bouts/475626-ufc-on-espn-27-ismail...          3 Rounds, 15:00 Total   \n",
       "/fightcenter/bouts/475556-ufc-on-espn-27-joseph...  1:54 Round 2 of 5, 6:54 Total   \n",
       "/fightcenter/bouts/475132-ufc-on-espn-27-felici...              3:37 Round 1 of 3   \n",
       "/fightcenter/bouts/478326-ufc-on-espn-27-ion-th...              0:38 Round 1 of 3   \n",
       "/fightcenter/bouts/474746-ufc-on-espn-27-megan-...              3:31 Round 1 of 3   \n",
       "/fightcenter/bouts/489498-ufc-on-espn-27-grant-...  1:38 Round 2 of 3, 6:38 Total   \n",
       "/fightcenter/bouts/475484-ufc-on-espn-27-gabrie...          3 Rounds, 15:00 Total   \n",
       "/fightcenter/bouts/475483-ufc-on-espn-27-brenda...              4:47 Round 1 of 3   \n",
       "/fightcenter/bouts/478325-ufc-on-espn-27-marcin...          3 Rounds, 15:00 Total   \n",
       "/fightcenter/bouts/490218-ufc-on-espn-27-violen...          3 Rounds, 15:00 Total   \n",
       "/fightcenter/bouts/476033-ufc-on-espn-27-downto...  3:38 Round 2 of 3, 8:38 Total   \n",
       "/fightcenter/bouts/485735-ufc-on-espn-27-aalon-...              1:25 Round 1 of 3   \n",
       "/fightcenter/bouts/475626-ufc-on-espn-27-ismail...          3 Rounds, 15:00 Total   \n",
       "\n",
       "                                                                      fighter_0  \\\n",
       "link                                                                              \n",
       "/fightcenter/bouts/475556-ufc-on-espn-27-joseph...  \\nDeiveson Figueiredo\\n\\n\\n   \n",
       "/fightcenter/bouts/475556-ufc-on-espn-27-joseph...  \\nDeiveson Figueiredo\\n\\n\\n   \n",
       "/fightcenter/bouts/475132-ufc-on-espn-27-felici...      \\nFelicia Spencer\\n\\n\\n   \n",
       "/fightcenter/bouts/478326-ufc-on-espn-27-ion-th...     \\nMagomed Ankalaev\\n\\n\\n   \n",
       "/fightcenter/bouts/474746-ufc-on-espn-27-megan-...       \\nMegan Anderson\\n\\n\\n   \n",
       "/fightcenter/bouts/489498-ufc-on-espn-27-grant-...         \\nGrant Dawson\\n\\n\\n   \n",
       "/fightcenter/bouts/475484-ufc-on-espn-27-gabrie...       \\nKyler Phillips\\n\\n\\n   \n",
       "/fightcenter/bouts/475483-ufc-on-espn-27-brenda...        \\nBrendan Allen\\n\\n\\n   \n",
       "/fightcenter/bouts/478325-ufc-on-espn-27-marcin...        \\nMarcin Tybura\\n\\n\\n   \n",
       "/fightcenter/bouts/490218-ufc-on-espn-27-violen...            \\nLuis Pena\\n\\n\\n   \n",
       "/fightcenter/bouts/476033-ufc-on-espn-27-downto...       \\nJordan Griffin\\n\\n\\n   \n",
       "/fightcenter/bouts/485735-ufc-on-espn-27-aalon-...        \\nSpike Carlyle\\n\\n\\n   \n",
       "/fightcenter/bouts/475626-ufc-on-espn-27-ismail...           \\nSean Brady\\n\\n\\n   \n",
       "/fightcenter/bouts/475556-ufc-on-espn-27-joseph...  \\nDeiveson Figueiredo\\n\\n\\n   \n",
       "/fightcenter/bouts/475132-ufc-on-espn-27-felici...      \\nFelicia Spencer\\n\\n\\n   \n",
       "/fightcenter/bouts/478326-ufc-on-espn-27-ion-th...     \\nMagomed Ankalaev\\n\\n\\n   \n",
       "/fightcenter/bouts/474746-ufc-on-espn-27-megan-...       \\nMegan Anderson\\n\\n\\n   \n",
       "/fightcenter/bouts/489498-ufc-on-espn-27-grant-...         \\nGrant Dawson\\n\\n\\n   \n",
       "/fightcenter/bouts/475484-ufc-on-espn-27-gabrie...       \\nKyler Phillips\\n\\n\\n   \n",
       "/fightcenter/bouts/475483-ufc-on-espn-27-brenda...        \\nBrendan Allen\\n\\n\\n   \n",
       "/fightcenter/bouts/478325-ufc-on-espn-27-marcin...        \\nMarcin Tybura\\n\\n\\n   \n",
       "/fightcenter/bouts/490218-ufc-on-espn-27-violen...            \\nLuis Pena\\n\\n\\n   \n",
       "/fightcenter/bouts/476033-ufc-on-espn-27-downto...       \\nJordan Griffin\\n\\n\\n   \n",
       "/fightcenter/bouts/485735-ufc-on-espn-27-aalon-...        \\nSpike Carlyle\\n\\n\\n   \n",
       "/fightcenter/bouts/475626-ufc-on-espn-27-ismail...           \\nSean Brady\\n\\n\\n   \n",
       "\n",
       "                                                                   fighter_1  \\\n",
       "link                                                                           \n",
       "/fightcenter/bouts/475556-ufc-on-espn-27-joseph...  \\n\\n\\nJoseph Benavidez\\n   \n",
       "/fightcenter/bouts/475556-ufc-on-espn-27-joseph...  \\n\\n\\nJoseph Benavidez\\n   \n",
       "/fightcenter/bouts/475132-ufc-on-espn-27-felici...       \\n\\n\\nZarah Fairn\\n   \n",
       "/fightcenter/bouts/478326-ufc-on-espn-27-ion-th...      \\n\\n\\nIon Cutelaba\\n   \n",
       "/fightcenter/bouts/474746-ufc-on-espn-27-megan-...      \\n\\n\\nNorma Dumont\\n   \n",
       "/fightcenter/bouts/489498-ufc-on-espn-27-grant-...    \\n\\n\\nDarrick Minner\\n   \n",
       "/fightcenter/bouts/475484-ufc-on-espn-27-gabrie...     \\n\\n\\nGabriel Silva\\n   \n",
       "/fightcenter/bouts/475483-ufc-on-espn-27-brenda...        \\n\\n\\nTom Breese\\n   \n",
       "/fightcenter/bouts/478325-ufc-on-espn-27-marcin...     \\n\\n\\nSergey Spivak\\n   \n",
       "/fightcenter/bouts/490218-ufc-on-espn-27-violen...      \\n\\n\\nSteve Garcia\\n   \n",
       "/fightcenter/bouts/476033-ufc-on-espn-27-downto...          \\n\\n\\nTJ Brown\\n   \n",
       "/fightcenter/bouts/485735-ufc-on-espn-27-aalon-...        \\n\\n\\nAalon Cruz\\n   \n",
       "/fightcenter/bouts/475626-ufc-on-espn-27-ismail...   \\n\\n\\nIsmail Naurdiev\\n   \n",
       "/fightcenter/bouts/475556-ufc-on-espn-27-joseph...  \\n\\n\\nJoseph Benavidez\\n   \n",
       "/fightcenter/bouts/475132-ufc-on-espn-27-felici...       \\n\\n\\nZarah Fairn\\n   \n",
       "/fightcenter/bouts/478326-ufc-on-espn-27-ion-th...      \\n\\n\\nIon Cutelaba\\n   \n",
       "/fightcenter/bouts/474746-ufc-on-espn-27-megan-...      \\n\\n\\nNorma Dumont\\n   \n",
       "/fightcenter/bouts/489498-ufc-on-espn-27-grant-...    \\n\\n\\nDarrick Minner\\n   \n",
       "/fightcenter/bouts/475484-ufc-on-espn-27-gabrie...     \\n\\n\\nGabriel Silva\\n   \n",
       "/fightcenter/bouts/475483-ufc-on-espn-27-brenda...        \\n\\n\\nTom Breese\\n   \n",
       "/fightcenter/bouts/478325-ufc-on-espn-27-marcin...     \\n\\n\\nSergey Spivak\\n   \n",
       "/fightcenter/bouts/490218-ufc-on-espn-27-violen...      \\n\\n\\nSteve Garcia\\n   \n",
       "/fightcenter/bouts/476033-ufc-on-espn-27-downto...          \\n\\n\\nTJ Brown\\n   \n",
       "/fightcenter/bouts/485735-ufc-on-espn-27-aalon-...        \\n\\n\\nAalon Cruz\\n   \n",
       "/fightcenter/bouts/475626-ufc-on-espn-27-ismail...   \\n\\n\\nIsmail Naurdiev\\n   \n",
       "\n",
       "                                                   weight            billing  \\\n",
       "link                                                                           \n",
       "/fightcenter/bouts/475556-ufc-on-espn-27-joseph...    125     \\nMain Event\\n   \n",
       "/fightcenter/bouts/475556-ufc-on-espn-27-joseph...    125     \\nMain Event\\n   \n",
       "/fightcenter/bouts/475132-ufc-on-espn-27-felici...    145  \\nCo-Main Event\\n   \n",
       "/fightcenter/bouts/478326-ufc-on-espn-27-ion-th...    205      \\nMain Card\\n   \n",
       "/fightcenter/bouts/474746-ufc-on-espn-27-megan-...    145      \\nMain Card\\n   \n",
       "/fightcenter/bouts/489498-ufc-on-espn-27-grant-...    145      \\nMain Card\\n   \n",
       "/fightcenter/bouts/475484-ufc-on-espn-27-gabrie...    135         \\nPrelim\\n   \n",
       "/fightcenter/bouts/475483-ufc-on-espn-27-brenda...    185         \\nPrelim\\n   \n",
       "/fightcenter/bouts/478325-ufc-on-espn-27-marcin...    265         \\nPrelim\\n   \n",
       "/fightcenter/bouts/490218-ufc-on-espn-27-violen...    155         \\nPrelim\\n   \n",
       "/fightcenter/bouts/476033-ufc-on-espn-27-downto...    145         \\nPrelim\\n   \n",
       "/fightcenter/bouts/485735-ufc-on-espn-27-aalon-...    145         \\nPrelim\\n   \n",
       "/fightcenter/bouts/475626-ufc-on-espn-27-ismail...    170         \\nPrelim\\n   \n",
       "/fightcenter/bouts/475556-ufc-on-espn-27-joseph...    125     \\nMain Event\\n   \n",
       "/fightcenter/bouts/475132-ufc-on-espn-27-felici...    145  \\nCo-Main Event\\n   \n",
       "/fightcenter/bouts/478326-ufc-on-espn-27-ion-th...    205      \\nMain Card\\n   \n",
       "/fightcenter/bouts/474746-ufc-on-espn-27-megan-...    145      \\nMain Card\\n   \n",
       "/fightcenter/bouts/489498-ufc-on-espn-27-grant-...    145      \\nMain Card\\n   \n",
       "/fightcenter/bouts/475484-ufc-on-espn-27-gabrie...    135         \\nPrelim\\n   \n",
       "/fightcenter/bouts/475483-ufc-on-espn-27-brenda...    185         \\nPrelim\\n   \n",
       "/fightcenter/bouts/478325-ufc-on-espn-27-marcin...    265         \\nPrelim\\n   \n",
       "/fightcenter/bouts/490218-ufc-on-espn-27-violen...    155         \\nPrelim\\n   \n",
       "/fightcenter/bouts/476033-ufc-on-espn-27-downto...    145         \\nPrelim\\n   \n",
       "/fightcenter/bouts/485735-ufc-on-espn-27-aalon-...    145         \\nPrelim\\n   \n",
       "/fightcenter/bouts/475626-ufc-on-espn-27-ismail...    170         \\nPrelim\\n   \n",
       "\n",
       "                                                   bout_number  \\\n",
       "link                                                             \n",
       "/fightcenter/bouts/475556-ufc-on-espn-27-joseph...          12   \n",
       "/fightcenter/bouts/475556-ufc-on-espn-27-joseph...          12   \n",
       "/fightcenter/bouts/475132-ufc-on-espn-27-felici...          11   \n",
       "/fightcenter/bouts/478326-ufc-on-espn-27-ion-th...          10   \n",
       "/fightcenter/bouts/474746-ufc-on-espn-27-megan-...           9   \n",
       "/fightcenter/bouts/489498-ufc-on-espn-27-grant-...           8   \n",
       "/fightcenter/bouts/475484-ufc-on-espn-27-gabrie...           7   \n",
       "/fightcenter/bouts/475483-ufc-on-espn-27-brenda...           6   \n",
       "/fightcenter/bouts/478325-ufc-on-espn-27-marcin...           5   \n",
       "/fightcenter/bouts/490218-ufc-on-espn-27-violen...           4   \n",
       "/fightcenter/bouts/476033-ufc-on-espn-27-downto...           3   \n",
       "/fightcenter/bouts/485735-ufc-on-espn-27-aalon-...           2   \n",
       "/fightcenter/bouts/475626-ufc-on-espn-27-ismail...           1   \n",
       "/fightcenter/bouts/475556-ufc-on-espn-27-joseph...          12   \n",
       "/fightcenter/bouts/475132-ufc-on-espn-27-felici...          11   \n",
       "/fightcenter/bouts/478326-ufc-on-espn-27-ion-th...          10   \n",
       "/fightcenter/bouts/474746-ufc-on-espn-27-megan-...           9   \n",
       "/fightcenter/bouts/489498-ufc-on-espn-27-grant-...           8   \n",
       "/fightcenter/bouts/475484-ufc-on-espn-27-gabrie...           7   \n",
       "/fightcenter/bouts/475483-ufc-on-espn-27-brenda...           6   \n",
       "/fightcenter/bouts/478325-ufc-on-espn-27-marcin...           5   \n",
       "/fightcenter/bouts/490218-ufc-on-espn-27-violen...           4   \n",
       "/fightcenter/bouts/476033-ufc-on-espn-27-downto...           3   \n",
       "/fightcenter/bouts/485735-ufc-on-espn-27-aalon-...           2   \n",
       "/fightcenter/bouts/475626-ufc-on-espn-27-ismail...           1   \n",
       "\n",
       "                                                                                 event_link  \n",
       "link                                                                                         \n",
       "/fightcenter/bouts/475556-ufc-on-espn-27-joseph...  fightcenter/events/65142-ufc-on-espn-27  \n",
       "/fightcenter/bouts/475556-ufc-on-espn-27-joseph...  fightcenter/events/65142-ufc-on-espn-27  \n",
       "/fightcenter/bouts/475132-ufc-on-espn-27-felici...  fightcenter/events/65142-ufc-on-espn-27  \n",
       "/fightcenter/bouts/478326-ufc-on-espn-27-ion-th...  fightcenter/events/65142-ufc-on-espn-27  \n",
       "/fightcenter/bouts/474746-ufc-on-espn-27-megan-...  fightcenter/events/65142-ufc-on-espn-27  \n",
       "/fightcenter/bouts/489498-ufc-on-espn-27-grant-...  fightcenter/events/65142-ufc-on-espn-27  \n",
       "/fightcenter/bouts/475484-ufc-on-espn-27-gabrie...  fightcenter/events/65142-ufc-on-espn-27  \n",
       "/fightcenter/bouts/475483-ufc-on-espn-27-brenda...  fightcenter/events/65142-ufc-on-espn-27  \n",
       "/fightcenter/bouts/478325-ufc-on-espn-27-marcin...  fightcenter/events/65142-ufc-on-espn-27  \n",
       "/fightcenter/bouts/490218-ufc-on-espn-27-violen...  fightcenter/events/65142-ufc-on-espn-27  \n",
       "/fightcenter/bouts/476033-ufc-on-espn-27-downto...  fightcenter/events/65142-ufc-on-espn-27  \n",
       "/fightcenter/bouts/485735-ufc-on-espn-27-aalon-...  fightcenter/events/65142-ufc-on-espn-27  \n",
       "/fightcenter/bouts/475626-ufc-on-espn-27-ismail...  fightcenter/events/65142-ufc-on-espn-27  \n",
       "/fightcenter/bouts/475556-ufc-on-espn-27-joseph...  fightcenter/events/65142-ufc-on-espn-27  \n",
       "/fightcenter/bouts/475132-ufc-on-espn-27-felici...  fightcenter/events/65142-ufc-on-espn-27  \n",
       "/fightcenter/bouts/478326-ufc-on-espn-27-ion-th...  fightcenter/events/65142-ufc-on-espn-27  \n",
       "/fightcenter/bouts/474746-ufc-on-espn-27-megan-...  fightcenter/events/65142-ufc-on-espn-27  \n",
       "/fightcenter/bouts/489498-ufc-on-espn-27-grant-...  fightcenter/events/65142-ufc-on-espn-27  \n",
       "/fightcenter/bouts/475484-ufc-on-espn-27-gabrie...  fightcenter/events/65142-ufc-on-espn-27  \n",
       "/fightcenter/bouts/475483-ufc-on-espn-27-brenda...  fightcenter/events/65142-ufc-on-espn-27  \n",
       "/fightcenter/bouts/478325-ufc-on-espn-27-marcin...  fightcenter/events/65142-ufc-on-espn-27  \n",
       "/fightcenter/bouts/490218-ufc-on-espn-27-violen...  fightcenter/events/65142-ufc-on-espn-27  \n",
       "/fightcenter/bouts/476033-ufc-on-espn-27-downto...  fightcenter/events/65142-ufc-on-espn-27  \n",
       "/fightcenter/bouts/485735-ufc-on-espn-27-aalon-...  fightcenter/events/65142-ufc-on-espn-27  \n",
       "/fightcenter/bouts/475626-ufc-on-espn-27-ismail...  fightcenter/events/65142-ufc-on-espn-27  "
      ]
     },
     "execution_count": 48,
     "metadata": {},
     "output_type": "execute_result"
    }
   ],
   "source": [
    "for bout in li_bouts:\n",
    "    bout_dict = {}\n",
    "\n",
    "    bout_dict['method'] = [bout.find(class_='result').get_text()]\n",
    "\n",
    "    bout_dict['time'] = [bout.find(class_='time').get_text()]\n",
    "\n",
    "    names = bout.find_all(class_='fightCardFighterName')\n",
    "    bout_dict['fighter_0'] = [names[0].get_text()]\n",
    "    bout_dict['fighter_1'] = [names[1].get_text()]\n",
    "\n",
    "    bout_dict['weight'] = [bout.find(class_='weight').get_text()]\n",
    "\n",
    "    bout_dict['billing'] = [bout.find(class_='billing').get_text()]\n",
    "\n",
    "    bout_dict['bout_number'] = [bout.find(class_='fightCardBoutNumber').get_text()]\n",
    "\n",
    "    bout_dict['event_link'] = [event_url]\n",
    "\n",
    "    bout_dict['link'] = [bout.find(class_='billing').find('a').get('href')]\n",
    "\n",
    "    # now I can update my df with this info by turning it into a df and using combine first\n",
    "\n",
    "    bout_df = pd.DataFrame(bout_dict)\n",
    "\n",
    "    df = pd.concat([df, bout_df])\n",
    "\n",
    "df.set_index('link')"
   ]
  },
  {
   "cell_type": "code",
   "execution_count": null,
   "metadata": {},
   "outputs": [],
   "source": []
  },
  {
   "cell_type": "code",
   "execution_count": null,
   "metadata": {},
   "outputs": [],
   "source": []
  },
  {
   "cell_type": "markdown",
   "metadata": {},
   "source": [
    "## Table: Events (addition)\n",
    "I'm goiing to pause the fighter instances scrape and work on making the events scrape more thorough. First I want the events dataframe available. Then I'm going to open the first event."
   ]
  },
  {
   "cell_type": "code",
   "execution_count": 35,
   "metadata": {},
   "outputs": [],
   "source": [
    "df_events = pd.read_csv('previous_ufc.csv')\n",
    "first_event = df_events.loc[0]"
   ]
  },
  {
   "cell_type": "markdown",
   "metadata": {},
   "source": [
    "I'm going to open the page and check the first list with the event info:"
   ]
  },
  {
   "cell_type": "code",
   "execution_count": 36,
   "metadata": {},
   "outputs": [],
   "source": [
    "event_soup = BeautifulSoup(src.open_tapology_link(first_event.link))"
   ]
  },
  {
   "cell_type": "markdown",
   "metadata": {},
   "source": [
    "## List parser\n",
    "I realize I need a more reluable way to parse html lists for thios project. Here I will test a function that will be able to turn an html list into a pandas dataframe, ready to be merged with my other dataframes."
   ]
  },
  {
   "cell_type": "markdown",
   "metadata": {},
   "source": [
    "### Find the list element"
   ]
  },
  {
   "cell_type": "code",
   "execution_count": 37,
   "metadata": {},
   "outputs": [],
   "source": [
    "div = soup.find(class_=\"details details_with_poster clearfix\") #grab top header\n",
    "event_info_elem = div.find('ul') #grab first list in top header"
   ]
  },
  {
   "cell_type": "markdown",
   "metadata": {},
   "source": [
    "### Find the list items in the element"
   ]
  },
  {
   "cell_type": "code",
   "execution_count": 44,
   "metadata": {},
   "outputs": [
    {
     "data": {
      "text/plain": [
       "['Saturday 05.30.2020 at 06:00 PM ET',\n",
       " '\\nU.S. Broadcast:\\nESPN\\n\\n',\n",
       " '\\nName:\\nUFC Fight Night: Woodley vs. Burns\\n',\n",
       " '\\nAlso Known As:\\nUFC Fight Night APEX\\n',\n",
       " '\\nPromotion:\\n\\nUltimate Fighting Championship\\n\\n',\n",
       " '\\nOwnership:\\nEndeavor\\n',\n",
       " '\\nVenue:\\nUFC APEX\\n',\n",
       " '\\nLocation:\\nLas Vegas, Nevada, United States\\n',\n",
       " '\\nEnclosure:\\nOctagon\\n',\n",
       " '\\nTV Announcers:\\nBrendan Fitzgerald, Michael Bisping, Daniel Cormier\\n',\n",
       " '\\nRing Announcer:\\nJoe Martinez\\n',\n",
       " '\\nPost-Fight Interviews:\\nDaniel Cormier\\n',\n",
       " '\\nTV Ratings:\\n1.02M avg. viewers (615k ESPN prelims)\\n',\n",
       " '\\nMMA Bouts:\\n11\\n',\n",
       " '\\nPromotion Links:\\n\\n\\n\\n\\n\\n\\n\\n\\n\\n\\n\\n\\n\\n\\n\\n\\n\\n\\n\\n\\n\\n\\n\\n\\n\\n\\n\\n\\n\\n\\n\\n\\n\\n',\n",
       " '\\nEvent Links:\\n\\n\\n\\n\\n\\n\\n\\n\\n\\n\\n\\n\\n\\n\\n\\n\\n\\n\\n\\n\\n\\n\\n\\n\\n\\n\\n\\n\\n\\n\\n\\n\\n\\n']"
      ]
     },
     "execution_count": 44,
     "metadata": {},
     "output_type": "execute_result"
    }
   ],
   "source": [
    "list_items = event_info_elem.find_all('li')\n",
    "list_items = [item.get_text() for item in list_items]\n",
    "list_items"
   ]
  },
  {
   "cell_type": "markdown",
   "metadata": {},
   "source": [
    "### Insert a 'header' label.\n",
    "#### The info in the header may be useful later on"
   ]
  },
  {
   "cell_type": "code",
   "execution_count": 65,
   "metadata": {},
   "outputs": [
    {
     "data": {
      "text/plain": [
       "[['header', 'Saturday 05.30.2020 at 06:00 PM ET'],\n",
       " ['\\nU.S. Broadcast', 'ESPN\\n\\n'],\n",
       " ['\\nName', 'UFC Fight Night: Woodley vs. Burns\\n'],\n",
       " ['\\nAlso Known As', 'UFC Fight Night APEX\\n'],\n",
       " ['\\nPromotion', '\\nUltimate Fighting Championship\\n\\n'],\n",
       " ['\\nOwnership', 'Endeavor\\n'],\n",
       " ['\\nVenue', 'UFC APEX\\n'],\n",
       " ['\\nLocation', 'Las Vegas, Nevada, United States\\n'],\n",
       " ['\\nEnclosure', 'Octagon\\n'],\n",
       " ['\\nTV Announcers', 'Brendan Fitzgerald, Michael Bisping, Daniel Cormier\\n'],\n",
       " ['\\nRing Announcer', 'Joe Martinez\\n'],\n",
       " ['\\nPost-Fight Interviews', 'Daniel Cormier\\n'],\n",
       " ['\\nTV Ratings', '1.02M avg. viewers (615k ESPN prelims)\\n'],\n",
       " ['\\nMMA Bouts', '11\\n'],\n",
       " ['\\nPromotion Links',\n",
       "  '\\n\\n\\n\\n\\n\\n\\n\\n\\n\\n\\n\\n\\n\\n\\n\\n\\n\\n\\n\\n\\n\\n\\n\\n\\n\\n\\n\\n\\n\\n\\n\\n\\n'],\n",
       " ['\\nEvent Links',\n",
       "  '\\n\\n\\n\\n\\n\\n\\n\\n\\n\\n\\n\\n\\n\\n\\n\\n\\n\\n\\n\\n\\n\\n\\n\\n\\n\\n\\n\\n\\n\\n\\n\\n\\n']]"
      ]
     },
     "execution_count": 65,
     "metadata": {},
     "output_type": "execute_result"
    }
   ],
   "source": [
    "item_list = [item.split(':\\n') for item in list_items]\n",
    "item_list[0].insert(0, 'header')\n",
    "item_list"
   ]
  },
  {
   "cell_type": "markdown",
   "metadata": {},
   "source": [
    "### Encapsulate the second element of each row in a list\n",
    "#### This allows them to be made into a dataframe easily"
   ]
  },
  {
   "cell_type": "code",
   "execution_count": 69,
   "metadata": {},
   "outputs": [
    {
     "data": {
      "text/plain": [
       "[['header', ['Saturday 05.30.2020 at 06:00 PM ET']],\n",
       " ['\\nU.S. Broadcast', ['ESPN']],\n",
       " ['\\nName', ['UFC Fight Night: Woodley vs. Burns']],\n",
       " ['\\nAlso Known As', ['UFC Fight Night APEX']],\n",
       " ['\\nPromotion', ['Ultimate Fighting Championship']],\n",
       " ['\\nOwnership', ['Endeavor']],\n",
       " ['\\nVenue', ['UFC APEX']],\n",
       " ['\\nLocation', ['Las Vegas, Nevada, United States']],\n",
       " ['\\nEnclosure', ['Octagon']],\n",
       " ['\\nTV Announcers', ['Brendan Fitzgerald, Michael Bisping, Daniel Cormier']],\n",
       " ['\\nRing Announcer', ['Joe Martinez']],\n",
       " ['\\nPost-Fight Interviews', ['Daniel Cormier']],\n",
       " ['\\nTV Ratings', ['1.02M avg. viewers (615k ESPN prelims)']],\n",
       " ['\\nMMA Bouts', ['11']],\n",
       " ['\\nPromotion Links', ['']],\n",
       " ['\\nEvent Links', ['']]]"
      ]
     },
     "execution_count": 69,
     "metadata": {},
     "output_type": "execute_result"
    }
   ],
   "source": [
    "item_list = [[item[0], [item[1].strip()]] for item in item_list]\n",
    "item_list"
   ]
  },
  {
   "cell_type": "markdown",
   "metadata": {},
   "source": [
    "### Convert to dataframe"
   ]
  },
  {
   "cell_type": "code",
   "execution_count": 70,
   "metadata": {},
   "outputs": [
    {
     "data": {
      "text/html": [
       "<div>\n",
       "<style scoped>\n",
       "    .dataframe tbody tr th:only-of-type {\n",
       "        vertical-align: middle;\n",
       "    }\n",
       "\n",
       "    .dataframe tbody tr th {\n",
       "        vertical-align: top;\n",
       "    }\n",
       "\n",
       "    .dataframe thead th {\n",
       "        text-align: right;\n",
       "    }\n",
       "</style>\n",
       "<table border=\"1\" class=\"dataframe\">\n",
       "  <thead>\n",
       "    <tr style=\"text-align: right;\">\n",
       "      <th></th>\n",
       "      <th>header</th>\n",
       "      <th>\\nU.S. Broadcast</th>\n",
       "      <th>\\nName</th>\n",
       "      <th>\\nAlso Known As</th>\n",
       "      <th>\\nPromotion</th>\n",
       "      <th>\\nOwnership</th>\n",
       "      <th>\\nVenue</th>\n",
       "      <th>\\nLocation</th>\n",
       "      <th>\\nEnclosure</th>\n",
       "      <th>\\nTV Announcers</th>\n",
       "      <th>\\nRing Announcer</th>\n",
       "      <th>\\nPost-Fight Interviews</th>\n",
       "      <th>\\nTV Ratings</th>\n",
       "      <th>\\nMMA Bouts</th>\n",
       "      <th>\\nPromotion Links</th>\n",
       "      <th>\\nEvent Links</th>\n",
       "    </tr>\n",
       "  </thead>\n",
       "  <tbody>\n",
       "    <tr>\n",
       "      <th>0</th>\n",
       "      <td>Saturday 05.30.2020 at 06:00 PM ET</td>\n",
       "      <td>ESPN</td>\n",
       "      <td>UFC Fight Night: Woodley vs. Burns</td>\n",
       "      <td>UFC Fight Night APEX</td>\n",
       "      <td>Ultimate Fighting Championship</td>\n",
       "      <td>Endeavor</td>\n",
       "      <td>UFC APEX</td>\n",
       "      <td>Las Vegas, Nevada, United States</td>\n",
       "      <td>Octagon</td>\n",
       "      <td>Brendan Fitzgerald, Michael Bisping, Daniel Co...</td>\n",
       "      <td>Joe Martinez</td>\n",
       "      <td>Daniel Cormier</td>\n",
       "      <td>1.02M avg. viewers (615k ESPN prelims)</td>\n",
       "      <td>11</td>\n",
       "      <td></td>\n",
       "      <td></td>\n",
       "    </tr>\n",
       "  </tbody>\n",
       "</table>\n",
       "</div>"
      ],
      "text/plain": [
       "                               header \\nU.S. Broadcast  \\\n",
       "0  Saturday 05.30.2020 at 06:00 PM ET             ESPN   \n",
       "\n",
       "                               \\nName       \\nAlso Known As  \\\n",
       "0  UFC Fight Night: Woodley vs. Burns  UFC Fight Night APEX   \n",
       "\n",
       "                      \\nPromotion \\nOwnership   \\nVenue  \\\n",
       "0  Ultimate Fighting Championship    Endeavor  UFC APEX   \n",
       "\n",
       "                         \\nLocation \\nEnclosure  \\\n",
       "0  Las Vegas, Nevada, United States     Octagon   \n",
       "\n",
       "                                     \\nTV Announcers \\nRing Announcer  \\\n",
       "0  Brendan Fitzgerald, Michael Bisping, Daniel Co...     Joe Martinez   \n",
       "\n",
       "  \\nPost-Fight Interviews                            \\nTV Ratings \\nMMA Bouts  \\\n",
       "0          Daniel Cormier  1.02M avg. viewers (615k ESPN prelims)          11   \n",
       "\n",
       "  \\nPromotion Links \\nEvent Links  \n",
       "0                                  "
      ]
     },
     "execution_count": 70,
     "metadata": {},
     "output_type": "execute_result"
    }
   ],
   "source": [
    "list_df = pd.DataFrame(dict(item_list))\n",
    "list_df"
   ]
  },
  {
   "cell_type": "code",
   "execution_count": 62,
   "metadata": {},
   "outputs": [
    {
     "data": {
      "text/plain": [
       "{0: 0                      header\n",
       " 1            \\nU.S. Broadcast\n",
       " 2                      \\nName\n",
       " 3             \\nAlso Known As\n",
       " 4                 \\nPromotion\n",
       " 5                 \\nOwnership\n",
       " 6                     \\nVenue\n",
       " 7                  \\nLocation\n",
       " 8                 \\nEnclosure\n",
       " 9             \\nTV Announcers\n",
       " 10           \\nRing Announcer\n",
       " 11    \\nPost-Fight Interviews\n",
       " 12               \\nTV Ratings\n",
       " 13                \\nMMA Bouts\n",
       " 14          \\nPromotion Links\n",
       " 15              \\nEvent Links\n",
       " Name: 0, dtype: object,\n",
       " 1: 0                    Saturday 05.30.2020 at 06:00 PM ET\n",
       " 1                                              ESPN\\n\\n\n",
       " 2                  UFC Fight Night: Woodley vs. Burns\\n\n",
       " 3                                UFC Fight Night APEX\\n\n",
       " 4                  \\nUltimate Fighting Championship\\n\\n\n",
       " 5                                            Endeavor\\n\n",
       " 6                                            UFC APEX\\n\n",
       " 7                    Las Vegas, Nevada, United States\\n\n",
       " 8                                             Octagon\\n\n",
       " 9     Brendan Fitzgerald, Michael Bisping, Daniel Co...\n",
       " 10                                       Joe Martinez\\n\n",
       " 11                                     Daniel Cormier\\n\n",
       " 12             1.02M avg. viewers (615k ESPN prelims)\\n\n",
       " 13                                                 11\\n\n",
       " 14    \\n\\n\\n\\n\\n\\n\\n\\n\\n\\n\\n\\n\\n\\n\\n\\n\\n\\n\\n\\n\\n\\n\\n...\n",
       " 15    \\n\\n\\n\\n\\n\\n\\n\\n\\n\\n\\n\\n\\n\\n\\n\\n\\n\\n\\n\\n\\n\\n\\n...\n",
       " Name: 1, dtype: object}"
      ]
     },
     "execution_count": 62,
     "metadata": {},
     "output_type": "execute_result"
    }
   ],
   "source": []
  },
  {
   "cell_type": "code",
   "execution_count": null,
   "metadata": {},
   "outputs": [],
   "source": []
  },
  {
   "cell_type": "code",
   "execution_count": 37,
   "metadata": {},
   "outputs": [
    {
     "data": {
      "text/plain": [
       "['',\n",
       " 'Saturday 05.30.2020 at 06:00 PM ET',\n",
       " '',\n",
       " 'U.S. Broadcast:',\n",
       " 'ESPN',\n",
       " '',\n",
       " 'Name:',\n",
       " 'UFC Fight Night: Woodley vs. Burns',\n",
       " 'Also Known As:',\n",
       " 'UFC Fight Night APEX',\n",
       " 'Promotion:',\n",
       " '',\n",
       " 'Ultimate Fighting Championship',\n",
       " '',\n",
       " 'Ownership:',\n",
       " 'Endeavor',\n",
       " 'Venue:',\n",
       " 'UFC APEX',\n",
       " 'Location:',\n",
       " 'Las Vegas, Nevada, United States',\n",
       " 'Enclosure:',\n",
       " 'Octagon',\n",
       " 'TV Announcers:',\n",
       " 'Brendan Fitzgerald, Michael Bisping, Daniel Cormier',\n",
       " 'Ring Announcer:',\n",
       " 'Joe Martinez',\n",
       " 'Post-Fight Interviews:',\n",
       " 'Daniel Cormier',\n",
       " 'TV Ratings:',\n",
       " '1.02M avg. viewers (615k ESPN prelims)',\n",
       " 'MMA Bouts:',\n",
       " '11']"
      ]
     },
     "execution_count": 37,
     "metadata": {},
     "output_type": "execute_result"
    }
   ],
   "source": [
    "info_list = event_info_elem.get_text().split('\\n\\n\\n')#turn it into text and split into list\n",
    "\n",
    "\n",
    "new_list = [] #fields with no info do not have a colon followed by a new line, so i will take those out\n",
    "for item in info_list:\n",
    "    if ':\\n' in item:\n",
    "        new_list.append(item)\n",
    "\n",
    "info_list = '\\n'.join(new_list).split('\\n')\n",
    "info_list"
   ]
  },
  {
   "cell_type": "markdown",
   "metadata": {},
   "source": [
    "Now I'm going to remove the whitespace."
   ]
  },
  {
   "cell_type": "code",
   "execution_count": 38,
   "metadata": {},
   "outputs": [
    {
     "data": {
      "text/plain": [
       "['U.S. Broadcast:',\n",
       " 'ESPN',\n",
       " 'Name:',\n",
       " 'UFC Fight Night: Woodley vs. Burns',\n",
       " 'Also Known As:',\n",
       " 'UFC Fight Night APEX',\n",
       " 'Promotion:',\n",
       " 'Ultimate Fighting Championship',\n",
       " 'Ownership:',\n",
       " 'Endeavor',\n",
       " 'Venue:',\n",
       " 'UFC APEX',\n",
       " 'Location:',\n",
       " 'Las Vegas, Nevada, United States',\n",
       " 'Enclosure:',\n",
       " 'Octagon',\n",
       " 'TV Announcers:',\n",
       " 'Brendan Fitzgerald, Michael Bisping, Daniel Cormier',\n",
       " 'Ring Announcer:',\n",
       " 'Joe Martinez',\n",
       " 'Post-Fight Interviews:',\n",
       " 'Daniel Cormier',\n",
       " 'TV Ratings:',\n",
       " '1.02M avg. viewers (615k ESPN prelims)',\n",
       " 'MMA Bouts:',\n",
       " '11']"
      ]
     },
     "execution_count": 38,
     "metadata": {},
     "output_type": "execute_result"
    }
   ],
   "source": [
    "info_list = list(filter(lambda item: item != '', info_list))\n",
    "info_list\n",
    "\n",
    "start_time = info_list.pop(0)\n",
    "info_list"
   ]
  },
  {
   "cell_type": "markdown",
   "metadata": {},
   "source": [
    "Now I'm going to group them and turn them into a list then into a dataframe."
   ]
  },
  {
   "cell_type": "code",
   "execution_count": 31,
   "metadata": {},
   "outputs": [],
   "source": [
    "info_list = src.group(info_list, 2)"
   ]
  },
  {
   "cell_type": "markdown",
   "metadata": {},
   "source": [
    "Zip the grouped info list into a dictionary and turn it into a dataframe."
   ]
  },
  {
   "cell_type": "code",
   "execution_count": 32,
   "metadata": {},
   "outputs": [],
   "source": [
    "info_df = pd.DataFrame(dict(info_list), index=[0]) #zipped the group into a dictionary, needs index param to work"
   ]
  },
  {
   "cell_type": "markdown",
   "metadata": {},
   "source": [
    "Which columns do I want?"
   ]
  },
  {
   "cell_type": "code",
   "execution_count": 33,
   "metadata": {},
   "outputs": [
    {
     "data": {
      "text/plain": [
       "Index(['U.S. Broadcast:', 'Name:', 'Also Known As:', 'Promotion:',\n",
       "       'Ownership:', 'Venue:', 'Location:', 'Enclosure:', 'TV Announcers:',\n",
       "       'Ring Announcer:', 'Post-Fight Interviews:', 'TV Ratings:',\n",
       "       'MMA Bouts:'],\n",
       "      dtype='object')"
      ]
     },
     "execution_count": 33,
     "metadata": {},
     "output_type": "execute_result"
    }
   ],
   "source": [
    "info_df.columns"
   ]
  },
  {
   "cell_type": "code",
   "execution_count": 34,
   "metadata": {},
   "outputs": [],
   "source": [
    "relevent_df = info_df.loc[:, ['Location:', 'Venue:', 'Enclosure:']] #remove all irrelevent data"
   ]
  },
  {
   "cell_type": "markdown",
   "metadata": {},
   "source": [
    "Add the link"
   ]
  },
  {
   "cell_type": "code",
   "execution_count": 35,
   "metadata": {},
   "outputs": [],
   "source": [
    "relevent_df['link'] = first_event.link"
   ]
  },
  {
   "cell_type": "code",
   "execution_count": 93,
   "metadata": {},
   "outputs": [
    {
     "data": {
      "text/html": [
       "<div>\n",
       "<style scoped>\n",
       "    .dataframe tbody tr th:only-of-type {\n",
       "        vertical-align: middle;\n",
       "    }\n",
       "\n",
       "    .dataframe tbody tr th {\n",
       "        vertical-align: top;\n",
       "    }\n",
       "\n",
       "    .dataframe thead th {\n",
       "        text-align: right;\n",
       "    }\n",
       "</style>\n",
       "<table border=\"1\" class=\"dataframe\">\n",
       "  <thead>\n",
       "    <tr style=\"text-align: right;\">\n",
       "      <th></th>\n",
       "      <th>location</th>\n",
       "      <th>venue</th>\n",
       "      <th>enclosure</th>\n",
       "      <th>start_time</th>\n",
       "      <th>link</th>\n",
       "    </tr>\n",
       "  </thead>\n",
       "  <tbody>\n",
       "    <tr>\n",
       "      <th>0</th>\n",
       "      <td>Las Vegas, Nevada, United States</td>\n",
       "      <td>UFC APEX</td>\n",
       "      <td>Octagon</td>\n",
       "      <td>\\nSaturday 05.30.2020 at 06:00 PM ET\\n\\nU.S. B...</td>\n",
       "      <td>/fightcenter/events/69127-ufc-fight-night</td>\n",
       "    </tr>\n",
       "  </tbody>\n",
       "</table>\n",
       "</div>"
      ],
      "text/plain": [
       "                           location     venue enclosure  \\\n",
       "0  Las Vegas, Nevada, United States  UFC APEX   Octagon   \n",
       "\n",
       "                                          start_time  \\\n",
       "0  \\nSaturday 05.30.2020 at 06:00 PM ET\\n\\nU.S. B...   \n",
       "\n",
       "                                        link  \n",
       "0  /fightcenter/events/69127-ufc-fight-night  "
      ]
     },
     "execution_count": 93,
     "metadata": {},
     "output_type": "execute_result"
    }
   ],
   "source": [
    "relevent_df"
   ]
  },
  {
   "cell_type": "markdown",
   "metadata": {},
   "source": [
    "Now I'll turn this into a function and see how I can join it"
   ]
  },
  {
   "cell_type": "code",
   "execution_count": 92,
   "metadata": {},
   "outputs": [
    {
     "name": "stdout",
     "output_type": "stream",
     "text": [
      "[['\\nName', 'UFC Fight Night: Woodley vs. Burns'], ['Also Known As', 'UFC Fight Night APEX'], ['Promotion', '\\nUltimate Fighting Championship'], ['\\nOwnership', 'Endeavor'], ['Venue', 'UFC APEX'], ['Location', 'Las Vegas, Nevada, United States'], ['Enclosure', 'Octagon'], ['TV Announcers', 'Brendan Fitzgerald, Michael Bisping, Daniel Cormier'], ['Ring Announcer', 'Joe Martinez'], ['Post-Fight Interviews', 'Daniel Cormier'], ['TV Ratings', '1.02M avg. viewers (615k ESPN prelims)'], ['MMA Bouts', '11']]\n"
     ]
    }
   ],
   "source": [
    "relevent_df = src.get_missing_event_info(soup, first_event.link)"
   ]
  },
  {
   "cell_type": "code",
   "execution_count": 38,
   "metadata": {},
   "outputs": [
    {
     "data": {
      "text/html": [
       "<div>\n",
       "<style scoped>\n",
       "    .dataframe tbody tr th:only-of-type {\n",
       "        vertical-align: middle;\n",
       "    }\n",
       "\n",
       "    .dataframe tbody tr th {\n",
       "        vertical-align: top;\n",
       "    }\n",
       "\n",
       "    .dataframe thead th {\n",
       "        text-align: right;\n",
       "    }\n",
       "</style>\n",
       "<table border=\"1\" class=\"dataframe\">\n",
       "  <thead>\n",
       "    <tr style=\"text-align: right;\">\n",
       "      <th></th>\n",
       "      <th>event</th>\n",
       "      <th>name</th>\n",
       "      <th>date</th>\n",
       "      <th>bouts</th>\n",
       "      <th>link</th>\n",
       "    </tr>\n",
       "  </thead>\n",
       "  <tbody>\n",
       "    <tr>\n",
       "      <th>0</th>\n",
       "      <td>UFC Fight Night</td>\n",
       "      <td>Woodley vs. Burns</td>\n",
       "      <td>2020-05-30</td>\n",
       "      <td>11</td>\n",
       "      <td>/fightcenter/events/69127-ufc-fight-night</td>\n",
       "    </tr>\n",
       "    <tr>\n",
       "      <th>1</th>\n",
       "      <td>UFC Fight Night</td>\n",
       "      <td>Overeem vs. Harris</td>\n",
       "      <td>2020-05-16</td>\n",
       "      <td>11</td>\n",
       "      <td>/fightcenter/events/67412-ufc-on-espn-33</td>\n",
       "    </tr>\n",
       "    <tr>\n",
       "      <th>2</th>\n",
       "      <td>UFC Fight Night</td>\n",
       "      <td>Smith vs. Teixeira</td>\n",
       "      <td>2020-05-13</td>\n",
       "      <td>10</td>\n",
       "      <td>/fightcenter/events/69126-ufc-fight-night</td>\n",
       "    </tr>\n",
       "    <tr>\n",
       "      <th>3</th>\n",
       "      <td>UFC 249</td>\n",
       "      <td>Ferguson vs. Gaethje</td>\n",
       "      <td>2020-05-09</td>\n",
       "      <td>11</td>\n",
       "      <td>/fightcenter/events/66312-ufc-250</td>\n",
       "    </tr>\n",
       "    <tr>\n",
       "      <th>10</th>\n",
       "      <td>UFC on ESPN+ 28</td>\n",
       "      <td>Lee vs. Oliveira</td>\n",
       "      <td>2020-03-14</td>\n",
       "      <td>12</td>\n",
       "      <td>/fightcenter/events/64600-ufc-on-espn-26</td>\n",
       "    </tr>\n",
       "  </tbody>\n",
       "</table>\n",
       "</div>"
      ],
      "text/plain": [
       "              event                  name       date  bouts  \\\n",
       "0   UFC Fight Night     Woodley vs. Burns 2020-05-30     11   \n",
       "1   UFC Fight Night    Overeem vs. Harris 2020-05-16     11   \n",
       "2   UFC Fight Night    Smith vs. Teixeira 2020-05-13     10   \n",
       "3           UFC 249  Ferguson vs. Gaethje 2020-05-09     11   \n",
       "10  UFC on ESPN+ 28      Lee vs. Oliveira 2020-03-14     12   \n",
       "\n",
       "                                         link  \n",
       "0   /fightcenter/events/69127-ufc-fight-night  \n",
       "1    /fightcenter/events/67412-ufc-on-espn-33  \n",
       "2   /fightcenter/events/69126-ufc-fight-night  \n",
       "3           /fightcenter/events/66312-ufc-250  \n",
       "10   /fightcenter/events/64600-ufc-on-espn-26  "
      ]
     },
     "execution_count": 38,
     "metadata": {},
     "output_type": "execute_result"
    }
   ],
   "source": [
    "previous_ufc.head()"
   ]
  },
  {
   "cell_type": "code",
   "execution_count": 39,
   "metadata": {},
   "outputs": [
    {
     "data": {
      "text/html": [
       "<div>\n",
       "<style scoped>\n",
       "    .dataframe tbody tr th:only-of-type {\n",
       "        vertical-align: middle;\n",
       "    }\n",
       "\n",
       "    .dataframe tbody tr th {\n",
       "        vertical-align: top;\n",
       "    }\n",
       "\n",
       "    .dataframe thead th {\n",
       "        text-align: right;\n",
       "    }\n",
       "</style>\n",
       "<table border=\"1\" class=\"dataframe\">\n",
       "  <thead>\n",
       "    <tr style=\"text-align: right;\">\n",
       "      <th></th>\n",
       "      <th>event</th>\n",
       "      <th>name</th>\n",
       "      <th>date</th>\n",
       "      <th>bouts</th>\n",
       "      <th>link</th>\n",
       "      <th>location</th>\n",
       "      <th>venue</th>\n",
       "      <th>enclosure</th>\n",
       "      <th>start_time</th>\n",
       "    </tr>\n",
       "  </thead>\n",
       "  <tbody>\n",
       "    <tr>\n",
       "      <th>0</th>\n",
       "      <td>UFC Fight Night</td>\n",
       "      <td>Woodley vs. Burns</td>\n",
       "      <td>2020-05-30</td>\n",
       "      <td>11</td>\n",
       "      <td>/fightcenter/events/69127-ufc-fight-night</td>\n",
       "      <td>Las Vegas, Nevada, United States</td>\n",
       "      <td>UFC APEX</td>\n",
       "      <td>Octagon</td>\n",
       "      <td>Saturday 05.30.2020 at 06:00 PM ET</td>\n",
       "    </tr>\n",
       "    <tr>\n",
       "      <th>1</th>\n",
       "      <td>UFC Fight Night</td>\n",
       "      <td>Overeem vs. Harris</td>\n",
       "      <td>2020-05-16</td>\n",
       "      <td>11</td>\n",
       "      <td>/fightcenter/events/67412-ufc-on-espn-33</td>\n",
       "      <td>NaN</td>\n",
       "      <td>NaN</td>\n",
       "      <td>NaN</td>\n",
       "      <td>NaN</td>\n",
       "    </tr>\n",
       "    <tr>\n",
       "      <th>2</th>\n",
       "      <td>UFC Fight Night</td>\n",
       "      <td>Smith vs. Teixeira</td>\n",
       "      <td>2020-05-13</td>\n",
       "      <td>10</td>\n",
       "      <td>/fightcenter/events/69126-ufc-fight-night</td>\n",
       "      <td>NaN</td>\n",
       "      <td>NaN</td>\n",
       "      <td>NaN</td>\n",
       "      <td>NaN</td>\n",
       "    </tr>\n",
       "    <tr>\n",
       "      <th>3</th>\n",
       "      <td>UFC 249</td>\n",
       "      <td>Ferguson vs. Gaethje</td>\n",
       "      <td>2020-05-09</td>\n",
       "      <td>11</td>\n",
       "      <td>/fightcenter/events/66312-ufc-250</td>\n",
       "      <td>NaN</td>\n",
       "      <td>NaN</td>\n",
       "      <td>NaN</td>\n",
       "      <td>NaN</td>\n",
       "    </tr>\n",
       "    <tr>\n",
       "      <th>10</th>\n",
       "      <td>UFC on ESPN+ 28</td>\n",
       "      <td>Lee vs. Oliveira</td>\n",
       "      <td>2020-03-14</td>\n",
       "      <td>12</td>\n",
       "      <td>/fightcenter/events/64600-ufc-on-espn-26</td>\n",
       "      <td>NaN</td>\n",
       "      <td>NaN</td>\n",
       "      <td>NaN</td>\n",
       "      <td>NaN</td>\n",
       "    </tr>\n",
       "    <tr>\n",
       "      <th>...</th>\n",
       "      <td>...</td>\n",
       "      <td>...</td>\n",
       "      <td>...</td>\n",
       "      <td>...</td>\n",
       "      <td>...</td>\n",
       "      <td>...</td>\n",
       "      <td>...</td>\n",
       "      <td>...</td>\n",
       "      <td>...</td>\n",
       "    </tr>\n",
       "    <tr>\n",
       "      <th>509</th>\n",
       "      <td>UFC 5</td>\n",
       "      <td>Return of the Beast</td>\n",
       "      <td>1995-04-07</td>\n",
       "      <td>10</td>\n",
       "      <td>/fightcenter/events/ufc-5-return-of-the-beast</td>\n",
       "      <td>NaN</td>\n",
       "      <td>NaN</td>\n",
       "      <td>NaN</td>\n",
       "      <td>NaN</td>\n",
       "    </tr>\n",
       "    <tr>\n",
       "      <th>510</th>\n",
       "      <td>UFC 4</td>\n",
       "      <td>Revenge of the Warriors</td>\n",
       "      <td>1994-12-16</td>\n",
       "      <td>10</td>\n",
       "      <td>/fightcenter/events/ufc-4-revenge-of-the-warriors</td>\n",
       "      <td>NaN</td>\n",
       "      <td>NaN</td>\n",
       "      <td>NaN</td>\n",
       "      <td>NaN</td>\n",
       "    </tr>\n",
       "    <tr>\n",
       "      <th>511</th>\n",
       "      <td>UFC 3</td>\n",
       "      <td>The American Dream</td>\n",
       "      <td>1994-09-09</td>\n",
       "      <td>6</td>\n",
       "      <td>/fightcenter/events/ufc-3-the-american-dream</td>\n",
       "      <td>NaN</td>\n",
       "      <td>NaN</td>\n",
       "      <td>NaN</td>\n",
       "      <td>NaN</td>\n",
       "    </tr>\n",
       "    <tr>\n",
       "      <th>512</th>\n",
       "      <td>UFC 2</td>\n",
       "      <td>No Way Out</td>\n",
       "      <td>1994-03-11</td>\n",
       "      <td>15</td>\n",
       "      <td>/fightcenter/events/ufc-2-no-way-out</td>\n",
       "      <td>NaN</td>\n",
       "      <td>NaN</td>\n",
       "      <td>NaN</td>\n",
       "      <td>NaN</td>\n",
       "    </tr>\n",
       "    <tr>\n",
       "      <th>513</th>\n",
       "      <td>UFC 1</td>\n",
       "      <td>The Beginning</td>\n",
       "      <td>1993-11-12</td>\n",
       "      <td>8</td>\n",
       "      <td>/fightcenter/events/ufc-1-the-beginning</td>\n",
       "      <td>NaN</td>\n",
       "      <td>NaN</td>\n",
       "      <td>NaN</td>\n",
       "      <td>NaN</td>\n",
       "    </tr>\n",
       "  </tbody>\n",
       "</table>\n",
       "<p>500 rows × 9 columns</p>\n",
       "</div>"
      ],
      "text/plain": [
       "               event                     name       date  bouts  \\\n",
       "0    UFC Fight Night        Woodley vs. Burns 2020-05-30     11   \n",
       "1    UFC Fight Night       Overeem vs. Harris 2020-05-16     11   \n",
       "2    UFC Fight Night       Smith vs. Teixeira 2020-05-13     10   \n",
       "3            UFC 249     Ferguson vs. Gaethje 2020-05-09     11   \n",
       "10   UFC on ESPN+ 28         Lee vs. Oliveira 2020-03-14     12   \n",
       "..               ...                      ...        ...    ...   \n",
       "509            UFC 5      Return of the Beast 1995-04-07     10   \n",
       "510            UFC 4  Revenge of the Warriors 1994-12-16     10   \n",
       "511            UFC 3       The American Dream 1994-09-09      6   \n",
       "512            UFC 2               No Way Out 1994-03-11     15   \n",
       "513            UFC 1            The Beginning 1993-11-12      8   \n",
       "\n",
       "                                                  link  \\\n",
       "0            /fightcenter/events/69127-ufc-fight-night   \n",
       "1             /fightcenter/events/67412-ufc-on-espn-33   \n",
       "2            /fightcenter/events/69126-ufc-fight-night   \n",
       "3                    /fightcenter/events/66312-ufc-250   \n",
       "10            /fightcenter/events/64600-ufc-on-espn-26   \n",
       "..                                                 ...   \n",
       "509      /fightcenter/events/ufc-5-return-of-the-beast   \n",
       "510  /fightcenter/events/ufc-4-revenge-of-the-warriors   \n",
       "511       /fightcenter/events/ufc-3-the-american-dream   \n",
       "512               /fightcenter/events/ufc-2-no-way-out   \n",
       "513            /fightcenter/events/ufc-1-the-beginning   \n",
       "\n",
       "                             location     venue enclosure  \\\n",
       "0    Las Vegas, Nevada, United States  UFC APEX   Octagon   \n",
       "1                                 NaN       NaN       NaN   \n",
       "2                                 NaN       NaN       NaN   \n",
       "3                                 NaN       NaN       NaN   \n",
       "10                                NaN       NaN       NaN   \n",
       "..                                ...       ...       ...   \n",
       "509                               NaN       NaN       NaN   \n",
       "510                               NaN       NaN       NaN   \n",
       "511                               NaN       NaN       NaN   \n",
       "512                               NaN       NaN       NaN   \n",
       "513                               NaN       NaN       NaN   \n",
       "\n",
       "                             start_time  \n",
       "0    Saturday 05.30.2020 at 06:00 PM ET  \n",
       "1                                   NaN  \n",
       "2                                   NaN  \n",
       "3                                   NaN  \n",
       "10                                  NaN  \n",
       "..                                  ...  \n",
       "509                                 NaN  \n",
       "510                                 NaN  \n",
       "511                                 NaN  \n",
       "512                                 NaN  \n",
       "513                                 NaN  \n",
       "\n",
       "[500 rows x 9 columns]"
      ]
     },
     "execution_count": 39,
     "metadata": {},
     "output_type": "execute_result"
    }
   ],
   "source": [
    "previous_ufc.join(relevent_df.set_index('link'), on='link')"
   ]
  }
 ],
 "metadata": {
  "kernelspec": {
   "display_name": "Python 3",
   "language": "python",
   "name": "python3"
  },
  "language_info": {
   "codemirror_mode": {
    "name": "ipython",
    "version": 3
   },
   "file_extension": ".py",
   "mimetype": "text/x-python",
   "name": "python",
   "nbconvert_exporter": "python",
   "pygments_lexer": "ipython3",
   "version": "3.8.1"
  }
 },
 "nbformat": 4,
 "nbformat_minor": 4
}
