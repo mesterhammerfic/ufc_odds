{
 "cells": [
  {
   "cell_type": "code",
   "execution_count": 1,
   "metadata": {},
   "outputs": [],
   "source": [
    "%load_ext autoreload\n",
    "%autoreload 2\n",
    "\n",
    "import os\n",
    "import sys\n",
    "\n",
    "module_path = os.path.abspath(os.path.join(os.pardir))\n",
    "if module_path not in sys.path:\n",
    "    sys.path.append(module_path)\n",
    "\n",
    "import pandas as pd\n",
    "import numpy as np\n",
    "from bs4 import BeautifulSoup\n",
    "import requests\n",
    "from src import object_test"
   ]
  },
  {
   "cell_type": "markdown",
   "metadata": {},
   "source": [
    "# Fighter page"
   ]
  },
  {
   "cell_type": "code",
   "execution_count": 2,
   "metadata": {},
   "outputs": [],
   "source": [
    "fighter_link = '/fightcenter/fighters/51080-curtis-blaydes'"
   ]
  },
  {
   "cell_type": "code",
   "execution_count": 3,
   "metadata": {},
   "outputs": [],
   "source": [
    "fighter_page = object_test.open_tapology_link(fighter_link)\n",
    "fighter_soup = BeautifulSoup(fighter_page)"
   ]
  },
  {
   "cell_type": "markdown",
   "metadata": {},
   "source": [
    "#### Get list of info\n",
    "The data I want is in the table under the element with the class 'details details_two_columns'. I can pull this in with my html_list_to_df function."
   ]
  },
  {
   "cell_type": "code",
   "execution_count": 11,
   "metadata": {},
   "outputs": [
    {
     "data": {
      "text/html": [
       "<div>\n",
       "<style scoped>\n",
       "    .dataframe tbody tr th:only-of-type {\n",
       "        vertical-align: middle;\n",
       "    }\n",
       "\n",
       "    .dataframe tbody tr th {\n",
       "        vertical-align: top;\n",
       "    }\n",
       "\n",
       "    .dataframe thead th {\n",
       "        text-align: right;\n",
       "    }\n",
       "</style>\n",
       "<table border=\"1\" class=\"dataframe\">\n",
       "  <thead>\n",
       "    <tr style=\"text-align: right;\">\n",
       "      <th></th>\n",
       "      <th>header</th>\n",
       "      <th>ProMMARecord</th>\n",
       "      <th>Nickname</th>\n",
       "      <th>CurrentStreak</th>\n",
       "      <th>Age</th>\n",
       "      <th>LastFight</th>\n",
       "      <th>WeightClass</th>\n",
       "      <th>Affiliation</th>\n",
       "      <th>Height</th>\n",
       "      <th>CareerDisclosedEarnings</th>\n",
       "      <th>Born</th>\n",
       "      <th>Fightingoutof</th>\n",
       "      <th>College</th>\n",
       "      <th>FoundationStyle</th>\n",
       "      <th>FighterLinks</th>\n",
       "      <th>PersonalLinks</th>\n",
       "    </tr>\n",
       "  </thead>\n",
       "  <tbody>\n",
       "    <tr>\n",
       "      <th>0</th>\n",
       "      <td>Name</td>\n",
       "      <td>14-2-0, 1 NC (Win-Loss-Draw)</td>\n",
       "      <td>Razor</td>\n",
       "      <td>4 Wins</td>\n",
       "      <td>29\\n| Date of Birth</td>\n",
       "      <td>June 20, 2020\\nin\\nUFC</td>\n",
       "      <td>Heavyweight\\n| Last Weigh-In</td>\n",
       "      <td>Elevation Fight Team</td>\n",
       "      <td>6'4\" (193cm)\\n| Reach</td>\n",
       "      <td>$338,000 USD</td>\n",
       "      <td>Naperville, Illinois</td>\n",
       "      <td>Chicago, Illinois</td>\n",
       "      <td>Harper College</td>\n",
       "      <td>Wrestling</td>\n",
       "      <td></td>\n",
       "      <td></td>\n",
       "    </tr>\n",
       "  </tbody>\n",
       "</table>\n",
       "</div>"
      ],
      "text/plain": [
       "  header                  ProMMARecord Nickname CurrentStreak  \\\n",
       "0   Name  14-2-0, 1 NC (Win-Loss-Draw)    Razor        4 Wins   \n",
       "\n",
       "                   Age               LastFight                   WeightClass  \\\n",
       "0  29\\n| Date of Birth  June 20, 2020\\nin\\nUFC  Heavyweight\\n| Last Weigh-In   \n",
       "\n",
       "            Affiliation                 Height CareerDisclosedEarnings  \\\n",
       "0  Elevation Fight Team  6'4\" (193cm)\\n| Reach            $338,000 USD   \n",
       "\n",
       "                   Born      Fightingoutof         College FoundationStyle  \\\n",
       "0  Naperville, Illinois  Chicago, Illinois  Harper College       Wrestling   \n",
       "\n",
       "  FighterLinks PersonalLinks  \n",
       "0                             "
      ]
     },
     "execution_count": 11,
     "metadata": {},
     "output_type": "execute_result"
    }
   ],
   "source": [
    "info = object_test.html_li_to_df(fighter_soup, 'details details_two_columns')\n",
    "info"
   ]
  },
  {
   "cell_type": "markdown",
   "metadata": {},
   "source": [
    "It's missing reach, so let's see if we can get it back in there. Heres the code for the function i wrote."
   ]
  },
  {
   "cell_type": "code",
   "execution_count": 22,
   "metadata": {},
   "outputs": [
    {
     "data": {
      "text/plain": [
       "['\\nName:\\nCurtis Blaydes\\n',\n",
       " '\\nPro MMA Record:\\n14-2-0, 1 NC (Win-Loss-Draw)\\n',\n",
       " '\\nNickname:\\nRazor\\n',\n",
       " '\\nCurrent Streak:\\n4 Wins\\n',\n",
       " '\\nAge:\\n29\\n| Date of Birth:\\n1991.02.18\\n',\n",
       " '\\nLast Fight:\\nJune 20, 2020\\nin\\nUFC\\n',\n",
       " '\\nWeight Class:\\nHeavyweight\\n| Last Weigh-In:\\n261.0 lbs\\n',\n",
       " '\\nAffiliation:\\nElevation Fight Team\\n',\n",
       " '\\nHeight:\\n6\\'4\" (193cm)\\n| Reach:\\n80.0\" (203cm)\\n',\n",
       " '\\nCareer Disclosed Earnings:\\n$338,000 USD\\n',\n",
       " '\\nBorn:\\nNaperville, Illinois\\n',\n",
       " '\\nFighting out of:\\nChicago, Illinois\\n',\n",
       " '\\nCollege:\\nHarper College\\n',\n",
       " '\\nFoundation Style:\\nWrestling\\n',\n",
       " '\\nFighter Links:\\n\\n\\n\\n\\n\\n\\n\\n\\n\\n\\n\\n\\n\\n\\n\\n\\n\\n\\n\\n\\n\\n\\n\\n\\n\\n\\n\\n\\n\\n\\n\\n\\n\\n',\n",
       " '\\nPersonal Links:\\n\\n\\n\\n\\n\\n\\n\\n\\n\\n\\n\\n\\n\\n\\n\\n\\n\\n\\n']"
      ]
     },
     "execution_count": 22,
     "metadata": {},
     "output_type": "execute_result"
    }
   ],
   "source": [
    "list_class = 'details details_two_columns'\n",
    "\n",
    "### Find the list element\n",
    "\n",
    "div = fighter_soup.find(class_=list_class) #grab top header\n",
    "event_info_elem = div.find('ul') #grab first list in top header\n",
    "\n",
    "### Find the list items in the element\n",
    "\n",
    "html_list_items = event_info_elem.find_all('li')\n",
    "html_list_items = [item.get_text() for item in html_list_items]\n",
    "html_list_items"
   ]
  },
  {
   "cell_type": "code",
   "execution_count": 24,
   "metadata": {},
   "outputs": [
    {
     "data": {
      "text/plain": [
       "['\\nName:\\nCurtis Blaydes\\n',\n",
       " '\\nPro MMA Record:\\n14-2-0, 1 NC (Win-Loss-Draw)\\n',\n",
       " '\\nNickname:\\nRazor\\n',\n",
       " '\\nCurrent Streak:\\n4 Wins\\n',\n",
       " '\\nAge:\\n29',\n",
       " ' Date of Birth:\\n1991.02.18\\n',\n",
       " '\\nLast Fight:\\nJune 20, 2020\\nin\\nUFC\\n',\n",
       " '\\nWeight Class:\\nHeavyweight',\n",
       " ' Last Weigh-In:\\n261.0 lbs\\n',\n",
       " '\\nAffiliation:\\nElevation Fight Team\\n',\n",
       " '\\nHeight:\\n6\\'4\" (193cm)',\n",
       " ' Reach:\\n80.0\" (203cm)\\n',\n",
       " '\\nCareer Disclosed Earnings:\\n$338,000 USD\\n',\n",
       " '\\nBorn:\\nNaperville, Illinois\\n',\n",
       " '\\nFighting out of:\\nChicago, Illinois\\n',\n",
       " '\\nCollege:\\nHarper College\\n',\n",
       " '\\nFoundation Style:\\nWrestling\\n',\n",
       " '\\nFighter Links:\\n\\n\\n\\n\\n\\n\\n\\n\\n\\n\\n\\n\\n\\n\\n\\n\\n\\n\\n\\n\\n\\n\\n\\n\\n\\n\\n\\n\\n\\n\\n\\n\\n\\n',\n",
       " '\\nPersonal Links:\\n\\n\\n\\n\\n\\n\\n\\n\\n\\n\\n\\n\\n\\n\\n\\n\\n\\n\\n']"
      ]
     },
     "execution_count": 24,
     "metadata": {},
     "output_type": "execute_result"
    }
   ],
   "source": [
    "column_value_strings = []\n",
    "for row in html_list_items:\n",
    "    if '\\n|' in row:\n",
    "        column_value_strings+=row.split('\\n|')\n",
    "    else:\n",
    "        column_value_strings.append(row)\n",
    "        \n",
    "column_value_strings"
   ]
  },
  {
   "cell_type": "code",
   "execution_count": 26,
   "metadata": {},
   "outputs": [],
   "source": [
    "### Insert a 'header' label.\n",
    "#### The info in the header may be useful later on\n",
    "\n",
    "item_list = [item.split(':\\n') for item in column_value_strings]\n",
    "item_list[0].insert(0, 'header')\n",
    "item_list\n",
    "\n",
    "### Encapsulate the second element of each row in a list\n",
    "#### This allows them to be made into a dataframe easily\n",
    "\n",
    "item_list = [[item[0], [item[1]]] for item in item_list]\n",
    "item_list\n",
    "\n",
    "### Convert to dataframe\n",
    "\n",
    "list_df = pd.DataFrame(dict(item_list))\n",
    "\n",
    "# clean up white space\n",
    "list_df = list_df.applymap(lambda x: x.strip())\n",
    "list_df.columns = [(col.strip()).replace(' ', '') for col in list_df.columns]"
   ]
  },
  {
   "cell_type": "code",
   "execution_count": 27,
   "metadata": {},
   "outputs": [
    {
     "data": {
      "text/html": [
       "<div>\n",
       "<style scoped>\n",
       "    .dataframe tbody tr th:only-of-type {\n",
       "        vertical-align: middle;\n",
       "    }\n",
       "\n",
       "    .dataframe tbody tr th {\n",
       "        vertical-align: top;\n",
       "    }\n",
       "\n",
       "    .dataframe thead th {\n",
       "        text-align: right;\n",
       "    }\n",
       "</style>\n",
       "<table border=\"1\" class=\"dataframe\">\n",
       "  <thead>\n",
       "    <tr style=\"text-align: right;\">\n",
       "      <th></th>\n",
       "      <th>header</th>\n",
       "      <th>ProMMARecord</th>\n",
       "      <th>Nickname</th>\n",
       "      <th>CurrentStreak</th>\n",
       "      <th>Age</th>\n",
       "      <th>DateofBirth</th>\n",
       "      <th>LastFight</th>\n",
       "      <th>WeightClass</th>\n",
       "      <th>LastWeigh-In</th>\n",
       "      <th>Affiliation</th>\n",
       "      <th>Height</th>\n",
       "      <th>Reach</th>\n",
       "      <th>CareerDisclosedEarnings</th>\n",
       "      <th>Born</th>\n",
       "      <th>Fightingoutof</th>\n",
       "      <th>College</th>\n",
       "      <th>FoundationStyle</th>\n",
       "      <th>FighterLinks</th>\n",
       "      <th>PersonalLinks</th>\n",
       "    </tr>\n",
       "  </thead>\n",
       "  <tbody>\n",
       "    <tr>\n",
       "      <th>0</th>\n",
       "      <td>Name</td>\n",
       "      <td>14-2-0, 1 NC (Win-Loss-Draw)</td>\n",
       "      <td>Razor</td>\n",
       "      <td>4 Wins</td>\n",
       "      <td>29</td>\n",
       "      <td>1991.02.18</td>\n",
       "      <td>June 20, 2020\\nin\\nUFC</td>\n",
       "      <td>Heavyweight</td>\n",
       "      <td>261.0 lbs</td>\n",
       "      <td>Elevation Fight Team</td>\n",
       "      <td>6'4\" (193cm)</td>\n",
       "      <td>80.0\" (203cm)</td>\n",
       "      <td>$338,000 USD</td>\n",
       "      <td>Naperville, Illinois</td>\n",
       "      <td>Chicago, Illinois</td>\n",
       "      <td>Harper College</td>\n",
       "      <td>Wrestling</td>\n",
       "      <td></td>\n",
       "      <td></td>\n",
       "    </tr>\n",
       "  </tbody>\n",
       "</table>\n",
       "</div>"
      ],
      "text/plain": [
       "  header                  ProMMARecord Nickname CurrentStreak Age DateofBirth  \\\n",
       "0   Name  14-2-0, 1 NC (Win-Loss-Draw)    Razor        4 Wins  29  1991.02.18   \n",
       "\n",
       "                LastFight  WeightClass LastWeigh-In           Affiliation  \\\n",
       "0  June 20, 2020\\nin\\nUFC  Heavyweight    261.0 lbs  Elevation Fight Team   \n",
       "\n",
       "         Height          Reach CareerDisclosedEarnings                  Born  \\\n",
       "0  6'4\" (193cm)  80.0\" (203cm)            $338,000 USD  Naperville, Illinois   \n",
       "\n",
       "       Fightingoutof         College FoundationStyle FighterLinks  \\\n",
       "0  Chicago, Illinois  Harper College       Wrestling                \n",
       "\n",
       "  PersonalLinks  \n",
       "0                "
      ]
     },
     "execution_count": 27,
     "metadata": {},
     "output_type": "execute_result"
    }
   ],
   "source": [
    "list_df"
   ]
  },
  {
   "cell_type": "code",
   "execution_count": 28,
   "metadata": {},
   "outputs": [
    {
     "data": {
      "text/html": [
       "<div>\n",
       "<style scoped>\n",
       "    .dataframe tbody tr th:only-of-type {\n",
       "        vertical-align: middle;\n",
       "    }\n",
       "\n",
       "    .dataframe tbody tr th {\n",
       "        vertical-align: top;\n",
       "    }\n",
       "\n",
       "    .dataframe thead th {\n",
       "        text-align: right;\n",
       "    }\n",
       "</style>\n",
       "<table border=\"1\" class=\"dataframe\">\n",
       "  <thead>\n",
       "    <tr style=\"text-align: right;\">\n",
       "      <th></th>\n",
       "      <th>header</th>\n",
       "      <th>ProMMARecord</th>\n",
       "      <th>Nickname</th>\n",
       "      <th>CurrentStreak</th>\n",
       "      <th>Age</th>\n",
       "      <th>DateofBirth</th>\n",
       "      <th>LastFight</th>\n",
       "      <th>WeightClass</th>\n",
       "      <th>LastWeigh-In</th>\n",
       "      <th>Affiliation</th>\n",
       "      <th>Height</th>\n",
       "      <th>Reach</th>\n",
       "      <th>CareerDisclosedEarnings</th>\n",
       "      <th>Born</th>\n",
       "      <th>Fightingoutof</th>\n",
       "      <th>College</th>\n",
       "      <th>FoundationStyle</th>\n",
       "      <th>FighterLinks</th>\n",
       "      <th>PersonalLinks</th>\n",
       "    </tr>\n",
       "  </thead>\n",
       "  <tbody>\n",
       "    <tr>\n",
       "      <th>0</th>\n",
       "      <td>Name</td>\n",
       "      <td>14-2-0, 1 NC (Win-Loss-Draw)</td>\n",
       "      <td>Razor</td>\n",
       "      <td>4 Wins</td>\n",
       "      <td>29</td>\n",
       "      <td>1991.02.18</td>\n",
       "      <td>June 20, 2020\\nin\\nUFC</td>\n",
       "      <td>Heavyweight</td>\n",
       "      <td>261.0 lbs</td>\n",
       "      <td>Elevation Fight Team</td>\n",
       "      <td>6'4\" (193cm)</td>\n",
       "      <td>80.0\" (203cm)</td>\n",
       "      <td>$338,000 USD</td>\n",
       "      <td>Naperville, Illinois</td>\n",
       "      <td>Chicago, Illinois</td>\n",
       "      <td>Harper College</td>\n",
       "      <td>Wrestling</td>\n",
       "      <td></td>\n",
       "      <td></td>\n",
       "    </tr>\n",
       "  </tbody>\n",
       "</table>\n",
       "</div>"
      ],
      "text/plain": [
       "  header                  ProMMARecord Nickname CurrentStreak Age DateofBirth  \\\n",
       "0   Name  14-2-0, 1 NC (Win-Loss-Draw)    Razor        4 Wins  29  1991.02.18   \n",
       "\n",
       "                LastFight  WeightClass LastWeigh-In           Affiliation  \\\n",
       "0  June 20, 2020\\nin\\nUFC  Heavyweight    261.0 lbs  Elevation Fight Team   \n",
       "\n",
       "         Height          Reach CareerDisclosedEarnings                  Born  \\\n",
       "0  6'4\" (193cm)  80.0\" (203cm)            $338,000 USD  Naperville, Illinois   \n",
       "\n",
       "       Fightingoutof         College FoundationStyle FighterLinks  \\\n",
       "0  Chicago, Illinois  Harper College       Wrestling                \n",
       "\n",
       "  PersonalLinks  \n",
       "0                "
      ]
     },
     "execution_count": 28,
     "metadata": {},
     "output_type": "execute_result"
    }
   ],
   "source": [
    "object_test.html_li_to_df(fighter_soup, 'details details_two_columns')"
   ]
  }
 ],
 "metadata": {
  "kernelspec": {
   "display_name": "Python 3",
   "language": "python",
   "name": "python3"
  },
  "language_info": {
   "codemirror_mode": {
    "name": "ipython",
    "version": 3
   },
   "file_extension": ".py",
   "mimetype": "text/x-python",
   "name": "python",
   "nbconvert_exporter": "python",
   "pygments_lexer": "ipython3",
   "version": "3.8.1"
  }
 },
 "nbformat": 4,
 "nbformat_minor": 4
}
