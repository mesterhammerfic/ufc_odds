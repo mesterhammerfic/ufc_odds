{
 "cells": [
  {
   "cell_type": "markdown",
   "metadata": {},
   "source": [
    "## Table: fighter_instances\n",
    "\n",
    "### First bout scrape"
   ]
  },
  {
   "cell_type": "code",
   "execution_count": 17,
   "metadata": {},
   "outputs": [],
   "source": [
    "first_bout = fightCard_df.loc[0]"
   ]
  },
  {
   "cell_type": "code",
   "execution_count": 18,
   "metadata": {},
   "outputs": [],
   "source": [
    "bout_link = fightCard_df.loc[0].link\n",
    "bout_url = 'https://www.tapology.com'+bout_link\n",
    "response = requests.get(bout_url, headers=headers)\n",
    "bout_soup = BeautifulSoup(response.text, 'html.parser')"
   ]
  },
  {
   "cell_type": "markdown",
   "metadata": {},
   "source": [
    "Let's see if we can find a class for the list we want in this page, we'll use chrome developer's tools."
   ]
  },
  {
   "cell_type": "markdown",
   "metadata": {},
   "source": [
    "Looking at the page, I found that the info I want is under the boutComparisonTable class. So let's pull that first."
   ]
  },
  {
   "cell_type": "code",
   "execution_count": 19,
   "metadata": {},
   "outputs": [],
   "source": [
    "bout_table = bout_soup.find_all(class_='boutComparisonTable')"
   ]
  },
  {
   "cell_type": "markdown",
   "metadata": {},
   "source": [
    "Actually, I can just pull the table in with pd so let's try that first."
   ]
  },
  {
   "cell_type": "code",
   "execution_count": 20,
   "metadata": {},
   "outputs": [],
   "source": [
    "tables = pd.read_html(response.content)"
   ]
  },
  {
   "cell_type": "code",
   "execution_count": 21,
   "metadata": {},
   "outputs": [
    {
     "data": {
      "text/plain": [
       "3"
      ]
     },
     "execution_count": 21,
     "metadata": {},
     "output_type": "execute_result"
    }
   ],
   "source": [
    "len(tables)"
   ]
  },
  {
   "cell_type": "code",
   "execution_count": 22,
   "metadata": {},
   "outputs": [
    {
     "data": {
      "text/html": [
       "<div>\n",
       "<style scoped>\n",
       "    .dataframe tbody tr th:only-of-type {\n",
       "        vertical-align: middle;\n",
       "    }\n",
       "\n",
       "    .dataframe tbody tr th {\n",
       "        vertical-align: top;\n",
       "    }\n",
       "\n",
       "    .dataframe thead th {\n",
       "        text-align: right;\n",
       "    }\n",
       "</style>\n",
       "<table border=\"1\" class=\"dataframe\">\n",
       "  <thead>\n",
       "    <tr style=\"text-align: right;\">\n",
       "      <th></th>\n",
       "      <th>0</th>\n",
       "      <th>1</th>\n",
       "      <th>2</th>\n",
       "      <th>3</th>\n",
       "      <th>4</th>\n",
       "    </tr>\n",
       "  </thead>\n",
       "  <tbody>\n",
       "    <tr>\n",
       "      <th>0</th>\n",
       "      <td>18-3-0</td>\n",
       "      <td>NaN</td>\n",
       "      <td>Pro Record At Fight</td>\n",
       "      <td>NaN</td>\n",
       "      <td>19-4-1</td>\n",
       "    </tr>\n",
       "    <tr>\n",
       "      <th>1</th>\n",
       "      <td>Climbed to 19-3</td>\n",
       "      <td>NaN</td>\n",
       "      <td>Record After Fight</td>\n",
       "      <td>NaN</td>\n",
       "      <td>Fell to 19-5</td>\n",
       "    </tr>\n",
       "    <tr>\n",
       "      <th>2</th>\n",
       "      <td>+150 (Slight Underdog)</td>\n",
       "      <td>NaN</td>\n",
       "      <td>Betting Odds</td>\n",
       "      <td>NaN</td>\n",
       "      <td>-185 (Slight Favorite)</td>\n",
       "    </tr>\n",
       "    <tr>\n",
       "      <th>3</th>\n",
       "      <td>Brazil</td>\n",
       "      <td>NaN</td>\n",
       "      <td>Nationality</td>\n",
       "      <td>NaN</td>\n",
       "      <td>United States</td>\n",
       "    </tr>\n",
       "    <tr>\n",
       "      <th>4</th>\n",
       "      <td>Boca Raton, Florida</td>\n",
       "      <td>NaN</td>\n",
       "      <td>Fighting out of</td>\n",
       "      <td>NaN</td>\n",
       "      <td>St. Louis, Missouri</td>\n",
       "    </tr>\n",
       "    <tr>\n",
       "      <th>5</th>\n",
       "      <td>33 years, 10 months, 3 days</td>\n",
       "      <td>NaN</td>\n",
       "      <td>Age at Fight</td>\n",
       "      <td>NaN</td>\n",
       "      <td>38 years, 1 month, 6 days</td>\n",
       "    </tr>\n",
       "    <tr>\n",
       "      <th>6</th>\n",
       "      <td>170.5 lbs (77.3 kgs)</td>\n",
       "      <td>NaN</td>\n",
       "      <td>Weigh-In Result</td>\n",
       "      <td>NaN</td>\n",
       "      <td>170.5 lbs (77.3 kgs)</td>\n",
       "    </tr>\n",
       "    <tr>\n",
       "      <th>7</th>\n",
       "      <td>5'10\" (178cm)</td>\n",
       "      <td>NaN</td>\n",
       "      <td>Height</td>\n",
       "      <td>NaN</td>\n",
       "      <td>5'9\" (176cm)</td>\n",
       "    </tr>\n",
       "    <tr>\n",
       "      <th>8</th>\n",
       "      <td>71.0\" (180cm)</td>\n",
       "      <td>NaN</td>\n",
       "      <td>Reach</td>\n",
       "      <td>NaN</td>\n",
       "      <td>74.0\" (188cm)</td>\n",
       "    </tr>\n",
       "    <tr>\n",
       "      <th>9</th>\n",
       "      <td>Blackzilians</td>\n",
       "      <td>NaN</td>\n",
       "      <td>Gym</td>\n",
       "      <td>NaN</td>\n",
       "      <td>American Top Team</td>\n",
       "    </tr>\n",
       "  </tbody>\n",
       "</table>\n",
       "</div>"
      ],
      "text/plain": [
       "                             0   1                    2   3  \\\n",
       "0                       18-3-0 NaN  Pro Record At Fight NaN   \n",
       "1              Climbed to 19-3 NaN   Record After Fight NaN   \n",
       "2       +150 (Slight Underdog) NaN         Betting Odds NaN   \n",
       "3                       Brazil NaN          Nationality NaN   \n",
       "4          Boca Raton, Florida NaN      Fighting out of NaN   \n",
       "5  33 years, 10 months, 3 days NaN         Age at Fight NaN   \n",
       "6         170.5 lbs (77.3 kgs) NaN      Weigh-In Result NaN   \n",
       "7                5'10\" (178cm) NaN               Height NaN   \n",
       "8                71.0\" (180cm) NaN                Reach NaN   \n",
       "9                 Blackzilians NaN                  Gym NaN   \n",
       "\n",
       "                           4  \n",
       "0                     19-4-1  \n",
       "1               Fell to 19-5  \n",
       "2     -185 (Slight Favorite)  \n",
       "3              United States  \n",
       "4        St. Louis, Missouri  \n",
       "5  38 years, 1 month, 6 days  \n",
       "6       170.5 lbs (77.3 kgs)  \n",
       "7               5'9\" (176cm)  \n",
       "8              74.0\" (188cm)  \n",
       "9          American Top Team  "
      ]
     },
     "execution_count": 22,
     "metadata": {},
     "output_type": "execute_result"
    }
   ],
   "source": [
    "tables[0]"
   ]
  },
  {
   "cell_type": "markdown",
   "metadata": {},
   "source": [
    "Now we should be able to pivot it."
   ]
  },
  {
   "cell_type": "code",
   "execution_count": 23,
   "metadata": {},
   "outputs": [
    {
     "data": {
      "text/plain": [
       "Int64Index([0, 1, 2, 3, 4], dtype='int64')"
      ]
     },
     "execution_count": 23,
     "metadata": {},
     "output_type": "execute_result"
    }
   ],
   "source": [
    "bout_stats = tables[0]\n",
    "bout_stats.columns"
   ]
  },
  {
   "cell_type": "code",
   "execution_count": 24,
   "metadata": {},
   "outputs": [],
   "source": [
    "bout_stats_pivot = pd.DataFrame([list(bout_stats[0]), list(bout_stats[4])])"
   ]
  },
  {
   "cell_type": "code",
   "execution_count": 25,
   "metadata": {},
   "outputs": [],
   "source": [
    "bout_stats_pivot.columns = list(bout_stats[2])"
   ]
  },
  {
   "cell_type": "code",
   "execution_count": 26,
   "metadata": {},
   "outputs": [],
   "source": [
    "bout_stats_pivot.reset_index(inplace=True, drop=True)"
   ]
  },
  {
   "cell_type": "code",
   "execution_count": 27,
   "metadata": {},
   "outputs": [
    {
     "data": {
      "text/html": [
       "<div>\n",
       "<style scoped>\n",
       "    .dataframe tbody tr th:only-of-type {\n",
       "        vertical-align: middle;\n",
       "    }\n",
       "\n",
       "    .dataframe tbody tr th {\n",
       "        vertical-align: top;\n",
       "    }\n",
       "\n",
       "    .dataframe thead th {\n",
       "        text-align: right;\n",
       "    }\n",
       "</style>\n",
       "<table border=\"1\" class=\"dataframe\">\n",
       "  <thead>\n",
       "    <tr style=\"text-align: right;\">\n",
       "      <th></th>\n",
       "      <th>Pro Record At Fight</th>\n",
       "      <th>Record After Fight</th>\n",
       "      <th>Betting Odds</th>\n",
       "      <th>Nationality</th>\n",
       "      <th>Fighting out of</th>\n",
       "      <th>Age at Fight</th>\n",
       "      <th>Weigh-In Result</th>\n",
       "      <th>Height</th>\n",
       "      <th>Reach</th>\n",
       "      <th>Gym</th>\n",
       "    </tr>\n",
       "  </thead>\n",
       "  <tbody>\n",
       "    <tr>\n",
       "      <th>0</th>\n",
       "      <td>18-3-0</td>\n",
       "      <td>Climbed to 19-3</td>\n",
       "      <td>+150 (Slight Underdog)</td>\n",
       "      <td>Brazil</td>\n",
       "      <td>Boca Raton, Florida</td>\n",
       "      <td>33 years, 10 months, 3 days</td>\n",
       "      <td>170.5 lbs (77.3 kgs)</td>\n",
       "      <td>5'10\" (178cm)</td>\n",
       "      <td>71.0\" (180cm)</td>\n",
       "      <td>Blackzilians</td>\n",
       "    </tr>\n",
       "    <tr>\n",
       "      <th>1</th>\n",
       "      <td>19-4-1</td>\n",
       "      <td>Fell to 19-5</td>\n",
       "      <td>-185 (Slight Favorite)</td>\n",
       "      <td>United States</td>\n",
       "      <td>St. Louis, Missouri</td>\n",
       "      <td>38 years, 1 month, 6 days</td>\n",
       "      <td>170.5 lbs (77.3 kgs)</td>\n",
       "      <td>5'9\" (176cm)</td>\n",
       "      <td>74.0\" (188cm)</td>\n",
       "      <td>American Top Team</td>\n",
       "    </tr>\n",
       "  </tbody>\n",
       "</table>\n",
       "</div>"
      ],
      "text/plain": [
       "  Pro Record At Fight Record After Fight            Betting Odds  \\\n",
       "0              18-3-0    Climbed to 19-3  +150 (Slight Underdog)   \n",
       "1              19-4-1       Fell to 19-5  -185 (Slight Favorite)   \n",
       "\n",
       "     Nationality      Fighting out of                 Age at Fight  \\\n",
       "0         Brazil  Boca Raton, Florida  33 years, 10 months, 3 days   \n",
       "1  United States  St. Louis, Missouri    38 years, 1 month, 6 days   \n",
       "\n",
       "        Weigh-In Result         Height          Reach                Gym  \n",
       "0  170.5 lbs (77.3 kgs)  5'10\" (178cm)  71.0\" (180cm)       Blackzilians  \n",
       "1  170.5 lbs (77.3 kgs)   5'9\" (176cm)  74.0\" (188cm)  American Top Team  "
      ]
     },
     "execution_count": 27,
     "metadata": {},
     "output_type": "execute_result"
    }
   ],
   "source": [
    "bout_stats_pivot"
   ]
  },
  {
   "cell_type": "markdown",
   "metadata": {},
   "source": [
    "Now let's test it in function form."
   ]
  },
  {
   "cell_type": "code",
   "execution_count": 28,
   "metadata": {},
   "outputs": [
    {
     "data": {
      "text/html": [
       "<div>\n",
       "<style scoped>\n",
       "    .dataframe tbody tr th:only-of-type {\n",
       "        vertical-align: middle;\n",
       "    }\n",
       "\n",
       "    .dataframe tbody tr th {\n",
       "        vertical-align: top;\n",
       "    }\n",
       "\n",
       "    .dataframe thead th {\n",
       "        text-align: right;\n",
       "    }\n",
       "</style>\n",
       "<table border=\"1\" class=\"dataframe\">\n",
       "  <thead>\n",
       "    <tr style=\"text-align: right;\">\n",
       "      <th></th>\n",
       "      <th>Pro Record At Fight</th>\n",
       "      <th>Record After Fight</th>\n",
       "      <th>Betting Odds</th>\n",
       "      <th>Nationality</th>\n",
       "      <th>Fighting out of</th>\n",
       "      <th>Age at Fight</th>\n",
       "      <th>Weigh-In Result</th>\n",
       "      <th>Height</th>\n",
       "      <th>Reach</th>\n",
       "      <th>Gym</th>\n",
       "      <th>fighter_link</th>\n",
       "      <th>bout_link</th>\n",
       "      <th>instance_id</th>\n",
       "    </tr>\n",
       "  </thead>\n",
       "  <tbody>\n",
       "    <tr>\n",
       "      <th>0</th>\n",
       "      <td>18-3-0</td>\n",
       "      <td>Climbed to 19-3</td>\n",
       "      <td>+150 (Slight Underdog)</td>\n",
       "      <td>Brazil</td>\n",
       "      <td>Boca Raton, Florida</td>\n",
       "      <td>33 years, 10 months, 3 days</td>\n",
       "      <td>170.5 lbs (77.3 kgs)</td>\n",
       "      <td>5'10\" (178cm)</td>\n",
       "      <td>71.0\" (180cm)</td>\n",
       "      <td>Blackzilians</td>\n",
       "      <td>/fightcenter/fighters/31168-gilbert-burns-durinho</td>\n",
       "      <td>/fightcenter/bouts/501343-ufc-fight-night-tyro...</td>\n",
       "      <td>/fightcenter/bouts/501343-ufc-fight-night-tyro...</td>\n",
       "    </tr>\n",
       "    <tr>\n",
       "      <th>1</th>\n",
       "      <td>19-4-1</td>\n",
       "      <td>Fell to 19-5</td>\n",
       "      <td>-185 (Slight Favorite)</td>\n",
       "      <td>United States</td>\n",
       "      <td>St. Louis, Missouri</td>\n",
       "      <td>38 years, 1 month, 6 days</td>\n",
       "      <td>170.5 lbs (77.3 kgs)</td>\n",
       "      <td>5'9\" (176cm)</td>\n",
       "      <td>74.0\" (188cm)</td>\n",
       "      <td>American Top Team</td>\n",
       "      <td>/fightcenter/fighters/tyron-woodley-t-wood</td>\n",
       "      <td>/fightcenter/bouts/501343-ufc-fight-night-tyro...</td>\n",
       "      <td>/fightcenter/bouts/501343-ufc-fight-night-tyro...</td>\n",
       "    </tr>\n",
       "  </tbody>\n",
       "</table>\n",
       "</div>"
      ],
      "text/plain": [
       "  Pro Record At Fight Record After Fight            Betting Odds  \\\n",
       "0              18-3-0    Climbed to 19-3  +150 (Slight Underdog)   \n",
       "1              19-4-1       Fell to 19-5  -185 (Slight Favorite)   \n",
       "\n",
       "     Nationality      Fighting out of                 Age at Fight  \\\n",
       "0         Brazil  Boca Raton, Florida  33 years, 10 months, 3 days   \n",
       "1  United States  St. Louis, Missouri    38 years, 1 month, 6 days   \n",
       "\n",
       "        Weigh-In Result         Height          Reach                Gym  \\\n",
       "0  170.5 lbs (77.3 kgs)  5'10\" (178cm)  71.0\" (180cm)       Blackzilians   \n",
       "1  170.5 lbs (77.3 kgs)   5'9\" (176cm)  74.0\" (188cm)  American Top Team   \n",
       "\n",
       "                                        fighter_link  \\\n",
       "0  /fightcenter/fighters/31168-gilbert-burns-durinho   \n",
       "1         /fightcenter/fighters/tyron-woodley-t-wood   \n",
       "\n",
       "                                           bout_link  \\\n",
       "0  /fightcenter/bouts/501343-ufc-fight-night-tyro...   \n",
       "1  /fightcenter/bouts/501343-ufc-fight-night-tyro...   \n",
       "\n",
       "                                         instance_id  \n",
       "0  /fightcenter/bouts/501343-ufc-fight-night-tyro...  \n",
       "1  /fightcenter/bouts/501343-ufc-fight-night-tyro...  "
      ]
     },
     "execution_count": 28,
     "metadata": {},
     "output_type": "execute_result"
    }
   ],
   "source": [
    "fighter_instances = src.create_fighter_instances_table(response.content, bout_link)\n",
    "fighter_instances"
   ]
  },
  {
   "cell_type": "markdown",
   "metadata": {},
   "source": [
    "Now I need to add in the links, so maybe I can use the code I wrote to get the links from the other links functions I made. First I'll find where the table is located."
   ]
  },
  {
   "cell_type": "code",
   "execution_count": 29,
   "metadata": {},
   "outputs": [
    {
     "data": {
      "text/plain": [
       "<div class=\"fighterNames botPad clearfix\">\n",
       "<p>\n",
       "<span class=\"fName left\">\n",
       "<a href=\"/fightcenter/fighters/31168-gilbert-burns-durinho\">Gilbert Burns</a>\n",
       "</span>\n",
       "<span class=\"fName right\">\n",
       "<a href=\"/fightcenter/fighters/tyron-woodley-t-wood\">Tyron Woodley</a>\n",
       "</span>\n",
       "</p>\n",
       "<p>\n",
       "<span class=\"fName left\">\"Durinho\"</span>\n",
       "<span class=\"fName right\">\"The Chosen One\"</span>\n",
       "</p>\n",
       "</div>"
      ]
     },
     "execution_count": 29,
     "metadata": {},
     "output_type": "execute_result"
    }
   ],
   "source": [
    "name_elem = bout_soup.find(class_=\"fighterNames botPad clearfix\")\n",
    "name_elem"
   ]
  },
  {
   "cell_type": "code",
   "execution_count": 30,
   "metadata": {},
   "outputs": [
    {
     "data": {
      "text/plain": [
       "[<a href=\"/fightcenter/fighters/31168-gilbert-burns-durinho\">Gilbert Burns</a>,\n",
       " <a href=\"/fightcenter/fighters/tyron-woodley-t-wood\">Tyron Woodley</a>]"
      ]
     },
     "execution_count": 30,
     "metadata": {},
     "output_type": "execute_result"
    }
   ],
   "source": [
    "name_elem = name_elem.find_all('a')\n",
    "name_elem"
   ]
  },
  {
   "cell_type": "code",
   "execution_count": 31,
   "metadata": {},
   "outputs": [
    {
     "data": {
      "text/plain": [
       "['/fightcenter/fighters/31168-gilbert-burns-durinho',\n",
       " '/fightcenter/fighters/tyron-woodley-t-wood']"
      ]
     },
     "execution_count": 31,
     "metadata": {},
     "output_type": "execute_result"
    }
   ],
   "source": [
    "links = [name.get('href') for name in name_elem]\n",
    "links"
   ]
  },
  {
   "cell_type": "markdown",
   "metadata": {},
   "source": [
    "Now I'll add this onto my dataframe."
   ]
  },
  {
   "cell_type": "code",
   "execution_count": 32,
   "metadata": {},
   "outputs": [
    {
     "data": {
      "text/html": [
       "<div>\n",
       "<style scoped>\n",
       "    .dataframe tbody tr th:only-of-type {\n",
       "        vertical-align: middle;\n",
       "    }\n",
       "\n",
       "    .dataframe tbody tr th {\n",
       "        vertical-align: top;\n",
       "    }\n",
       "\n",
       "    .dataframe thead th {\n",
       "        text-align: right;\n",
       "    }\n",
       "</style>\n",
       "<table border=\"1\" class=\"dataframe\">\n",
       "  <thead>\n",
       "    <tr style=\"text-align: right;\">\n",
       "      <th></th>\n",
       "      <th>Pro Record At Fight</th>\n",
       "      <th>Record After Fight</th>\n",
       "      <th>Betting Odds</th>\n",
       "      <th>Nationality</th>\n",
       "      <th>Fighting out of</th>\n",
       "      <th>Age at Fight</th>\n",
       "      <th>Weigh-In Result</th>\n",
       "      <th>Height</th>\n",
       "      <th>Reach</th>\n",
       "      <th>Gym</th>\n",
       "      <th>fighter_link</th>\n",
       "      <th>bout_link</th>\n",
       "      <th>instance_id</th>\n",
       "    </tr>\n",
       "  </thead>\n",
       "  <tbody>\n",
       "    <tr>\n",
       "      <th>0</th>\n",
       "      <td>18-3-0</td>\n",
       "      <td>Climbed to 19-3</td>\n",
       "      <td>+150 (Slight Underdog)</td>\n",
       "      <td>Brazil</td>\n",
       "      <td>Boca Raton, Florida</td>\n",
       "      <td>33 years, 10 months, 3 days</td>\n",
       "      <td>170.5 lbs (77.3 kgs)</td>\n",
       "      <td>5'10\" (178cm)</td>\n",
       "      <td>71.0\" (180cm)</td>\n",
       "      <td>Blackzilians</td>\n",
       "      <td>/fightcenter/fighters/31168-gilbert-burns-durinho</td>\n",
       "      <td>/fightcenter/bouts/501343-ufc-fight-night-tyro...</td>\n",
       "      <td>/fightcenter/bouts/501343-ufc-fight-night-tyro...</td>\n",
       "    </tr>\n",
       "    <tr>\n",
       "      <th>1</th>\n",
       "      <td>19-4-1</td>\n",
       "      <td>Fell to 19-5</td>\n",
       "      <td>-185 (Slight Favorite)</td>\n",
       "      <td>United States</td>\n",
       "      <td>St. Louis, Missouri</td>\n",
       "      <td>38 years, 1 month, 6 days</td>\n",
       "      <td>170.5 lbs (77.3 kgs)</td>\n",
       "      <td>5'9\" (176cm)</td>\n",
       "      <td>74.0\" (188cm)</td>\n",
       "      <td>American Top Team</td>\n",
       "      <td>/fightcenter/fighters/tyron-woodley-t-wood</td>\n",
       "      <td>/fightcenter/bouts/501343-ufc-fight-night-tyro...</td>\n",
       "      <td>/fightcenter/bouts/501343-ufc-fight-night-tyro...</td>\n",
       "    </tr>\n",
       "  </tbody>\n",
       "</table>\n",
       "</div>"
      ],
      "text/plain": [
       "  Pro Record At Fight Record After Fight            Betting Odds  \\\n",
       "0              18-3-0    Climbed to 19-3  +150 (Slight Underdog)   \n",
       "1              19-4-1       Fell to 19-5  -185 (Slight Favorite)   \n",
       "\n",
       "     Nationality      Fighting out of                 Age at Fight  \\\n",
       "0         Brazil  Boca Raton, Florida  33 years, 10 months, 3 days   \n",
       "1  United States  St. Louis, Missouri    38 years, 1 month, 6 days   \n",
       "\n",
       "        Weigh-In Result         Height          Reach                Gym  \\\n",
       "0  170.5 lbs (77.3 kgs)  5'10\" (178cm)  71.0\" (180cm)       Blackzilians   \n",
       "1  170.5 lbs (77.3 kgs)   5'9\" (176cm)  74.0\" (188cm)  American Top Team   \n",
       "\n",
       "                                        fighter_link  \\\n",
       "0  /fightcenter/fighters/31168-gilbert-burns-durinho   \n",
       "1         /fightcenter/fighters/tyron-woodley-t-wood   \n",
       "\n",
       "                                           bout_link  \\\n",
       "0  /fightcenter/bouts/501343-ufc-fight-night-tyro...   \n",
       "1  /fightcenter/bouts/501343-ufc-fight-night-tyro...   \n",
       "\n",
       "                                         instance_id  \n",
       "0  /fightcenter/bouts/501343-ufc-fight-night-tyro...  \n",
       "1  /fightcenter/bouts/501343-ufc-fight-night-tyro...  "
      ]
     },
     "execution_count": 32,
     "metadata": {},
     "output_type": "execute_result"
    }
   ],
   "source": [
    "fighter_instances['fighter_link'] = links\n",
    "fighter_instances\n"
   ]
  },
  {
   "cell_type": "markdown",
   "metadata": {},
   "source": [
    "I also need a way to refer to these specific elements so I'm going to create an instance ID that is made up of the bout_link and the fighter_link combined."
   ]
  },
  {
   "cell_type": "code",
   "execution_count": 33,
   "metadata": {},
   "outputs": [
    {
     "data": {
      "text/html": [
       "<div>\n",
       "<style scoped>\n",
       "    .dataframe tbody tr th:only-of-type {\n",
       "        vertical-align: middle;\n",
       "    }\n",
       "\n",
       "    .dataframe tbody tr th {\n",
       "        vertical-align: top;\n",
       "    }\n",
       "\n",
       "    .dataframe thead th {\n",
       "        text-align: right;\n",
       "    }\n",
       "</style>\n",
       "<table border=\"1\" class=\"dataframe\">\n",
       "  <thead>\n",
       "    <tr style=\"text-align: right;\">\n",
       "      <th></th>\n",
       "      <th>Pro Record At Fight</th>\n",
       "      <th>Record After Fight</th>\n",
       "      <th>Betting Odds</th>\n",
       "      <th>Nationality</th>\n",
       "      <th>Fighting out of</th>\n",
       "      <th>Age at Fight</th>\n",
       "      <th>Weigh-In Result</th>\n",
       "      <th>Height</th>\n",
       "      <th>Reach</th>\n",
       "      <th>Gym</th>\n",
       "      <th>fighter_link</th>\n",
       "      <th>bout_link</th>\n",
       "      <th>instance_id</th>\n",
       "    </tr>\n",
       "  </thead>\n",
       "  <tbody>\n",
       "    <tr>\n",
       "      <th>0</th>\n",
       "      <td>18-3-0</td>\n",
       "      <td>Climbed to 19-3</td>\n",
       "      <td>+150 (Slight Underdog)</td>\n",
       "      <td>Brazil</td>\n",
       "      <td>Boca Raton, Florida</td>\n",
       "      <td>33 years, 10 months, 3 days</td>\n",
       "      <td>170.5 lbs (77.3 kgs)</td>\n",
       "      <td>5'10\" (178cm)</td>\n",
       "      <td>71.0\" (180cm)</td>\n",
       "      <td>Blackzilians</td>\n",
       "      <td>/fightcenter/fighters/31168-gilbert-burns-durinho</td>\n",
       "      <td>/fightcenter/bouts/501343-ufc-fight-night-tyro...</td>\n",
       "      <td>/fightcenter/bouts/501343-ufc-fight-night-tyro...</td>\n",
       "    </tr>\n",
       "    <tr>\n",
       "      <th>1</th>\n",
       "      <td>19-4-1</td>\n",
       "      <td>Fell to 19-5</td>\n",
       "      <td>-185 (Slight Favorite)</td>\n",
       "      <td>United States</td>\n",
       "      <td>St. Louis, Missouri</td>\n",
       "      <td>38 years, 1 month, 6 days</td>\n",
       "      <td>170.5 lbs (77.3 kgs)</td>\n",
       "      <td>5'9\" (176cm)</td>\n",
       "      <td>74.0\" (188cm)</td>\n",
       "      <td>American Top Team</td>\n",
       "      <td>/fightcenter/fighters/tyron-woodley-t-wood</td>\n",
       "      <td>/fightcenter/bouts/501343-ufc-fight-night-tyro...</td>\n",
       "      <td>/fightcenter/bouts/501343-ufc-fight-night-tyro...</td>\n",
       "    </tr>\n",
       "  </tbody>\n",
       "</table>\n",
       "</div>"
      ],
      "text/plain": [
       "  Pro Record At Fight Record After Fight            Betting Odds  \\\n",
       "0              18-3-0    Climbed to 19-3  +150 (Slight Underdog)   \n",
       "1              19-4-1       Fell to 19-5  -185 (Slight Favorite)   \n",
       "\n",
       "     Nationality      Fighting out of                 Age at Fight  \\\n",
       "0         Brazil  Boca Raton, Florida  33 years, 10 months, 3 days   \n",
       "1  United States  St. Louis, Missouri    38 years, 1 month, 6 days   \n",
       "\n",
       "        Weigh-In Result         Height          Reach                Gym  \\\n",
       "0  170.5 lbs (77.3 kgs)  5'10\" (178cm)  71.0\" (180cm)       Blackzilians   \n",
       "1  170.5 lbs (77.3 kgs)   5'9\" (176cm)  74.0\" (188cm)  American Top Team   \n",
       "\n",
       "                                        fighter_link  \\\n",
       "0  /fightcenter/fighters/31168-gilbert-burns-durinho   \n",
       "1         /fightcenter/fighters/tyron-woodley-t-wood   \n",
       "\n",
       "                                           bout_link  \\\n",
       "0  /fightcenter/bouts/501343-ufc-fight-night-tyro...   \n",
       "1  /fightcenter/bouts/501343-ufc-fight-night-tyro...   \n",
       "\n",
       "                                         instance_id  \n",
       "0  /fightcenter/bouts/501343-ufc-fight-night-tyro...  \n",
       "1  /fightcenter/bouts/501343-ufc-fight-night-tyro...  "
      ]
     },
     "execution_count": 33,
     "metadata": {},
     "output_type": "execute_result"
    }
   ],
   "source": [
    "fighter_instances['instance_id'] = fighter_instances['bout_link'] + fighter_instances['fighter_link']\n",
    "fighter_instances"
   ]
  },
  {
   "cell_type": "markdown",
   "metadata": {},
   "source": [
    "Function testing:"
   ]
  },
  {
   "cell_type": "code",
   "execution_count": 34,
   "metadata": {},
   "outputs": [
    {
     "data": {
      "text/html": [
       "<div>\n",
       "<style scoped>\n",
       "    .dataframe tbody tr th:only-of-type {\n",
       "        vertical-align: middle;\n",
       "    }\n",
       "\n",
       "    .dataframe tbody tr th {\n",
       "        vertical-align: top;\n",
       "    }\n",
       "\n",
       "    .dataframe thead th {\n",
       "        text-align: right;\n",
       "    }\n",
       "</style>\n",
       "<table border=\"1\" class=\"dataframe\">\n",
       "  <thead>\n",
       "    <tr style=\"text-align: right;\">\n",
       "      <th></th>\n",
       "      <th>Pro Record At Fight</th>\n",
       "      <th>Record After Fight</th>\n",
       "      <th>Betting Odds</th>\n",
       "      <th>Nationality</th>\n",
       "      <th>Fighting out of</th>\n",
       "      <th>Age at Fight</th>\n",
       "      <th>Weigh-In Result</th>\n",
       "      <th>Height</th>\n",
       "      <th>Reach</th>\n",
       "      <th>Gym</th>\n",
       "      <th>fighter_link</th>\n",
       "      <th>bout_link</th>\n",
       "      <th>instance_id</th>\n",
       "    </tr>\n",
       "  </thead>\n",
       "  <tbody>\n",
       "    <tr>\n",
       "      <th>0</th>\n",
       "      <td>18-3-0</td>\n",
       "      <td>Climbed to 19-3</td>\n",
       "      <td>+150 (Slight Underdog)</td>\n",
       "      <td>Brazil</td>\n",
       "      <td>Boca Raton, Florida</td>\n",
       "      <td>33 years, 10 months, 3 days</td>\n",
       "      <td>170.5 lbs (77.3 kgs)</td>\n",
       "      <td>5'10\" (178cm)</td>\n",
       "      <td>71.0\" (180cm)</td>\n",
       "      <td>Blackzilians</td>\n",
       "      <td>/fightcenter/fighters/31168-gilbert-burns-durinho</td>\n",
       "      <td>/fightcenter/bouts/501343-ufc-fight-night-tyro...</td>\n",
       "      <td>/fightcenter/bouts/501343-ufc-fight-night-tyro...</td>\n",
       "    </tr>\n",
       "    <tr>\n",
       "      <th>1</th>\n",
       "      <td>19-4-1</td>\n",
       "      <td>Fell to 19-5</td>\n",
       "      <td>-185 (Slight Favorite)</td>\n",
       "      <td>United States</td>\n",
       "      <td>St. Louis, Missouri</td>\n",
       "      <td>38 years, 1 month, 6 days</td>\n",
       "      <td>170.5 lbs (77.3 kgs)</td>\n",
       "      <td>5'9\" (176cm)</td>\n",
       "      <td>74.0\" (188cm)</td>\n",
       "      <td>American Top Team</td>\n",
       "      <td>/fightcenter/fighters/tyron-woodley-t-wood</td>\n",
       "      <td>/fightcenter/bouts/501343-ufc-fight-night-tyro...</td>\n",
       "      <td>/fightcenter/bouts/501343-ufc-fight-night-tyro...</td>\n",
       "    </tr>\n",
       "  </tbody>\n",
       "</table>\n",
       "</div>"
      ],
      "text/plain": [
       "  Pro Record At Fight Record After Fight            Betting Odds  \\\n",
       "0              18-3-0    Climbed to 19-3  +150 (Slight Underdog)   \n",
       "1              19-4-1       Fell to 19-5  -185 (Slight Favorite)   \n",
       "\n",
       "     Nationality      Fighting out of                 Age at Fight  \\\n",
       "0         Brazil  Boca Raton, Florida  33 years, 10 months, 3 days   \n",
       "1  United States  St. Louis, Missouri    38 years, 1 month, 6 days   \n",
       "\n",
       "        Weigh-In Result         Height          Reach                Gym  \\\n",
       "0  170.5 lbs (77.3 kgs)  5'10\" (178cm)  71.0\" (180cm)       Blackzilians   \n",
       "1  170.5 lbs (77.3 kgs)   5'9\" (176cm)  74.0\" (188cm)  American Top Team   \n",
       "\n",
       "                                        fighter_link  \\\n",
       "0  /fightcenter/fighters/31168-gilbert-burns-durinho   \n",
       "1         /fightcenter/fighters/tyron-woodley-t-wood   \n",
       "\n",
       "                                           bout_link  \\\n",
       "0  /fightcenter/bouts/501343-ufc-fight-night-tyro...   \n",
       "1  /fightcenter/bouts/501343-ufc-fight-night-tyro...   \n",
       "\n",
       "                                         instance_id  \n",
       "0  /fightcenter/bouts/501343-ufc-fight-night-tyro...  \n",
       "1  /fightcenter/bouts/501343-ufc-fight-night-tyro...  "
      ]
     },
     "execution_count": 34,
     "metadata": {},
     "output_type": "execute_result"
    }
   ],
   "source": [
    "src.create_fighter_instances_table(response.content, bout_link)"
   ]
  },
  {
   "cell_type": "markdown",
   "metadata": {},
   "source": [
    "## Table: bouts (addition)"
   ]
  },
  {
   "cell_type": "markdown",
   "metadata": {},
   "source": [
    "Once I got to the bout page I realized that there was some info that I would like to get but was not available on the initial page. I'm going to grab it from the bout page itself and add it to the dataframe. First let's open up our first bout page. I also want to make sure I have my bouts dataframe available so that I can add to it."
   ]
  },
  {
   "cell_type": "code",
   "execution_count": 40,
   "metadata": {},
   "outputs": [
    {
     "data": {
      "text/html": [
       "<div>\n",
       "<style scoped>\n",
       "    .dataframe tbody tr th:only-of-type {\n",
       "        vertical-align: middle;\n",
       "    }\n",
       "\n",
       "    .dataframe tbody tr th {\n",
       "        vertical-align: top;\n",
       "    }\n",
       "\n",
       "    .dataframe thead th {\n",
       "        text-align: right;\n",
       "    }\n",
       "</style>\n",
       "<table border=\"1\" class=\"dataframe\">\n",
       "  <thead>\n",
       "    <tr style=\"text-align: right;\">\n",
       "      <th></th>\n",
       "      <th>method</th>\n",
       "      <th>length</th>\n",
       "      <th>order</th>\n",
       "      <th>fighter_0</th>\n",
       "      <th>bout_type</th>\n",
       "      <th>weight_class</th>\n",
       "      <th>scheduled_rounds</th>\n",
       "      <th>fighter_1</th>\n",
       "      <th>link</th>\n",
       "      <th>event_link</th>\n",
       "    </tr>\n",
       "  </thead>\n",
       "  <tbody>\n",
       "    <tr>\n",
       "      <th>0</th>\n",
       "      <td>Decision, Unanimous</td>\n",
       "      <td>5 Rounds, 25:00 Total</td>\n",
       "      <td>11</td>\n",
       "      <td>Gilbert Burns</td>\n",
       "      <td>Main Event</td>\n",
       "      <td>170</td>\n",
       "      <td>5 x 5</td>\n",
       "      <td>Tyron Woodley</td>\n",
       "      <td>/fightcenter/bouts/501343-ufc-fight-night-tyro...</td>\n",
       "      <td>/fightcenter/events/69127-ufc-fight-night</td>\n",
       "    </tr>\n",
       "    <tr>\n",
       "      <th>1</th>\n",
       "      <td>Decision, Split</td>\n",
       "      <td>3 Rounds, 15:00 Total</td>\n",
       "      <td>10</td>\n",
       "      <td>Augusto Sakai</td>\n",
       "      <td>Co-Main Event</td>\n",
       "      <td>265</td>\n",
       "      <td>3 x 5</td>\n",
       "      <td>Blagoy Ivanov</td>\n",
       "      <td>/fightcenter/bouts/501441-ufc-fight-night-blag...</td>\n",
       "      <td>/fightcenter/events/69127-ufc-fight-night</td>\n",
       "    </tr>\n",
       "    <tr>\n",
       "      <th>2</th>\n",
       "      <td>Decision, Unanimous</td>\n",
       "      <td>3 Rounds, 15:00 Total</td>\n",
       "      <td>9</td>\n",
       "      <td>Billy Quarantillo</td>\n",
       "      <td>Main Card</td>\n",
       "      <td>150</td>\n",
       "      <td>3 x 5</td>\n",
       "      <td>Spike Carlyle</td>\n",
       "      <td>/fightcenter/bouts/502990-ufc-fight-night-bill...</td>\n",
       "      <td>/fightcenter/events/69127-ufc-fight-night</td>\n",
       "    </tr>\n",
       "    <tr>\n",
       "      <th>3</th>\n",
       "      <td>Submission, Rear Naked Choke</td>\n",
       "      <td>3:26 Round 2 of 3, 8:26 Total</td>\n",
       "      <td>8</td>\n",
       "      <td>Roosevelt Roberts</td>\n",
       "      <td>Main Card</td>\n",
       "      <td>155</td>\n",
       "      <td>3 x 5</td>\n",
       "      <td>Brok Weaver</td>\n",
       "      <td>/fightcenter/bouts/502972-ufc-fight-night-roos...</td>\n",
       "      <td>/fightcenter/events/69127-ufc-fight-night</td>\n",
       "    </tr>\n",
       "    <tr>\n",
       "      <th>4</th>\n",
       "      <td>Submission, Kneebar</td>\n",
       "      <td>2:36 Round 1 of 3</td>\n",
       "      <td>7</td>\n",
       "      <td>Mackenzie Dern</td>\n",
       "      <td>Main Card</td>\n",
       "      <td>115</td>\n",
       "      <td>3 x 5</td>\n",
       "      <td>Hannah Cifers</td>\n",
       "      <td>/fightcenter/bouts/500998-ufc-fight-night-mack...</td>\n",
       "      <td>/fightcenter/events/69127-ufc-fight-night</td>\n",
       "    </tr>\n",
       "  </tbody>\n",
       "</table>\n",
       "</div>"
      ],
      "text/plain": [
       "                         method                         length order  \\\n",
       "0           Decision, Unanimous          5 Rounds, 25:00 Total    11   \n",
       "1               Decision, Split          3 Rounds, 15:00 Total    10   \n",
       "2           Decision, Unanimous          3 Rounds, 15:00 Total     9   \n",
       "3  Submission, Rear Naked Choke  3:26 Round 2 of 3, 8:26 Total     8   \n",
       "4           Submission, Kneebar              2:36 Round 1 of 3     7   \n",
       "\n",
       "           fighter_0      bout_type weight_class scheduled_rounds  \\\n",
       "0      Gilbert Burns     Main Event          170            5 x 5   \n",
       "1      Augusto Sakai  Co-Main Event          265            3 x 5   \n",
       "2  Billy Quarantillo      Main Card          150            3 x 5   \n",
       "3  Roosevelt Roberts      Main Card          155            3 x 5   \n",
       "4     Mackenzie Dern      Main Card          115            3 x 5   \n",
       "\n",
       "       fighter_1                                               link  \\\n",
       "0  Tyron Woodley  /fightcenter/bouts/501343-ufc-fight-night-tyro...   \n",
       "1  Blagoy Ivanov  /fightcenter/bouts/501441-ufc-fight-night-blag...   \n",
       "2  Spike Carlyle  /fightcenter/bouts/502990-ufc-fight-night-bill...   \n",
       "3    Brok Weaver  /fightcenter/bouts/502972-ufc-fight-night-roos...   \n",
       "4  Hannah Cifers  /fightcenter/bouts/500998-ufc-fight-night-mack...   \n",
       "\n",
       "                                  event_link  \n",
       "0  /fightcenter/events/69127-ufc-fight-night  \n",
       "1  /fightcenter/events/69127-ufc-fight-night  \n",
       "2  /fightcenter/events/69127-ufc-fight-night  \n",
       "3  /fightcenter/events/69127-ufc-fight-night  \n",
       "4  /fightcenter/events/69127-ufc-fight-night  "
      ]
     },
     "execution_count": 40,
     "metadata": {},
     "output_type": "execute_result"
    }
   ],
   "source": [
    "df_events = previous_ufc\n",
    "df_bouts = src.get_initial_bout_df()\n",
    "df_bouts.head(5)"
   ]
  },
  {
   "cell_type": "markdown",
   "metadata": {},
   "source": [
    "According to the database schema I created, I want the following categories, The ones with check marks are the ones that my initial bout datafram already contains:\n",
    "\n",
    "- [x] link\n",
    "- [x] method\n",
    "- [x] length \n",
    "- [x] order\n",
    "- [x] fighter_0\n",
    "- [x] fighter_1\n",
    "- [x] bout_type\n",
    "- [x] scheduled_rounds\n",
    "- [x] weight_class\n",
    "- [ ] pro_am\n",
    "- [ ] referee\n",
    "- [x] event_link"
   ]
  },
  {
   "cell_type": "markdown",
   "metadata": {},
   "source": [
    "So in order to get the pro_am and the referee info, I need to follow the bout link to and pull that info from a table on that page. Let's pull up the bout page."
   ]
  },
  {
   "cell_type": "code",
   "execution_count": 94,
   "metadata": {},
   "outputs": [],
   "source": [
    "response = requests.get(bout_url, headers=headers)\n",
    "bout_soup = BeautifulSoup(response.content, 'html.parser')"
   ]
  },
  {
   "cell_type": "markdown",
   "metadata": {},
   "source": [
    "Looking at the web page I see that there is a div element with a certain class that contains the table I'm looking for."
   ]
  },
  {
   "cell_type": "code",
   "execution_count": 52,
   "metadata": {},
   "outputs": [],
   "source": [
    "info_div = bout_soup.find('div', class_='details details_with_poster clearfix')\n",
    "missing_info_elem = info_div.find('ul')"
   ]
  },
  {
   "cell_type": "markdown",
   "metadata": {},
   "source": [
    "This looks similar to the list I parsed above so maybe I can reuse the same list parsing functions."
   ]
  },
  {
   "cell_type": "code",
   "execution_count": 56,
   "metadata": {},
   "outputs": [
    {
     "data": {
      "text/plain": [
       "['Bout Information',\n",
       " 'Event:',\n",
       " 'UFC Fight Night: Woodley vs. Burns',\n",
       " 'Date:',\n",
       " 'Saturday 05.30.2020 at 06:00 PM ET',\n",
       " 'Referee:',\n",
       " 'Herb Dean',\n",
       " 'Venue:',\n",
       " 'UFC APEX',\n",
       " 'Enclosure:',\n",
       " 'Octagon',\n",
       " 'Location:',\n",
       " 'Las Vegas, Nevada, United States',\n",
       " 'Bout Billing:',\n",
       " 'Main Event',\n",
       " '(fight 11 of 11)',\n",
       " 'Pro/Am:',\n",
       " 'Professional',\n",
       " 'Weight:',\n",
       " '170 lbs (77.1 kg)',\n",
       " 'TV Commentary:',\n",
       " 'Brendan Fitzgerald, Michael Bisping, Daniel Cormier',\n",
       " 'Broadcast:',\n",
       " 'Aired Live on Main Card',\n",
       " 'Post-Fight Interviewer:',\n",
       " 'Daniel Cormier',\n",
       " 'Woodley Total Disclosed Pay:',\n",
       " '$200,000',\n",
       " 'Burns Total Disclosed Pay:',\n",
       " '$218,000']"
      ]
     },
     "execution_count": 56,
     "metadata": {},
     "output_type": "execute_result"
    }
   ],
   "source": [
    "info_list = missing_info_elem.get_text().split('\\n\\n\\n')#turn it into text and split into list\n",
    "    \n",
    "info_list = src.clean_info_list(info_list)\n",
    "    \n",
    "info_list"
   ]
  },
  {
   "cell_type": "code",
   "execution_count": 66,
   "metadata": {},
   "outputs": [
    {
     "data": {
      "text/html": [
       "<div>\n",
       "<style scoped>\n",
       "    .dataframe tbody tr th:only-of-type {\n",
       "        vertical-align: middle;\n",
       "    }\n",
       "\n",
       "    .dataframe tbody tr th {\n",
       "        vertical-align: top;\n",
       "    }\n",
       "\n",
       "    .dataframe thead th {\n",
       "        text-align: right;\n",
       "    }\n",
       "</style>\n",
       "<table border=\"1\" class=\"dataframe\">\n",
       "  <thead>\n",
       "    <tr style=\"text-align: right;\">\n",
       "      <th></th>\n",
       "      <th>Event:</th>\n",
       "      <th>Date:</th>\n",
       "      <th>Referee:</th>\n",
       "      <th>Venue:</th>\n",
       "      <th>Enclosure:</th>\n",
       "      <th>Location:</th>\n",
       "      <th>Bout Billing:</th>\n",
       "      <th>(fight 11 of 11)</th>\n",
       "      <th>Professional</th>\n",
       "      <th>170 lbs (77.1 kg)</th>\n",
       "      <th>Brendan Fitzgerald, Michael Bisping, Daniel Cormier</th>\n",
       "      <th>Aired Live on Main Card</th>\n",
       "      <th>Daniel Cormier</th>\n",
       "      <th>$200,000</th>\n",
       "      <th>first_elem</th>\n",
       "    </tr>\n",
       "  </thead>\n",
       "  <tbody>\n",
       "    <tr>\n",
       "      <th>0</th>\n",
       "      <td>UFC Fight Night: Woodley vs. Burns</td>\n",
       "      <td>Saturday 05.30.2020 at 06:00 PM ET</td>\n",
       "      <td>Herb Dean</td>\n",
       "      <td>UFC APEX</td>\n",
       "      <td>Octagon</td>\n",
       "      <td>Las Vegas, Nevada, United States</td>\n",
       "      <td>Main Event</td>\n",
       "      <td>Pro/Am:</td>\n",
       "      <td>Weight:</td>\n",
       "      <td>TV Commentary:</td>\n",
       "      <td>Broadcast:</td>\n",
       "      <td>Post-Fight Interviewer:</td>\n",
       "      <td>Woodley Total Disclosed Pay:</td>\n",
       "      <td>Burns Total Disclosed Pay:</td>\n",
       "      <td>Bout Information</td>\n",
       "    </tr>\n",
       "  </tbody>\n",
       "</table>\n",
       "</div>"
      ],
      "text/plain": [
       "                               Event:                               Date:  \\\n",
       "0  UFC Fight Night: Woodley vs. Burns  Saturday 05.30.2020 at 06:00 PM ET   \n",
       "\n",
       "    Referee:    Venue: Enclosure:                         Location:  \\\n",
       "0  Herb Dean  UFC APEX    Octagon  Las Vegas, Nevada, United States   \n",
       "\n",
       "  Bout Billing: (fight 11 of 11) Professional 170 lbs (77.1 kg)  \\\n",
       "0    Main Event          Pro/Am:      Weight:    TV Commentary:   \n",
       "\n",
       "  Brendan Fitzgerald, Michael Bisping, Daniel Cormier  \\\n",
       "0                                         Broadcast:    \n",
       "\n",
       "   Aired Live on Main Card                Daniel Cormier  \\\n",
       "0  Post-Fight Interviewer:  Woodley Total Disclosed Pay:   \n",
       "\n",
       "                     $200,000        first_elem  \n",
       "0  Burns Total Disclosed Pay:  Bout Information  "
      ]
     },
     "execution_count": 66,
     "metadata": {},
     "output_type": "execute_result"
    }
   ],
   "source": [
    "src.html_list_to_df(missing_info_elem)"
   ]
  },
  {
   "cell_type": "markdown",
   "metadata": {},
   "source": [
    "The function I built does not work on this list for some readon."
   ]
  },
  {
   "cell_type": "code",
   "execution_count": 68,
   "metadata": {},
   "outputs": [
    {
     "data": {
      "text/plain": [
       "'\\nBout Information\\n\\nEvent:\\nUFC Fight Night: Woodley vs. Burns\\n\\n\\nDate:\\nSaturday 05.30.2020 at 06:00 PM ET\\n\\n\\nReferee:\\nHerb Dean\\n\\n\\nVenue:\\nUFC APEX\\n\\n\\nEnclosure:\\nOctagon\\n\\n\\nLocation:\\nLas Vegas, Nevada, United States\\n\\n\\nBout Billing:\\nMain Event\\n(fight 11 of 11)\\n\\n\\nPro/Am:\\nProfessional\\n\\n\\n\\nWeight:\\n170 lbs (77.1 kg)\\n\\n\\n\\nTV Commentary:\\nBrendan Fitzgerald, Michael Bisping, Daniel Cormier\\n\\n\\nBroadcast:\\nAired Live on Main Card\\n\\n\\nPost-Fight Interviewer:\\nDaniel Cormier\\n\\n\\nWoodley Total Disclosed Pay:\\n$200,000\\n\\n\\nBurns Total Disclosed Pay:\\n$218,000\\n\\n\\nEvent Links:\\n\\n\\n\\n\\n\\n\\n\\n\\n\\n\\n\\n\\n\\n\\n\\n\\n\\n\\n\\n\\n\\n\\n\\n\\n\\n\\n\\n\\n\\n\\n\\n\\n\\n\\n\\nBout Links:\\n\\n\\n\\n\\n\\n\\n\\n\\n\\n'"
      ]
     },
     "execution_count": 68,
     "metadata": {},
     "output_type": "execute_result"
    }
   ],
   "source": [
    "missing_info_elem.get_text()"
   ]
  },
  {
   "cell_type": "markdown",
   "metadata": {},
   "source": [
    "The function html_list_to_df is confused by the fact that there is a new line between event and (fight 11 of 11)."
   ]
  },
  {
   "cell_type": "code",
   "execution_count": 79,
   "metadata": {},
   "outputs": [],
   "source": [
    "info_list = missing_info_elem.get_text().split('\\n\\n\\n')#turn it into text and split into list\n",
    "new_list = [] \n",
    "for item in info_list:\n",
    "    #fields with no info do not have a colon followed by a new line, so i will take those out\n",
    "    if ':\\n' in item: \n",
    "        new_list.append(item)   \n",
    "#this creates a list with the info separated by empty string elements\n",
    "info_list = '\\n\\n'.join(new_list).split('\\n\\n') \n",
    "#this removes those empty string elements\n",
    "info_list = list(filter(lambda item: item != '', info_list)) "
   ]
  },
  {
   "cell_type": "code",
   "execution_count": 80,
   "metadata": {},
   "outputs": [
    {
     "data": {
      "text/plain": [
       "['\\nBout Information',\n",
       " 'Event:\\nUFC Fight Night: Woodley vs. Burns',\n",
       " 'Date:\\nSaturday 05.30.2020 at 06:00 PM ET',\n",
       " 'Referee:\\nHerb Dean',\n",
       " 'Venue:\\nUFC APEX',\n",
       " 'Enclosure:\\nOctagon',\n",
       " 'Location:\\nLas Vegas, Nevada, United States',\n",
       " 'Bout Billing:\\nMain Event\\n(fight 11 of 11)',\n",
       " 'Pro/Am:\\nProfessional',\n",
       " '\\nWeight:\\n170 lbs (77.1 kg)',\n",
       " '\\nTV Commentary:\\nBrendan Fitzgerald, Michael Bisping, Daniel Cormier',\n",
       " 'Broadcast:\\nAired Live on Main Card',\n",
       " 'Post-Fight Interviewer:\\nDaniel Cormier',\n",
       " 'Woodley Total Disclosed Pay:\\n$200,000',\n",
       " 'Burns Total Disclosed Pay:\\n$218,000']"
      ]
     },
     "execution_count": 80,
     "metadata": {},
     "output_type": "execute_result"
    }
   ],
   "source": [
    "info_list"
   ]
  },
  {
   "cell_type": "code",
   "execution_count": 81,
   "metadata": {},
   "outputs": [],
   "source": [
    "info_list.pop(0)\n",
    "info_list = [elem.split(':\\n') for elem in info_list]"
   ]
  },
  {
   "cell_type": "code",
   "execution_count": 82,
   "metadata": {},
   "outputs": [
    {
     "data": {
      "text/plain": [
       "[['Event', 'UFC Fight Night: Woodley vs. Burns'],\n",
       " ['Date', 'Saturday 05.30.2020 at 06:00 PM ET'],\n",
       " ['Referee', 'Herb Dean'],\n",
       " ['Venue', 'UFC APEX'],\n",
       " ['Enclosure', 'Octagon'],\n",
       " ['Location', 'Las Vegas, Nevada, United States'],\n",
       " ['Bout Billing', 'Main Event\\n(fight 11 of 11)'],\n",
       " ['Pro/Am', 'Professional'],\n",
       " ['\\nWeight', '170 lbs (77.1 kg)'],\n",
       " ['\\nTV Commentary', 'Brendan Fitzgerald, Michael Bisping, Daniel Cormier'],\n",
       " ['Broadcast', 'Aired Live on Main Card'],\n",
       " ['Post-Fight Interviewer', 'Daniel Cormier'],\n",
       " ['Woodley Total Disclosed Pay', '$200,000'],\n",
       " ['Burns Total Disclosed Pay', '$218,000']]"
      ]
     },
     "execution_count": 82,
     "metadata": {},
     "output_type": "execute_result"
    }
   ],
   "source": [
    "info_list"
   ]
  },
  {
   "cell_type": "code",
   "execution_count": 85,
   "metadata": {},
   "outputs": [
    {
     "name": "stdout",
     "output_type": "stream",
     "text": [
      "[['Event', 'UFC Fight Night: Woodley vs. Burns'], ['Date', 'Saturday 05.30.2020 at 06:00 PM ET'], ['Referee', 'Herb Dean'], ['Venue', 'UFC APEX'], ['Enclosure', 'Octagon'], ['Location', 'Las Vegas, Nevada, United States'], ['Bout Billing', 'Main Event\\n(fight 11 of 11)'], ['Pro/Am', 'Professional'], ['\\nWeight', '170 lbs (77.1 kg)'], ['\\nTV Commentary', 'Brendan Fitzgerald, Michael Bisping, Daniel Cormier'], ['Broadcast', 'Aired Live on Main Card'], ['Post-Fight Interviewer', 'Daniel Cormier'], ['Woodley Total Disclosed Pay', '$200,000'], ['Burns Total Disclosed Pay', '$218,000']]\n"
     ]
    },
    {
     "data": {
      "text/html": [
       "<div>\n",
       "<style scoped>\n",
       "    .dataframe tbody tr th:only-of-type {\n",
       "        vertical-align: middle;\n",
       "    }\n",
       "\n",
       "    .dataframe tbody tr th {\n",
       "        vertical-align: top;\n",
       "    }\n",
       "\n",
       "    .dataframe thead th {\n",
       "        text-align: right;\n",
       "    }\n",
       "</style>\n",
       "<table border=\"1\" class=\"dataframe\">\n",
       "  <thead>\n",
       "    <tr style=\"text-align: right;\">\n",
       "      <th></th>\n",
       "      <th>Event</th>\n",
       "      <th>Date</th>\n",
       "      <th>Referee</th>\n",
       "      <th>Venue</th>\n",
       "      <th>Enclosure</th>\n",
       "      <th>Location</th>\n",
       "      <th>Bout Billing</th>\n",
       "      <th>Pro/Am</th>\n",
       "      <th>\\nWeight</th>\n",
       "      <th>\\nTV Commentary</th>\n",
       "      <th>Broadcast</th>\n",
       "      <th>Post-Fight Interviewer</th>\n",
       "      <th>Woodley Total Disclosed Pay</th>\n",
       "      <th>Burns Total Disclosed Pay</th>\n",
       "      <th>first_elem</th>\n",
       "    </tr>\n",
       "  </thead>\n",
       "  <tbody>\n",
       "    <tr>\n",
       "      <th>0</th>\n",
       "      <td>UFC Fight Night: Woodley vs. Burns</td>\n",
       "      <td>Saturday 05.30.2020 at 06:00 PM ET</td>\n",
       "      <td>Herb Dean</td>\n",
       "      <td>UFC APEX</td>\n",
       "      <td>Octagon</td>\n",
       "      <td>Las Vegas, Nevada, United States</td>\n",
       "      <td>Main Event\\n(fight 11 of 11)</td>\n",
       "      <td>Professional</td>\n",
       "      <td>170 lbs (77.1 kg)</td>\n",
       "      <td>Brendan Fitzgerald, Michael Bisping, Daniel Co...</td>\n",
       "      <td>Aired Live on Main Card</td>\n",
       "      <td>Daniel Cormier</td>\n",
       "      <td>$200,000</td>\n",
       "      <td>$218,000</td>\n",
       "      <td>\\nBout Information</td>\n",
       "    </tr>\n",
       "  </tbody>\n",
       "</table>\n",
       "</div>"
      ],
      "text/plain": [
       "                                Event                                Date  \\\n",
       "0  UFC Fight Night: Woodley vs. Burns  Saturday 05.30.2020 at 06:00 PM ET   \n",
       "\n",
       "     Referee     Venue Enclosure                          Location  \\\n",
       "0  Herb Dean  UFC APEX   Octagon  Las Vegas, Nevada, United States   \n",
       "\n",
       "                   Bout Billing        Pro/Am           \\nWeight  \\\n",
       "0  Main Event\\n(fight 11 of 11)  Professional  170 lbs (77.1 kg)   \n",
       "\n",
       "                                     \\nTV Commentary                Broadcast  \\\n",
       "0  Brendan Fitzgerald, Michael Bisping, Daniel Co...  Aired Live on Main Card   \n",
       "\n",
       "  Post-Fight Interviewer Woodley Total Disclosed Pay  \\\n",
       "0         Daniel Cormier                    $200,000   \n",
       "\n",
       "  Burns Total Disclosed Pay          first_elem  \n",
       "0                  $218,000  \\nBout Information  "
      ]
     },
     "execution_count": 85,
     "metadata": {},
     "output_type": "execute_result"
    }
   ],
   "source": [
    "src.html_list_to_df(missing_info_elem)"
   ]
  },
  {
   "cell_type": "markdown",
   "metadata": {},
   "source": [
    "Basically I modified my get_missing_event_info function to work on bout pages as well."
   ]
  },
  {
   "cell_type": "code",
   "execution_count": 99,
   "metadata": {},
   "outputs": [],
   "source": [
    "missing_bout_info = src.get_missing_bout_info(bout_soup, first_link)"
   ]
  },
  {
   "cell_type": "code",
   "execution_count": 100,
   "metadata": {},
   "outputs": [
    {
     "data": {
      "text/html": [
       "<div>\n",
       "<style scoped>\n",
       "    .dataframe tbody tr th:only-of-type {\n",
       "        vertical-align: middle;\n",
       "    }\n",
       "\n",
       "    .dataframe tbody tr th {\n",
       "        vertical-align: top;\n",
       "    }\n",
       "\n",
       "    .dataframe thead th {\n",
       "        text-align: right;\n",
       "    }\n",
       "</style>\n",
       "<table border=\"1\" class=\"dataframe\">\n",
       "  <thead>\n",
       "    <tr style=\"text-align: right;\">\n",
       "      <th></th>\n",
       "      <th>method</th>\n",
       "      <th>length</th>\n",
       "      <th>order</th>\n",
       "      <th>fighter_0</th>\n",
       "      <th>bout_type</th>\n",
       "      <th>weight_class</th>\n",
       "      <th>scheduled_rounds</th>\n",
       "      <th>fighter_1</th>\n",
       "      <th>link</th>\n",
       "      <th>event_link</th>\n",
       "      <th>referee</th>\n",
       "      <th>pro_am</th>\n",
       "    </tr>\n",
       "  </thead>\n",
       "  <tbody>\n",
       "    <tr>\n",
       "      <th>0</th>\n",
       "      <td>Decision, Unanimous</td>\n",
       "      <td>5 Rounds, 25:00 Total</td>\n",
       "      <td>11</td>\n",
       "      <td>Gilbert Burns</td>\n",
       "      <td>Main Event</td>\n",
       "      <td>170</td>\n",
       "      <td>5 x 5</td>\n",
       "      <td>Tyron Woodley</td>\n",
       "      <td>/fightcenter/bouts/501343-ufc-fight-night-tyro...</td>\n",
       "      <td>/fightcenter/events/69127-ufc-fight-night</td>\n",
       "      <td>Herb Dean</td>\n",
       "      <td>Professional</td>\n",
       "    </tr>\n",
       "    <tr>\n",
       "      <th>1</th>\n",
       "      <td>Decision, Split</td>\n",
       "      <td>3 Rounds, 15:00 Total</td>\n",
       "      <td>10</td>\n",
       "      <td>Augusto Sakai</td>\n",
       "      <td>Co-Main Event</td>\n",
       "      <td>265</td>\n",
       "      <td>3 x 5</td>\n",
       "      <td>Blagoy Ivanov</td>\n",
       "      <td>/fightcenter/bouts/501441-ufc-fight-night-blag...</td>\n",
       "      <td>/fightcenter/events/69127-ufc-fight-night</td>\n",
       "      <td>NaN</td>\n",
       "      <td>NaN</td>\n",
       "    </tr>\n",
       "    <tr>\n",
       "      <th>2</th>\n",
       "      <td>Decision, Unanimous</td>\n",
       "      <td>3 Rounds, 15:00 Total</td>\n",
       "      <td>9</td>\n",
       "      <td>Billy Quarantillo</td>\n",
       "      <td>Main Card</td>\n",
       "      <td>150</td>\n",
       "      <td>3 x 5</td>\n",
       "      <td>Spike Carlyle</td>\n",
       "      <td>/fightcenter/bouts/502990-ufc-fight-night-bill...</td>\n",
       "      <td>/fightcenter/events/69127-ufc-fight-night</td>\n",
       "      <td>NaN</td>\n",
       "      <td>NaN</td>\n",
       "    </tr>\n",
       "    <tr>\n",
       "      <th>3</th>\n",
       "      <td>Submission, Rear Naked Choke</td>\n",
       "      <td>3:26 Round 2 of 3, 8:26 Total</td>\n",
       "      <td>8</td>\n",
       "      <td>Roosevelt Roberts</td>\n",
       "      <td>Main Card</td>\n",
       "      <td>155</td>\n",
       "      <td>3 x 5</td>\n",
       "      <td>Brok Weaver</td>\n",
       "      <td>/fightcenter/bouts/502972-ufc-fight-night-roos...</td>\n",
       "      <td>/fightcenter/events/69127-ufc-fight-night</td>\n",
       "      <td>NaN</td>\n",
       "      <td>NaN</td>\n",
       "    </tr>\n",
       "    <tr>\n",
       "      <th>4</th>\n",
       "      <td>Submission, Kneebar</td>\n",
       "      <td>2:36 Round 1 of 3</td>\n",
       "      <td>7</td>\n",
       "      <td>Mackenzie Dern</td>\n",
       "      <td>Main Card</td>\n",
       "      <td>115</td>\n",
       "      <td>3 x 5</td>\n",
       "      <td>Hannah Cifers</td>\n",
       "      <td>/fightcenter/bouts/500998-ufc-fight-night-mack...</td>\n",
       "      <td>/fightcenter/events/69127-ufc-fight-night</td>\n",
       "      <td>NaN</td>\n",
       "      <td>NaN</td>\n",
       "    </tr>\n",
       "    <tr>\n",
       "      <th>5</th>\n",
       "      <td>Decision, Unanimous</td>\n",
       "      <td>3 Rounds, 15:00 Total</td>\n",
       "      <td>6</td>\n",
       "      <td>Katlyn Chookagian</td>\n",
       "      <td>Prelim</td>\n",
       "      <td>125</td>\n",
       "      <td>3 x 5</td>\n",
       "      <td>Antonina Shevchenko</td>\n",
       "      <td>/fightcenter/bouts/502988-ufc-fight-night-katl...</td>\n",
       "      <td>/fightcenter/events/69127-ufc-fight-night</td>\n",
       "      <td>NaN</td>\n",
       "      <td>NaN</td>\n",
       "    </tr>\n",
       "    <tr>\n",
       "      <th>6</th>\n",
       "      <td>Decision, Unanimous</td>\n",
       "      <td>3 Rounds, 15:00 Total</td>\n",
       "      <td>5</td>\n",
       "      <td>Daniel Rodriguez</td>\n",
       "      <td>Prelim</td>\n",
       "      <td>170</td>\n",
       "      <td>3 x 5</td>\n",
       "      <td>Gabe Green</td>\n",
       "      <td>/fightcenter/bouts/503985-ufc-fight-night-dani...</td>\n",
       "      <td>/fightcenter/events/69127-ufc-fight-night</td>\n",
       "      <td>NaN</td>\n",
       "      <td>NaN</td>\n",
       "    </tr>\n",
       "    <tr>\n",
       "      <th>7</th>\n",
       "      <td>KO/TKO, Knee to the Body to Ground and Pound</td>\n",
       "      <td>1:51 Round 1 of 3</td>\n",
       "      <td>4</td>\n",
       "      <td>Jamahal Hill</td>\n",
       "      <td>Prelim</td>\n",
       "      <td>205</td>\n",
       "      <td>3 x 5</td>\n",
       "      <td>Klidson Abreu</td>\n",
       "      <td>/fightcenter/bouts/500971-ufc-fight-night-jama...</td>\n",
       "      <td>/fightcenter/events/69127-ufc-fight-night</td>\n",
       "      <td>NaN</td>\n",
       "      <td>NaN</td>\n",
       "    </tr>\n",
       "    <tr>\n",
       "      <th>8</th>\n",
       "      <td>Submission, Arm Triangle Choke</td>\n",
       "      <td>3:18 Round 2 of 3, 8:18 Total</td>\n",
       "      <td>3</td>\n",
       "      <td>Brandon Royval</td>\n",
       "      <td>Prelim</td>\n",
       "      <td>125</td>\n",
       "      <td>3 x 5</td>\n",
       "      <td>Tim Elliott</td>\n",
       "      <td>/fightcenter/bouts/502983-ufc-fight-night-tim-...</td>\n",
       "      <td>/fightcenter/events/69127-ufc-fight-night</td>\n",
       "      <td>NaN</td>\n",
       "      <td>NaN</td>\n",
       "    </tr>\n",
       "    <tr>\n",
       "      <th>9</th>\n",
       "      <td>Submission, One-Arm Guillotine Choke</td>\n",
       "      <td>3:03 Round 1 of 3</td>\n",
       "      <td>2</td>\n",
       "      <td>Casey Kenney</td>\n",
       "      <td>Prelim</td>\n",
       "      <td>135</td>\n",
       "      <td>3 x 5</td>\n",
       "      <td>Louis Smolka</td>\n",
       "      <td>/fightcenter/bouts/502982-ufc-fight-night-case...</td>\n",
       "      <td>/fightcenter/events/69127-ufc-fight-night</td>\n",
       "      <td>NaN</td>\n",
       "      <td>NaN</td>\n",
       "    </tr>\n",
       "    <tr>\n",
       "      <th>10</th>\n",
       "      <td>KO/TKO, Leg Kicks</td>\n",
       "      <td>4:27 Round 2 of 3, 9:27 Total</td>\n",
       "      <td>1</td>\n",
       "      <td>Chris Gutierrez</td>\n",
       "      <td>Prelim</td>\n",
       "      <td>145</td>\n",
       "      <td>3 x 5</td>\n",
       "      <td>Vince Morales</td>\n",
       "      <td>/fightcenter/bouts/503015-ufc-fight-night-chri...</td>\n",
       "      <td>/fightcenter/events/69127-ufc-fight-night</td>\n",
       "      <td>NaN</td>\n",
       "      <td>NaN</td>\n",
       "    </tr>\n",
       "  </tbody>\n",
       "</table>\n",
       "</div>"
      ],
      "text/plain": [
       "                                          method  \\\n",
       "0                            Decision, Unanimous   \n",
       "1                                Decision, Split   \n",
       "2                            Decision, Unanimous   \n",
       "3                   Submission, Rear Naked Choke   \n",
       "4                            Submission, Kneebar   \n",
       "5                            Decision, Unanimous   \n",
       "6                            Decision, Unanimous   \n",
       "7   KO/TKO, Knee to the Body to Ground and Pound   \n",
       "8                 Submission, Arm Triangle Choke   \n",
       "9           Submission, One-Arm Guillotine Choke   \n",
       "10                             KO/TKO, Leg Kicks   \n",
       "\n",
       "                           length order          fighter_0      bout_type  \\\n",
       "0           5 Rounds, 25:00 Total    11      Gilbert Burns     Main Event   \n",
       "1           3 Rounds, 15:00 Total    10      Augusto Sakai  Co-Main Event   \n",
       "2           3 Rounds, 15:00 Total     9  Billy Quarantillo      Main Card   \n",
       "3   3:26 Round 2 of 3, 8:26 Total     8  Roosevelt Roberts      Main Card   \n",
       "4               2:36 Round 1 of 3     7     Mackenzie Dern      Main Card   \n",
       "5           3 Rounds, 15:00 Total     6  Katlyn Chookagian         Prelim   \n",
       "6           3 Rounds, 15:00 Total     5   Daniel Rodriguez         Prelim   \n",
       "7               1:51 Round 1 of 3     4       Jamahal Hill         Prelim   \n",
       "8   3:18 Round 2 of 3, 8:18 Total     3     Brandon Royval         Prelim   \n",
       "9               3:03 Round 1 of 3     2       Casey Kenney         Prelim   \n",
       "10  4:27 Round 2 of 3, 9:27 Total     1    Chris Gutierrez         Prelim   \n",
       "\n",
       "   weight_class scheduled_rounds            fighter_1  \\\n",
       "0           170            5 x 5        Tyron Woodley   \n",
       "1           265            3 x 5        Blagoy Ivanov   \n",
       "2           150            3 x 5        Spike Carlyle   \n",
       "3           155            3 x 5          Brok Weaver   \n",
       "4           115            3 x 5        Hannah Cifers   \n",
       "5           125            3 x 5  Antonina Shevchenko   \n",
       "6           170            3 x 5           Gabe Green   \n",
       "7           205            3 x 5        Klidson Abreu   \n",
       "8           125            3 x 5          Tim Elliott   \n",
       "9           135            3 x 5         Louis Smolka   \n",
       "10          145            3 x 5        Vince Morales   \n",
       "\n",
       "                                                 link  \\\n",
       "0   /fightcenter/bouts/501343-ufc-fight-night-tyro...   \n",
       "1   /fightcenter/bouts/501441-ufc-fight-night-blag...   \n",
       "2   /fightcenter/bouts/502990-ufc-fight-night-bill...   \n",
       "3   /fightcenter/bouts/502972-ufc-fight-night-roos...   \n",
       "4   /fightcenter/bouts/500998-ufc-fight-night-mack...   \n",
       "5   /fightcenter/bouts/502988-ufc-fight-night-katl...   \n",
       "6   /fightcenter/bouts/503985-ufc-fight-night-dani...   \n",
       "7   /fightcenter/bouts/500971-ufc-fight-night-jama...   \n",
       "8   /fightcenter/bouts/502983-ufc-fight-night-tim-...   \n",
       "9   /fightcenter/bouts/502982-ufc-fight-night-case...   \n",
       "10  /fightcenter/bouts/503015-ufc-fight-night-chri...   \n",
       "\n",
       "                                   event_link    referee        pro_am  \n",
       "0   /fightcenter/events/69127-ufc-fight-night  Herb Dean  Professional  \n",
       "1   /fightcenter/events/69127-ufc-fight-night        NaN           NaN  \n",
       "2   /fightcenter/events/69127-ufc-fight-night        NaN           NaN  \n",
       "3   /fightcenter/events/69127-ufc-fight-night        NaN           NaN  \n",
       "4   /fightcenter/events/69127-ufc-fight-night        NaN           NaN  \n",
       "5   /fightcenter/events/69127-ufc-fight-night        NaN           NaN  \n",
       "6   /fightcenter/events/69127-ufc-fight-night        NaN           NaN  \n",
       "7   /fightcenter/events/69127-ufc-fight-night        NaN           NaN  \n",
       "8   /fightcenter/events/69127-ufc-fight-night        NaN           NaN  \n",
       "9   /fightcenter/events/69127-ufc-fight-night        NaN           NaN  \n",
       "10  /fightcenter/events/69127-ufc-fight-night        NaN           NaN  "
      ]
     },
     "execution_count": 100,
     "metadata": {},
     "output_type": "execute_result"
    }
   ],
   "source": [
    "fightCard_df.join(missing_bout_info.set_index('link'), on='link')"
   ]
  }
 ],
 "metadata": {
  "kernelspec": {
   "display_name": "Python 3",
   "language": "python",
   "name": "python3"
  },
  "language_info": {
   "codemirror_mode": {
    "name": "ipython",
    "version": 3
   },
   "file_extension": ".py",
   "mimetype": "text/x-python",
   "name": "python",
   "nbconvert_exporter": "python",
   "pygments_lexer": "ipython3",
   "version": "3.8.1"
  }
 },
 "nbformat": 4,
 "nbformat_minor": 4
}
