{
 "cells": [
  {
   "cell_type": "code",
   "execution_count": 2,
   "metadata": {},
   "outputs": [],
   "source": [
    "%load_ext autoreload\n",
    "%autoreload 2\n",
    "\n",
    "import os\n",
    "import sys\n",
    "\n",
    "module_path = os.path.abspath(os.path.join(os.pardir))\n",
    "if module_path not in sys.path:\n",
    "    sys.path.append(module_path)\n",
    "\n",
    "import pandas as pd\n",
    "import numpy as np\n",
    "from bs4 import BeautifulSoup\n",
    "import requests\n",
    "from src import object_test"
   ]
  },
  {
   "cell_type": "markdown",
   "metadata": {},
   "source": [
    "## tor testing\n",
    "If i treat tor requests like normal requests, what happens?"
   ]
  },
  {
   "cell_type": "code",
   "execution_count": 3,
   "metadata": {},
   "outputs": [
    {
     "data": {
      "text/html": [
       "<div>\n",
       "<style scoped>\n",
       "    .dataframe tbody tr th:only-of-type {\n",
       "        vertical-align: middle;\n",
       "    }\n",
       "\n",
       "    .dataframe tbody tr th {\n",
       "        vertical-align: top;\n",
       "    }\n",
       "\n",
       "    .dataframe thead th {\n",
       "        text-align: right;\n",
       "    }\n",
       "</style>\n",
       "<table border=\"1\" class=\"dataframe\">\n",
       "  <thead>\n",
       "    <tr style=\"text-align: right;\">\n",
       "      <th></th>\n",
       "      <th>bouts</th>\n",
       "      <th>date</th>\n",
       "      <th>enclosure</th>\n",
       "      <th>event</th>\n",
       "      <th>index</th>\n",
       "      <th>link</th>\n",
       "      <th>location</th>\n",
       "      <th>name</th>\n",
       "      <th>start_time</th>\n",
       "      <th>venue</th>\n",
       "    </tr>\n",
       "  </thead>\n",
       "  <tbody>\n",
       "    <tr>\n",
       "      <th>0</th>\n",
       "      <td>12</td>\n",
       "      <td>2020-06-20</td>\n",
       "      <td>NaN</td>\n",
       "      <td>UFC Fight Night</td>\n",
       "      <td>22</td>\n",
       "      <td>/fightcenter/events/67608-ufc-on-espn</td>\n",
       "      <td>NaN</td>\n",
       "      <td>Blaydes vs. Volkov</td>\n",
       "      <td>NaN</td>\n",
       "      <td>NaN</td>\n",
       "    </tr>\n",
       "    <tr>\n",
       "      <th>1</th>\n",
       "      <td>10</td>\n",
       "      <td>2020-06-13</td>\n",
       "      <td>NaN</td>\n",
       "      <td>UFC Fight Night</td>\n",
       "      <td>23</td>\n",
       "      <td>/fightcenter/events/67562-ufc-on-espn</td>\n",
       "      <td>NaN</td>\n",
       "      <td>Eye vs. Calvillo</td>\n",
       "      <td>NaN</td>\n",
       "      <td>NaN</td>\n",
       "    </tr>\n",
       "    <tr>\n",
       "      <th>2</th>\n",
       "      <td>12</td>\n",
       "      <td>2020-06-06</td>\n",
       "      <td>NaN</td>\n",
       "      <td>UFC 250</td>\n",
       "      <td>24</td>\n",
       "      <td>/fightcenter/events/67364-ufc-251</td>\n",
       "      <td>NaN</td>\n",
       "      <td>Nunes vs. Spencer</td>\n",
       "      <td>NaN</td>\n",
       "      <td>NaN</td>\n",
       "    </tr>\n",
       "    <tr>\n",
       "      <th>3</th>\n",
       "      <td>11</td>\n",
       "      <td>2020-05-30</td>\n",
       "      <td>NaN</td>\n",
       "      <td>UFC Fight Night</td>\n",
       "      <td>25</td>\n",
       "      <td>/fightcenter/events/69127-ufc-fight-night</td>\n",
       "      <td>NaN</td>\n",
       "      <td>Woodley vs. Burns</td>\n",
       "      <td>NaN</td>\n",
       "      <td>NaN</td>\n",
       "    </tr>\n",
       "    <tr>\n",
       "      <th>4</th>\n",
       "      <td>11</td>\n",
       "      <td>2020-05-16</td>\n",
       "      <td>NaN</td>\n",
       "      <td>UFC Fight Night</td>\n",
       "      <td>26</td>\n",
       "      <td>/fightcenter/events/67412-ufc-on-espn-33</td>\n",
       "      <td>NaN</td>\n",
       "      <td>Overeem vs. Harris</td>\n",
       "      <td>NaN</td>\n",
       "      <td>NaN</td>\n",
       "    </tr>\n",
       "    <tr>\n",
       "      <th>...</th>\n",
       "      <td>...</td>\n",
       "      <td>...</td>\n",
       "      <td>...</td>\n",
       "      <td>...</td>\n",
       "      <td>...</td>\n",
       "      <td>...</td>\n",
       "      <td>...</td>\n",
       "      <td>...</td>\n",
       "      <td>...</td>\n",
       "      <td>...</td>\n",
       "    </tr>\n",
       "    <tr>\n",
       "      <th>498</th>\n",
       "      <td>10</td>\n",
       "      <td>1995-04-07</td>\n",
       "      <td>NaN</td>\n",
       "      <td>UFC 5</td>\n",
       "      <td>864</td>\n",
       "      <td>/fightcenter/events/ufc-5-return-of-the-beast</td>\n",
       "      <td>NaN</td>\n",
       "      <td>Return of the Beast</td>\n",
       "      <td>NaN</td>\n",
       "      <td>NaN</td>\n",
       "    </tr>\n",
       "    <tr>\n",
       "      <th>499</th>\n",
       "      <td>10</td>\n",
       "      <td>1994-12-16</td>\n",
       "      <td>NaN</td>\n",
       "      <td>UFC 4</td>\n",
       "      <td>865</td>\n",
       "      <td>/fightcenter/events/ufc-4-revenge-of-the-warriors</td>\n",
       "      <td>NaN</td>\n",
       "      <td>Revenge of the Warriors</td>\n",
       "      <td>NaN</td>\n",
       "      <td>NaN</td>\n",
       "    </tr>\n",
       "    <tr>\n",
       "      <th>500</th>\n",
       "      <td>6</td>\n",
       "      <td>1994-09-09</td>\n",
       "      <td>NaN</td>\n",
       "      <td>UFC 3</td>\n",
       "      <td>866</td>\n",
       "      <td>/fightcenter/events/ufc-3-the-american-dream</td>\n",
       "      <td>NaN</td>\n",
       "      <td>The American Dream</td>\n",
       "      <td>NaN</td>\n",
       "      <td>NaN</td>\n",
       "    </tr>\n",
       "    <tr>\n",
       "      <th>501</th>\n",
       "      <td>15</td>\n",
       "      <td>1994-03-11</td>\n",
       "      <td>NaN</td>\n",
       "      <td>UFC 2</td>\n",
       "      <td>867</td>\n",
       "      <td>/fightcenter/events/ufc-2-no-way-out</td>\n",
       "      <td>NaN</td>\n",
       "      <td>No Way Out</td>\n",
       "      <td>NaN</td>\n",
       "      <td>NaN</td>\n",
       "    </tr>\n",
       "    <tr>\n",
       "      <th>502</th>\n",
       "      <td>8</td>\n",
       "      <td>1993-11-12</td>\n",
       "      <td>NaN</td>\n",
       "      <td>UFC 1</td>\n",
       "      <td>868</td>\n",
       "      <td>/fightcenter/events/ufc-1-the-beginning</td>\n",
       "      <td>NaN</td>\n",
       "      <td>The Beginning</td>\n",
       "      <td>NaN</td>\n",
       "      <td>NaN</td>\n",
       "    </tr>\n",
       "  </tbody>\n",
       "</table>\n",
       "<p>503 rows × 10 columns</p>\n",
       "</div>"
      ],
      "text/plain": [
       "     bouts       date  enclosure            event  index  \\\n",
       "0       12 2020-06-20        NaN  UFC Fight Night     22   \n",
       "1       10 2020-06-13        NaN  UFC Fight Night     23   \n",
       "2       12 2020-06-06        NaN          UFC 250     24   \n",
       "3       11 2020-05-30        NaN  UFC Fight Night     25   \n",
       "4       11 2020-05-16        NaN  UFC Fight Night     26   \n",
       "..     ...        ...        ...              ...    ...   \n",
       "498     10 1995-04-07        NaN            UFC 5    864   \n",
       "499     10 1994-12-16        NaN            UFC 4    865   \n",
       "500      6 1994-09-09        NaN            UFC 3    866   \n",
       "501     15 1994-03-11        NaN            UFC 2    867   \n",
       "502      8 1993-11-12        NaN            UFC 1    868   \n",
       "\n",
       "                                                  link  location  \\\n",
       "0                /fightcenter/events/67608-ufc-on-espn       NaN   \n",
       "1                /fightcenter/events/67562-ufc-on-espn       NaN   \n",
       "2                    /fightcenter/events/67364-ufc-251       NaN   \n",
       "3            /fightcenter/events/69127-ufc-fight-night       NaN   \n",
       "4             /fightcenter/events/67412-ufc-on-espn-33       NaN   \n",
       "..                                                 ...       ...   \n",
       "498      /fightcenter/events/ufc-5-return-of-the-beast       NaN   \n",
       "499  /fightcenter/events/ufc-4-revenge-of-the-warriors       NaN   \n",
       "500       /fightcenter/events/ufc-3-the-american-dream       NaN   \n",
       "501               /fightcenter/events/ufc-2-no-way-out       NaN   \n",
       "502            /fightcenter/events/ufc-1-the-beginning       NaN   \n",
       "\n",
       "                        name  start_time  venue  \n",
       "0         Blaydes vs. Volkov         NaN    NaN  \n",
       "1           Eye vs. Calvillo         NaN    NaN  \n",
       "2          Nunes vs. Spencer         NaN    NaN  \n",
       "3          Woodley vs. Burns         NaN    NaN  \n",
       "4         Overeem vs. Harris         NaN    NaN  \n",
       "..                       ...         ...    ...  \n",
       "498      Return of the Beast         NaN    NaN  \n",
       "499  Revenge of the Warriors         NaN    NaN  \n",
       "500       The American Dream         NaN    NaN  \n",
       "501               No Way Out         NaN    NaN  \n",
       "502            The Beginning         NaN    NaN  \n",
       "\n",
       "[503 rows x 10 columns]"
      ]
     },
     "execution_count": 3,
     "metadata": {},
     "output_type": "execute_result"
    }
   ],
   "source": [
    "import torrequest\n",
    "\n",
    "search_page = torrequest.requests.get('https://www.tapology.com/search?term=ufc&mainSearchFilter=events').content\n",
    "\n",
    "events = object_test.events()\n",
    "events.create_events_df(search_page)\n",
    "events.table"
   ]
  },
  {
   "cell_type": "markdown",
   "metadata": {},
   "source": [
    "But how do I know it's anonymous? I didn't pass it my tor password or anything, so how do I know it's secure?"
   ]
  },
  {
   "cell_type": "code",
   "execution_count": 4,
   "metadata": {},
   "outputs": [
    {
     "name": "stdout",
     "output_type": "stream",
     "text": [
      "My Original IP Address: 73.72.178.29\n"
     ]
    }
   ],
   "source": [
    "response= requests.get('http://ipecho.net/plain')\n",
    "print (\"My Original IP Address:\",response.text)"
   ]
  },
  {
   "cell_type": "code",
   "execution_count": 5,
   "metadata": {},
   "outputs": [
    {
     "name": "stdout",
     "output_type": "stream",
     "text": [
      "New Ip Address 73.72.178.29\n"
     ]
    }
   ],
   "source": [
    "response= torrequest.requests.get('http://ipecho.net/plain')\n",
    "print (\"New Ip Address\",response.text)"
   ]
  },
  {
   "cell_type": "markdown",
   "metadata": {},
   "source": [
    "### Actual import\n",
    "\n",
    "This is how thay really want me to import it."
   ]
  },
  {
   "cell_type": "code",
   "execution_count": 6,
   "metadata": {},
   "outputs": [],
   "source": [
    "from torrequest import TorRequest\n"
   ]
  },
  {
   "cell_type": "code",
   "execution_count": 8,
   "metadata": {},
   "outputs": [
    {
     "name": "stdout",
     "output_type": "stream",
     "text": [
      "New Ip Address 79.172.193.32\n",
      "CPU times: user 38.1 ms, sys: 11.9 ms, total: 50 ms\n",
      "Wall time: 4.34 s\n"
     ]
    }
   ],
   "source": [
    "%%time\n",
    "tr=TorRequest(password='8453')\n",
    "tr.reset_identity_async() #Reset Tor\n",
    "response= tr.get('http://ipecho.net/plain')\n",
    "print (\"New Ip Address\",response.text)"
   ]
  },
  {
   "cell_type": "code",
   "execution_count": 7,
   "metadata": {},
   "outputs": [
    {
     "name": "stdout",
     "output_type": "stream",
     "text": [
      "New Ip Address 199.249.230.104\n",
      "CPU times: user 74.1 ms, sys: 17.3 ms, total: 91.4 ms\n",
      "Wall time: 10.9 s\n"
     ]
    }
   ],
   "source": [
    "%%time\n",
    "tr=TorRequest(password='8453')\n",
    "tr.reset_identity() #Reset Tor\n",
    "response= tr.get('http://ipecho.net/plain')\n",
    "print (\"New Ip Address\",response.text)"
   ]
  },
  {
   "cell_type": "markdown",
   "metadata": {},
   "source": [
    "### Troubleshooting\n",
    "I got an error like this: Process terminated: Failed to bind one of the listener ports.\n",
    "\n",
    "In order to get this to work, I had to kill the tor process. I did this by using grep tor to find the process id numbers for both tor processes and then sudo kill [PID]"
   ]
  },
  {
   "cell_type": "markdown",
   "metadata": {},
   "source": [
    "### Async tor reset test"
   ]
  },
  {
   "cell_type": "code",
   "execution_count": 9,
   "metadata": {},
   "outputs": [],
   "source": [
    "import time"
   ]
  },
  {
   "cell_type": "code",
   "execution_count": 10,
   "metadata": {},
   "outputs": [
    {
     "name": "stdout",
     "output_type": "stream",
     "text": [
      "New Ip Address 79.172.193.32\n",
      "New Ip Address 195.254.134.194\n",
      "CPU times: user 209 ms, sys: 32.8 ms, total: 242 ms\n",
      "Wall time: 16.7 s\n"
     ]
    }
   ],
   "source": [
    "%%time\n",
    "tr=TorRequest(password='8453')\n",
    "tr.reset_identity_async() #Reset Tor\n",
    "response= tr.get('http://ipecho.net/plain')\n",
    "print (\"New Ip Address\",response.text)\n",
    "\n",
    "time.sleep(15)\n",
    "tr=TorRequest(password='8453')\n",
    "tr.reset_identity_async() #Reset Tor\n",
    "response= tr.get('http://ipecho.net/plain')\n",
    "print (\"New Ip Address\",response.text)"
   ]
  },
  {
   "cell_type": "markdown",
   "metadata": {},
   "source": [
    "Takes about 12 seconds to reset the tor connection, so performing an asyncronous reset would most beneficial if the rest of the scraping algorithm took around that time. Otherwise, I run the rest of scraping too much of the website before the async reset catches up."
   ]
  },
  {
   "cell_type": "markdown",
   "metadata": {},
   "source": [
    "### User agent test"
   ]
  },
  {
   "cell_type": "code",
   "execution_count": 11,
   "metadata": {},
   "outputs": [],
   "source": [
    "user_agent = 'Mozilla/5.0 (X11; Linux x86_64) AppleWebKit/537.36 (KHTML, like Gecko) Chrome/83.0.4103.61 Safari/537.36'\n",
    "headers = {'User-Agent': user_agent} #set user agent\n",
    "\n",
    "url = 'https://www.tapology.com/fightcenter/fighters/51080-curtis-blaydes'\n",
    "response = tr.get(url, headers=headers)\n",
    "\n",
    "fighter_soup = BeautifulSoup(response.text)"
   ]
  },
  {
   "cell_type": "code",
   "execution_count": 12,
   "metadata": {},
   "outputs": [
    {
     "data": {
      "text/html": [
       "<div>\n",
       "<style scoped>\n",
       "    .dataframe tbody tr th:only-of-type {\n",
       "        vertical-align: middle;\n",
       "    }\n",
       "\n",
       "    .dataframe tbody tr th {\n",
       "        vertical-align: top;\n",
       "    }\n",
       "\n",
       "    .dataframe thead th {\n",
       "        text-align: right;\n",
       "    }\n",
       "</style>\n",
       "<table border=\"1\" class=\"dataframe\">\n",
       "  <thead>\n",
       "    <tr style=\"text-align: right;\">\n",
       "      <th></th>\n",
       "      <th>Name</th>\n",
       "      <th>ProMMARecord</th>\n",
       "      <th>Nickname</th>\n",
       "      <th>CurrentStreak</th>\n",
       "      <th>Age</th>\n",
       "      <th>DateofBirth</th>\n",
       "      <th>LastFight</th>\n",
       "      <th>WeightClass</th>\n",
       "      <th>LastWeigh-In</th>\n",
       "      <th>Affiliation</th>\n",
       "      <th>Height</th>\n",
       "      <th>Reach</th>\n",
       "      <th>CareerDisclosedEarnings</th>\n",
       "      <th>Born</th>\n",
       "      <th>Fightingoutof</th>\n",
       "      <th>College</th>\n",
       "      <th>FoundationStyle</th>\n",
       "      <th>FighterLinks</th>\n",
       "      <th>PersonalLinks</th>\n",
       "      <th>link</th>\n",
       "    </tr>\n",
       "  </thead>\n",
       "  <tbody>\n",
       "    <tr>\n",
       "      <th>0</th>\n",
       "      <td>Curtis Blaydes</td>\n",
       "      <td>14-2-0, 1 NC (Win-Loss-Draw)</td>\n",
       "      <td>Razor</td>\n",
       "      <td>4 Wins</td>\n",
       "      <td>29</td>\n",
       "      <td>1991.02.18</td>\n",
       "      <td>June 20, 2020\\nin\\nUFC</td>\n",
       "      <td>Heavyweight</td>\n",
       "      <td>261.0 lbs</td>\n",
       "      <td>Elevation Fight Team</td>\n",
       "      <td>6'4\" (193cm)</td>\n",
       "      <td>80.0\" (203cm)</td>\n",
       "      <td>$338,000 USD</td>\n",
       "      <td>Naperville, Illinois</td>\n",
       "      <td>Chicago, Illinois</td>\n",
       "      <td>Harper College</td>\n",
       "      <td>Wrestling</td>\n",
       "      <td></td>\n",
       "      <td></td>\n",
       "      <td>https://www.tapology.com/fightcenter/fighters/...</td>\n",
       "    </tr>\n",
       "  </tbody>\n",
       "</table>\n",
       "</div>"
      ],
      "text/plain": [
       "             Name                  ProMMARecord Nickname CurrentStreak Age  \\\n",
       "0  Curtis Blaydes  14-2-0, 1 NC (Win-Loss-Draw)    Razor        4 Wins  29   \n",
       "\n",
       "  DateofBirth               LastFight  WeightClass LastWeigh-In  \\\n",
       "0  1991.02.18  June 20, 2020\\nin\\nUFC  Heavyweight    261.0 lbs   \n",
       "\n",
       "            Affiliation        Height          Reach CareerDisclosedEarnings  \\\n",
       "0  Elevation Fight Team  6'4\" (193cm)  80.0\" (203cm)            $338,000 USD   \n",
       "\n",
       "                   Born      Fightingoutof         College FoundationStyle  \\\n",
       "0  Naperville, Illinois  Chicago, Illinois  Harper College       Wrestling   \n",
       "\n",
       "  FighterLinks PersonalLinks  \\\n",
       "0                              \n",
       "\n",
       "                                                link  \n",
       "0  https://www.tapology.com/fightcenter/fighters/...  "
      ]
     },
     "execution_count": 12,
     "metadata": {},
     "output_type": "execute_result"
    }
   ],
   "source": [
    "fighters_test = object_test.fighters()\n",
    "fighters_test.create_fighters_table(fighter_soup, url)\n",
    "fighters_test.table"
   ]
  },
  {
   "cell_type": "markdown",
   "metadata": {},
   "source": [
    "# User agent"
   ]
  },
  {
   "cell_type": "code",
   "execution_count": 18,
   "metadata": {},
   "outputs": [],
   "source": [
    "from fake_useragent import UserAgent\n",
    "\n",
    "ua = UserAgent()\n",
    "\n",
    "ua.random"
   ]
  },
  {
   "cell_type": "code",
   "execution_count": 19,
   "metadata": {},
   "outputs": [
    {
     "data": {
      "text/plain": [
       "'Mozilla/5.0 (Windows NT 5.1) AppleWebKit/537.36 (KHTML, like Gecko) Chrome/41.0.2224.3 Safari/537.36'"
      ]
     },
     "execution_count": 19,
     "metadata": {},
     "output_type": "execute_result"
    }
   ],
   "source": [
    "ua.random"
   ]
  },
  {
   "cell_type": "code",
   "execution_count": 20,
   "metadata": {},
   "outputs": [
    {
     "data": {
      "text/plain": [
       "'Mozilla/5.0 (Windows; U; Windows NT 6.1; cs-CZ) AppleWebKit/533.20.25 (KHTML, like Gecko) Version/5.0.4 Safari/533.20.27'"
      ]
     },
     "execution_count": 20,
     "metadata": {},
     "output_type": "execute_result"
    }
   ],
   "source": [
    "ua.random"
   ]
  },
  {
   "cell_type": "code",
   "execution_count": 21,
   "metadata": {},
   "outputs": [
    {
     "data": {
      "text/plain": [
       "'Mozilla/5.0 (X11; Linux x86_64) AppleWebKit/537.36 (KHTML, like Gecko) Chrome/41.0.2227.0 Safari/537.36'"
      ]
     },
     "execution_count": 21,
     "metadata": {},
     "output_type": "execute_result"
    }
   ],
   "source": [
    "ua.random"
   ]
  },
  {
   "cell_type": "code",
   "execution_count": 22,
   "metadata": {},
   "outputs": [
    {
     "data": {
      "text/plain": [
       "'Mozilla/5.0 (X11; Linux x86_64) AppleWebKit/537.36 (KHTML, like Gecko) Chrome/41.0.2227.0 Safari/537.36'"
      ]
     },
     "execution_count": 22,
     "metadata": {},
     "output_type": "execute_result"
    }
   ],
   "source": [
    "ua.random"
   ]
  },
  {
   "cell_type": "code",
   "execution_count": null,
   "metadata": {},
   "outputs": [],
   "source": []
  },
  {
   "cell_type": "code",
   "execution_count": 23,
   "metadata": {},
   "outputs": [
    {
     "data": {
      "text/plain": [
       "'Mozilla/5.0 (compatible; MSIE 10.0; Windows NT 7.0; InfoPath.3; .NET CLR 3.1.40767; Trident/6.0; en-IN)'"
      ]
     },
     "execution_count": 23,
     "metadata": {},
     "output_type": "execute_result"
    }
   ],
   "source": [
    "ua.random"
   ]
  },
  {
   "cell_type": "code",
   "execution_count": 24,
   "metadata": {},
   "outputs": [
    {
     "data": {
      "text/plain": [
       "'Mozilla/5.0 (Macintosh; Intel Mac OS X 10_9_0) AppleWebKit/537.36 (KHTML, like Gecko) Chrome/32.0.1664.3 Safari/537.36'"
      ]
     },
     "execution_count": 24,
     "metadata": {},
     "output_type": "execute_result"
    }
   ],
   "source": [
    "ua.random"
   ]
  },
  {
   "cell_type": "code",
   "execution_count": null,
   "metadata": {},
   "outputs": [],
   "source": []
  }
 ],
 "metadata": {
  "kernelspec": {
   "display_name": "Python 3",
   "language": "python",
   "name": "python3"
  },
  "language_info": {
   "codemirror_mode": {
    "name": "ipython",
    "version": 3
   },
   "file_extension": ".py",
   "mimetype": "text/x-python",
   "name": "python",
   "nbconvert_exporter": "python",
   "pygments_lexer": "ipython3",
   "version": "3.8.1"
  }
 },
 "nbformat": 4,
 "nbformat_minor": 4
}
